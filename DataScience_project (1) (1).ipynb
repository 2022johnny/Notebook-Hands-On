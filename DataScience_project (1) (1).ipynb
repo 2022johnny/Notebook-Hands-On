{
 "cells": [
  {
   "cell_type": "markdown",
   "id": "ed738e98",
   "metadata": {},
   "source": [
    "<h1>Unsupervised Learning Notebook: Mall Customers.</h1>\n",
    "\n",
    "\n",
    "we will test out one of the most popular unsupervised algorithms to create the customer segments of the mall using data collected from this mall. Through membership cards,we have some basic information about the customers like Customer ID, age, gender, annual income and spending score.\n",
    "We will then choose the best candidate algorithm from preliminary results and further optimize this algorithm to best model the data. Our goal with this implementation is to build a machine learning model to initialize the K number of centroids in the data and then find the optimal number of clusters using the Elbow method for that.To get some good results from our implementation we are going to go through the steps involved in K means clustering.\n",
    ".1) Select the number of clusters for the dataset ( K )\n",
    ".2) Select K number of centroids\n",
    ".3) By calculating the Euclidean distance or Manhattan distance assign the points to the nearest centroid, thus creating K groups\n",
    ".4) Now find the original centroid in each group\n",
    ".5) Again reassign the whole data point based on this new centroid, then repeat step 4 until the position of the centroid doesn’t change.\n",
    "\n",
    "\n",
    "\n",
    "\n",
    "\n",
    "\n",
    "\n"
   ]
  },
  {
   "cell_type": "markdown",
   "id": "40c9c0ec",
   "metadata": {},
   "source": [
    "Import python libraries for building and testing machine learning models."
   ]
  },
  {
   "cell_type": "code",
   "execution_count": 70,
   "id": "668d998e",
   "metadata": {},
   "outputs": [],
   "source": [
    "#import python libraries\n",
    "import pandas as pd\n",
    "import numpy as np\n",
    "from matplotlib import pyplot as plt\n",
    "import missingno as msno\n",
    "import seaborn as sns\n",
    "from sklearn.cluster import KMeans\n",
    "from sklearn.preprocessing import MinMaxScaler\n",
    "import warnings\n",
    "warnings.filterwarnings(\"ignore\")\n",
    "%matplotlib inline"
   ]
  },
  {
   "cell_type": "code",
   "execution_count": 71,
   "id": "a69755bb",
   "metadata": {},
   "outputs": [
    {
     "data": {
      "text/html": [
       "<div>\n",
       "<style scoped>\n",
       "    .dataframe tbody tr th:only-of-type {\n",
       "        vertical-align: middle;\n",
       "    }\n",
       "\n",
       "    .dataframe tbody tr th {\n",
       "        vertical-align: top;\n",
       "    }\n",
       "\n",
       "    .dataframe thead th {\n",
       "        text-align: right;\n",
       "    }\n",
       "</style>\n",
       "<table border=\"1\" class=\"dataframe\">\n",
       "  <thead>\n",
       "    <tr style=\"text-align: right;\">\n",
       "      <th></th>\n",
       "      <th>CustomerID</th>\n",
       "      <th>Genre</th>\n",
       "      <th>Age</th>\n",
       "      <th>Annual Income (k$)</th>\n",
       "      <th>Spending Score (1-100)</th>\n",
       "    </tr>\n",
       "  </thead>\n",
       "  <tbody>\n",
       "    <tr>\n",
       "      <th>0</th>\n",
       "      <td>1</td>\n",
       "      <td>Male</td>\n",
       "      <td>19</td>\n",
       "      <td>15</td>\n",
       "      <td>39</td>\n",
       "    </tr>\n",
       "    <tr>\n",
       "      <th>1</th>\n",
       "      <td>2</td>\n",
       "      <td>Male</td>\n",
       "      <td>21</td>\n",
       "      <td>15</td>\n",
       "      <td>81</td>\n",
       "    </tr>\n",
       "    <tr>\n",
       "      <th>2</th>\n",
       "      <td>3</td>\n",
       "      <td>Female</td>\n",
       "      <td>20</td>\n",
       "      <td>16</td>\n",
       "      <td>6</td>\n",
       "    </tr>\n",
       "    <tr>\n",
       "      <th>3</th>\n",
       "      <td>4</td>\n",
       "      <td>Female</td>\n",
       "      <td>23</td>\n",
       "      <td>16</td>\n",
       "      <td>77</td>\n",
       "    </tr>\n",
       "    <tr>\n",
       "      <th>4</th>\n",
       "      <td>5</td>\n",
       "      <td>Female</td>\n",
       "      <td>31</td>\n",
       "      <td>17</td>\n",
       "      <td>40</td>\n",
       "    </tr>\n",
       "    <tr>\n",
       "      <th>5</th>\n",
       "      <td>6</td>\n",
       "      <td>Female</td>\n",
       "      <td>22</td>\n",
       "      <td>17</td>\n",
       "      <td>76</td>\n",
       "    </tr>\n",
       "    <tr>\n",
       "      <th>6</th>\n",
       "      <td>7</td>\n",
       "      <td>Female</td>\n",
       "      <td>35</td>\n",
       "      <td>18</td>\n",
       "      <td>6</td>\n",
       "    </tr>\n",
       "    <tr>\n",
       "      <th>7</th>\n",
       "      <td>8</td>\n",
       "      <td>Female</td>\n",
       "      <td>23</td>\n",
       "      <td>18</td>\n",
       "      <td>94</td>\n",
       "    </tr>\n",
       "    <tr>\n",
       "      <th>8</th>\n",
       "      <td>9</td>\n",
       "      <td>Male</td>\n",
       "      <td>64</td>\n",
       "      <td>19</td>\n",
       "      <td>3</td>\n",
       "    </tr>\n",
       "    <tr>\n",
       "      <th>9</th>\n",
       "      <td>10</td>\n",
       "      <td>Female</td>\n",
       "      <td>30</td>\n",
       "      <td>19</td>\n",
       "      <td>72</td>\n",
       "    </tr>\n",
       "  </tbody>\n",
       "</table>\n",
       "</div>"
      ],
      "text/plain": [
       "   CustomerID   Genre  Age  Annual Income (k$)  Spending Score (1-100)\n",
       "0           1    Male   19                  15                      39\n",
       "1           2    Male   21                  15                      81\n",
       "2           3  Female   20                  16                       6\n",
       "3           4  Female   23                  16                      77\n",
       "4           5  Female   31                  17                      40\n",
       "5           6  Female   22                  17                      76\n",
       "6           7  Female   35                  18                       6\n",
       "7           8  Female   23                  18                      94\n",
       "8           9    Male   64                  19                       3\n",
       "9          10  Female   30                  19                      72"
      ]
     },
     "execution_count": 71,
     "metadata": {},
     "output_type": "execute_result"
    }
   ],
   "source": [
    "#upload the dataset for exploring\n",
    "dataset_cluster=pd.read_csv('Mall_Customers.csv')\n",
    "#Have a look at top 10 rows of the dataset\n",
    "dataset_cluster.head(10)"
   ]
  },
  {
   "cell_type": "code",
   "execution_count": 72,
   "id": "db677a6d",
   "metadata": {},
   "outputs": [
    {
     "data": {
      "text/html": [
       "<div>\n",
       "<style scoped>\n",
       "    .dataframe tbody tr th:only-of-type {\n",
       "        vertical-align: middle;\n",
       "    }\n",
       "\n",
       "    .dataframe tbody tr th {\n",
       "        vertical-align: top;\n",
       "    }\n",
       "\n",
       "    .dataframe thead th {\n",
       "        text-align: right;\n",
       "    }\n",
       "</style>\n",
       "<table border=\"1\" class=\"dataframe\">\n",
       "  <thead>\n",
       "    <tr style=\"text-align: right;\">\n",
       "      <th></th>\n",
       "      <th>Age</th>\n",
       "      <th>Annual Income (k$)</th>\n",
       "      <th>Spending Score (1-100)</th>\n",
       "    </tr>\n",
       "  </thead>\n",
       "  <tbody>\n",
       "    <tr>\n",
       "      <th>0</th>\n",
       "      <td>19</td>\n",
       "      <td>15</td>\n",
       "      <td>39</td>\n",
       "    </tr>\n",
       "    <tr>\n",
       "      <th>1</th>\n",
       "      <td>21</td>\n",
       "      <td>15</td>\n",
       "      <td>81</td>\n",
       "    </tr>\n",
       "    <tr>\n",
       "      <th>2</th>\n",
       "      <td>20</td>\n",
       "      <td>16</td>\n",
       "      <td>6</td>\n",
       "    </tr>\n",
       "    <tr>\n",
       "      <th>3</th>\n",
       "      <td>23</td>\n",
       "      <td>16</td>\n",
       "      <td>77</td>\n",
       "    </tr>\n",
       "    <tr>\n",
       "      <th>4</th>\n",
       "      <td>31</td>\n",
       "      <td>17</td>\n",
       "      <td>40</td>\n",
       "    </tr>\n",
       "  </tbody>\n",
       "</table>\n",
       "</div>"
      ],
      "text/plain": [
       "   Age  Annual Income (k$)  Spending Score (1-100)\n",
       "0   19                  15                      39\n",
       "1   21                  15                      81\n",
       "2   20                  16                       6\n",
       "3   23                  16                      77\n",
       "4   31                  17                      40"
      ]
     },
     "execution_count": 72,
     "metadata": {},
     "output_type": "execute_result"
    }
   ],
   "source": [
    "#let's choose the numeric columns\n",
    "dataset=dataset_cluster[[\"Age\", \"Annual Income (k$)\",\"Spending Score (1-100)\"]]\n",
    "dataset.head(5)"
   ]
  },
  {
   "cell_type": "markdown",
   "id": "5d508ea0",
   "metadata": {},
   "source": [
    "<h2>Exploratory Data Analysis:</h2>\n",
    "\n",
    "Exploratory Data Analysis refers to the critical process of performing initial investigations on data to discover patterns, spot anomalies, test hypotheses, and check assumptions with the help of summary statistics and graphical representations. we are going to explore every column in the dataset to gain insights\n"
   ]
  },
  {
   "cell_type": "markdown",
   "id": "8fc6562b",
   "metadata": {},
   "source": [
    "<h3>Dataset Description</h3>\n",
    "Let's take a look at the following features about each customer in the database:\n",
    ".format(Customer id,Age,Annual income,Spending score,Gender))\n",
    "Customer id : define the id of a customer \n",
    "Age: defines the customer's age \n",
    "Annual income: defines the annual income for each customer\n",
    "Spending score: defines the spending score for each customer during a period\n",
    "Gender: defines the customer's gender "
   ]
  },
  {
   "cell_type": "code",
   "execution_count": 73,
   "id": "3cde1026",
   "metadata": {},
   "outputs": [
    {
     "name": "stdout",
     "output_type": "stream",
     "text": [
      "Age                       0\n",
      "Annual Income (k$)        0\n",
      "Spending Score (1-100)    0\n",
      "dtype: int64\n"
     ]
    }
   ],
   "source": [
    "#Let's check the missing data\n",
    "print(dataset.isnull().sum())"
   ]
  },
  {
   "cell_type": "markdown",
   "id": "bfa1a0b1",
   "metadata": {},
   "source": [
    "The dataset does not contains the missing data."
   ]
  },
  {
   "cell_type": "code",
   "execution_count": 74,
   "id": "315cc1ff",
   "metadata": {},
   "outputs": [
    {
     "name": "stdout",
     "output_type": "stream",
     "text": [
      "<class 'pandas.core.frame.DataFrame'>\n",
      "RangeIndex: 200 entries, 0 to 199\n",
      "Data columns (total 3 columns):\n",
      " #   Column                  Non-Null Count  Dtype\n",
      "---  ------                  --------------  -----\n",
      " 0   Age                     200 non-null    int64\n",
      " 1   Annual Income (k$)      200 non-null    int64\n",
      " 2   Spending Score (1-100)  200 non-null    int64\n",
      "dtypes: int64(3)\n",
      "memory usage: 4.8 KB\n"
     ]
    }
   ],
   "source": [
    "#Checking out the dataset\n",
    "dataset.info()"
   ]
  },
  {
   "cell_type": "code",
   "execution_count": 75,
   "id": "0acaaf7b",
   "metadata": {},
   "outputs": [
    {
     "name": "stdout",
     "output_type": "stream",
     "text": [
      "0      False\n",
      "1      False\n",
      "2      False\n",
      "3      False\n",
      "4      False\n",
      "       ...  \n",
      "195    False\n",
      "196    False\n",
      "197    False\n",
      "198    False\n",
      "199    False\n",
      "Length: 200, dtype: bool\n"
     ]
    }
   ],
   "source": [
    "#check out duplicated values\n",
    "print(dataset.duplicated())            "
   ]
  },
  {
   "cell_type": "markdown",
   "id": "7b6e6095",
   "metadata": {},
   "source": [
    "The dataset does not contains the duplicated data."
   ]
  },
  {
   "cell_type": "code",
   "execution_count": 76,
   "id": "b2bd1ca9",
   "metadata": {},
   "outputs": [
    {
     "data": {
      "text/html": [
       "<div>\n",
       "<style scoped>\n",
       "    .dataframe tbody tr th:only-of-type {\n",
       "        vertical-align: middle;\n",
       "    }\n",
       "\n",
       "    .dataframe tbody tr th {\n",
       "        vertical-align: top;\n",
       "    }\n",
       "\n",
       "    .dataframe thead th {\n",
       "        text-align: right;\n",
       "    }\n",
       "</style>\n",
       "<table border=\"1\" class=\"dataframe\">\n",
       "  <thead>\n",
       "    <tr style=\"text-align: right;\">\n",
       "      <th></th>\n",
       "      <th>Age</th>\n",
       "      <th>Annual Income (k$)</th>\n",
       "      <th>Spending Score (1-100)</th>\n",
       "    </tr>\n",
       "  </thead>\n",
       "  <tbody>\n",
       "    <tr>\n",
       "      <th>Age</th>\n",
       "      <td>1.000000</td>\n",
       "      <td>-0.012398</td>\n",
       "      <td>-0.327227</td>\n",
       "    </tr>\n",
       "    <tr>\n",
       "      <th>Annual Income (k$)</th>\n",
       "      <td>-0.012398</td>\n",
       "      <td>1.000000</td>\n",
       "      <td>0.009903</td>\n",
       "    </tr>\n",
       "    <tr>\n",
       "      <th>Spending Score (1-100)</th>\n",
       "      <td>-0.327227</td>\n",
       "      <td>0.009903</td>\n",
       "      <td>1.000000</td>\n",
       "    </tr>\n",
       "  </tbody>\n",
       "</table>\n",
       "</div>"
      ],
      "text/plain": [
       "                             Age  Annual Income (k$)  Spending Score (1-100)\n",
       "Age                     1.000000           -0.012398               -0.327227\n",
       "Annual Income (k$)     -0.012398            1.000000                0.009903\n",
       "Spending Score (1-100) -0.327227            0.009903                1.000000"
      ]
     },
     "execution_count": 76,
     "metadata": {},
     "output_type": "execute_result"
    }
   ],
   "source": [
    "#let's see how is the correlation looks like\n",
    "correlations= dataset.corr()\n",
    "correlations"
   ]
  },
  {
   "cell_type": "markdown",
   "id": "dd246011",
   "metadata": {},
   "source": [
    "As we can see there is no linear relationship between the variables."
   ]
  },
  {
   "cell_type": "code",
   "execution_count": 77,
   "id": "0855043d",
   "metadata": {},
   "outputs": [
    {
     "name": "stdout",
     "output_type": "stream",
     "text": [
      "              Age  Annual Income (k$)  Spending Score (1-100)\n",
      "count  200.000000          200.000000              200.000000\n",
      "mean    38.850000           60.560000               50.200000\n",
      "std     13.969007           26.264721               25.823522\n",
      "min     18.000000           15.000000                1.000000\n",
      "25%     28.750000           41.500000               34.750000\n",
      "50%     36.000000           61.500000               50.000000\n",
      "75%     49.000000           78.000000               73.000000\n",
      "max     70.000000          137.000000               99.000000\n"
     ]
    }
   ],
   "source": [
    "#The describe() method shows a summary of the numerical attributes\n",
    "print(dataset.describe())"
   ]
  },
  {
   "cell_type": "markdown",
   "id": "e69f4c73",
   "metadata": {},
   "source": [
    "As we can see the mean of annual income of customer is 60.560000 dollars,the mean of spending score of customer is 50.2000 dollars,the max annual income of the customer is 137.000000 dollars and the max spending score of customer is 99.00000 dollars.\n"
   ]
  },
  {
   "cell_type": "code",
   "execution_count": 78,
   "id": "ae666992",
   "metadata": {},
   "outputs": [],
   "source": [
    "#Rename columns\n",
    "dataset.rename(columns={'Annual Income (k$)':'Annual_Income','Spending Score (1-100)':\\\n",
    "                                'Spending_Score'}, inplace= True)"
   ]
  },
  {
   "cell_type": "code",
   "execution_count": 79,
   "id": "4439650f",
   "metadata": {},
   "outputs": [
    {
     "name": "stdout",
     "output_type": "stream",
     "text": [
      "     Age  Annual_Income  Spending_Score\n",
      "198   32            137              18\n",
      "199   30            137              83\n"
     ]
    }
   ],
   "source": [
    "#let's verify the employee earned the max annual income\n",
    "print(dataset[dataset[\"Annual_Income\"]==137.000000])    \n",
    "#clusters[clusters[\"Spending_Score\"]==99.000000]"
   ]
  },
  {
   "cell_type": "markdown",
   "id": "d5a475ee",
   "metadata": {},
   "source": [
    "we have two customers that have earned the maximum annual income in the data, the first one is 32 years old, he has a customer id 198, and his spending score is equal to 18.000 dollars. The second, is 30 years old, he has a customer id 199, and his spending score is equal to 83.0000 dollars"
   ]
  },
  {
   "cell_type": "markdown",
   "id": "c6c7b6d6",
   "metadata": {},
   "source": [
    "<h3>Data visualization:</h3>\n",
    "Let's plot a histogram of these four features and see how they are distributed.\n",
    "\n",
    "A good way to visualize the distribution of a numeric variable is a histogram. But what do they consist of? Histograms are a way of displaying the distribution of a dataset by plotting the number or percentage of observations whose values ​​fall within predefined numerical ranges and then plotting those numbers or percentages on a bar chart. That is, in a histogram, the data is placed in intervals and the height of the bars represents the number of cases that fall in each interval. In other words, a histogram provides a view of data density.\n",
    "\n",
    "Distributions can be unimodal with one prominent peak, bimodal with two prominent peaks, or uniform without prominent peaks. With more than two prominent peaks a distribution is generally said to be multimodal.\n",
    "\n",
    "\n"
   ]
  },
  {
   "cell_type": "code",
   "execution_count": 81,
   "id": "330b896e",
   "metadata": {},
   "outputs": [
    {
     "name": "stdout",
     "output_type": "stream",
     "text": [
      "AxesSubplot(0.125,0.125;0.775x0.755)\n"
     ]
    },
    {
     "data": {
      "image/png": "[encoded data removed]",
      "text/plain": [
       "<Figure size 1800x720 with 3 Axes>"
      ]
     },
     "metadata": {
      "needs_background": "light"
     },
     "output_type": "display_data"
    }
   ],
   "source": [
    "#check out missing data with msno \n",
    "print(msno.bar(dataset))"
   ]
  },
  {
   "cell_type": "code",
   "execution_count": 82,
   "id": "a5ee9893",
   "metadata": {},
   "outputs": [
    {
     "name": "stdout",
     "output_type": "stream",
     "text": [
      "AxesSubplot(0.125,0.125;0.62x0.755)\n"
     ]
    },
    {
     "data": {
      "image/png": "[encoded data removed]",
      "text/plain": [
       "<Figure size 432x504 with 2 Axes>"
      ]
     },
     "metadata": {
      "needs_background": "light"
     },
     "output_type": "display_data"
    }
   ],
   "source": [
    "#matrix of correlation\n",
    "f, ax= plt.subplots(figsize=(6,7))\n",
    "print(sns.heatmap(correlations, annot=True))"
   ]
  },
  {
   "cell_type": "code",
   "execution_count": 12,
   "id": "663195e3",
   "metadata": {},
   "outputs": [
    {
     "name": "stderr",
     "output_type": "stream",
     "text": [
      "C:\\Users\\gchri\\anaconda3\\lib\\site-packages\\seaborn\\distributions.py:2557: FutureWarning: `distplot` is a deprecated function and will be removed in a future version. Please adapt your code to use either `displot` (a figure-level function with similar flexibility) or `histplot` (an axes-level function for histograms).\n",
      "  warnings.warn(msg, FutureWarning)\n"
     ]
    },
    {
     "data": {
      "image/png": "[encoded data removed]",
      "text/plain": [
       "<Figure size 432x288 with 1 Axes>"
      ]
     },
     "metadata": {
      "needs_background": "light"
     },
     "output_type": "display_data"
    }
   ],
   "source": [
    "#let's see how the distribution of the attribute age looks like\n",
    "sns.distplot(dataset.Age);\n"
   ]
  },
  {
   "cell_type": "code",
   "execution_count": 25,
   "id": "aaa7b1d9",
   "metadata": {},
   "outputs": [
    {
     "name": "stderr",
     "output_type": "stream",
     "text": [
      "C:\\Users\\gchri\\anaconda3\\lib\\site-packages\\seaborn\\distributions.py:2557: FutureWarning: `distplot` is a deprecated function and will be removed in a future version. Please adapt your code to use either `displot` (a figure-level function with similar flexibility) or `histplot` (an axes-level function for histograms).\n",
      "  warnings.warn(msg, FutureWarning)\n"
     ]
    },
    {
     "data": {
      "image/png": "[encoded data removed]",
      "text/plain": [
       "<Figure size 432x288 with 1 Axes>"
      ]
     },
     "metadata": {
      "needs_background": "light"
     },
     "output_type": "display_data"
    }
   ],
   "source": [
    "#let's see how the distribution of the attribute age looks like\n",
    "sns.distplot(dataset.Annual_Income);"
   ]
  },
  {
   "cell_type": "code",
   "execution_count": 24,
   "id": "204fb15a",
   "metadata": {},
   "outputs": [
    {
     "name": "stdout",
     "output_type": "stream",
     "text": [
      "0.48191947090957177\n"
     ]
    }
   ],
   "source": [
    "from scipy import stats\n",
    "print(stats.skew(dataset.Age))"
   ]
  },
  {
   "cell_type": "code",
   "execution_count": 26,
   "id": "aee8e17d",
   "metadata": {},
   "outputs": [
    {
     "name": "stdout",
     "output_type": "stream",
     "text": [
      "0.319423684276314\n"
     ]
    }
   ],
   "source": [
    "from scipy import stats\n",
    "print(stats.skew(dataset.Annual_Income))"
   ]
  },
  {
   "cell_type": "code",
   "execution_count": 58,
   "id": "9323aba3",
   "metadata": {},
   "outputs": [
    {
     "data": {
      "text/html": [
       "<div>\n",
       "<style scoped>\n",
       "    .dataframe tbody tr th:only-of-type {\n",
       "        vertical-align: middle;\n",
       "    }\n",
       "\n",
       "    .dataframe tbody tr th {\n",
       "        vertical-align: top;\n",
       "    }\n",
       "\n",
       "    .dataframe thead th {\n",
       "        text-align: right;\n",
       "    }\n",
       "</style>\n",
       "<table border=\"1\" class=\"dataframe\">\n",
       "  <thead>\n",
       "    <tr style=\"text-align: right;\">\n",
       "      <th></th>\n",
       "      <th>Age</th>\n",
       "      <th>Annual_Income</th>\n",
       "      <th>Spending_Score</th>\n",
       "    </tr>\n",
       "  </thead>\n",
       "  <tbody>\n",
       "    <tr>\n",
       "      <th>0</th>\n",
       "      <td>0.019231</td>\n",
       "      <td>0.000000</td>\n",
       "      <td>0.387755</td>\n",
       "    </tr>\n",
       "    <tr>\n",
       "      <th>1</th>\n",
       "      <td>0.057692</td>\n",
       "      <td>0.000000</td>\n",
       "      <td>0.816327</td>\n",
       "    </tr>\n",
       "    <tr>\n",
       "      <th>2</th>\n",
       "      <td>0.038462</td>\n",
       "      <td>0.008197</td>\n",
       "      <td>0.051020</td>\n",
       "    </tr>\n",
       "    <tr>\n",
       "      <th>3</th>\n",
       "      <td>0.096154</td>\n",
       "      <td>0.008197</td>\n",
       "      <td>0.775510</td>\n",
       "    </tr>\n",
       "    <tr>\n",
       "      <th>4</th>\n",
       "      <td>0.250000</td>\n",
       "      <td>0.016393</td>\n",
       "      <td>0.397959</td>\n",
       "    </tr>\n",
       "  </tbody>\n",
       "</table>\n",
       "</div>"
      ],
      "text/plain": [
       "        Age  Annual_Income  Spending_Score\n",
       "0  0.019231       0.000000        0.387755\n",
       "1  0.057692       0.000000        0.816327\n",
       "2  0.038462       0.008197        0.051020\n",
       "3  0.096154       0.008197        0.775510\n",
       "4  0.250000       0.016393        0.397959"
      ]
     },
     "execution_count": 58,
     "metadata": {},
     "output_type": "execute_result"
    }
   ],
   "source": [
    "#Apply minmax\n",
    "minmax = MinMaxScaler()\n",
    "minmax.fit(dataset)\n",
    "normalize = minmax.transform(dataset)\n",
    "normalize=pd.DataFrame(normalize, columns=[\"Age\", \"Annual_Income\", \"Spending_Score\"])\n",
    "normalize.head()"
   ]
  },
  {
   "cell_type": "code",
   "execution_count": 59,
   "id": "cc17c320",
   "metadata": {},
   "outputs": [
    {
     "data": {
      "text/plain": [
       "array([1, 1, 0, 1, 1, 1, 0, 1, 0, 1, 0, 1, 0, 1, 0, 1, 0, 1, 0, 1, 0, 1,\n",
       "       0, 1, 0, 1, 0, 1, 0, 1, 0, 1, 0, 1, 0, 1, 0, 1, 0, 1, 0, 1, 0, 1,\n",
       "       0, 1, 0, 1, 1, 1, 0, 1, 1, 0, 0, 0, 0, 0, 1, 0, 0, 1, 0, 0, 0, 1,\n",
       "       0, 0, 1, 1, 0, 0, 0, 0, 0, 1, 0, 0, 1, 0, 0, 1, 0, 0, 1, 0, 0, 1,\n",
       "       1, 0, 0, 1, 0, 0, 1, 1, 0, 1, 0, 1, 1, 0, 0, 1, 0, 1, 0, 0, 0, 0,\n",
       "       0, 1, 0, 1, 1, 1, 0, 0, 0, 0, 1, 0, 1, 1, 1, 1, 0, 1, 0, 1, 0, 1,\n",
       "       1, 1, 0, 1, 0, 1, 0, 1, 0, 1, 1, 1, 0, 1, 0, 1, 0, 1, 0, 1, 0, 1,\n",
       "       0, 1, 0, 1, 0, 1, 0, 1, 0, 1, 0, 1, 0, 1, 0, 1, 0, 1, 0, 1, 0, 1,\n",
       "       0, 1, 0, 1, 0, 1, 0, 1, 0, 1, 0, 1, 0, 1, 0, 1, 0, 1, 0, 1, 0, 1,\n",
       "       0, 1])"
      ]
     },
     "execution_count": 59,
     "metadata": {},
     "output_type": "execute_result"
    }
   ],
   "source": [
    "#let's fit kmeans model\n",
    "kmeans = KMeans(2)\n",
    "kmeans.fit(normalize)\n",
    "clusters = kmeans.fit_predict(normalize)\n",
    "clusters"
   ]
  },
  {
   "cell_type": "markdown",
   "id": "084f3d12",
   "metadata": {},
   "source": [
    "<h3>K-Means machine learning model:</h3>\n",
    "K-Means Clustering Algorithm in Machine Learning,clustering is an unsupervised machine learning technique. It is the process of division of the dataset into groups in which the members in the same group possess similarities in features. The commonly used clustering algorithms are K-Means clustering, Hierarchical clustering, Density-based clustering, Model-based clustering, etc.\n"
   ]
  },
  {
   "cell_type": "code",
   "execution_count": 69,
   "id": "d57bbb76",
   "metadata": {},
   "outputs": [],
   "source": [
    "#Let's remove unnecessaries variable\n",
    "#x_feature=normalize.iloc[:, [1, 2]]\n",
    "#x_feature.head(2)"
   ]
  },
  {
   "cell_type": "code",
   "execution_count": 64,
   "id": "ea4b512e",
   "metadata": {},
   "outputs": [
    {
     "data": {
      "image/png": "[encoded data removed]",
      "text/plain": [
       "<Figure size 432x288 with 1 Axes>"
      ]
     },
     "metadata": {
      "needs_background": "light"
     },
     "output_type": "display_data"
    }
   ],
   "source": [
    "#Let's remove unnecessaries variable\n",
    "#x_feature=dataset_cluster.iloc[:, [3, 4]]\n",
    "\n",
    "#using kmeans for clustering\n",
    "from sklearn.cluster import KMeans\n",
    "wcss=[]\n",
    "for i in range(1, 10 ):\n",
    "    kmeans_clusters= KMeans(n_clusters= i, init= 'k-means++', random_state= 42)\n",
    "    kmeans_clusters.fit(normalize)\n",
    "    wcss.append(kmeans_clusters.inertia_)\n",
    "    \n",
    "    \n",
    "plt.plot(range(1, 10), wcss)\n",
    "plt.title('Elbow method graph')\n",
    "plt.xlabel('k cluster')\n",
    "plt.ylabel('wcss')\n",
    "plt.show()    "
   ]
  },
  {
   "cell_type": "code",
   "execution_count": 68,
   "id": "9b018393",
   "metadata": {},
   "outputs": [
    {
     "data": {
      "text/plain": [
       "<AxesSubplot:xlabel='Spending_Score', ylabel='Annual_Income'>"
      ]
     },
     "execution_count": 68,
     "metadata": {},
     "output_type": "execute_result"
    },
    {
     "data": {
      "image/png": "[encoded data removed]",
      "text/plain": [
       "<Figure size 432x288 with 1 Axes>"
      ]
     },
     "metadata": {
      "needs_background": "light"
     },
     "output_type": "display_data"
    }
   ],
   "source": [
    "#Geração dos clusters\n",
    "kmeans = KMeans(n_clusters=4 ,init=\"k-means++\")\n",
    "kmeans = kmeans.fit(dataset)\n",
    "dataset['Clusters'] = kmeans.labels_\n",
    "sns.scatterplot(x=\"Spending_Score\", y=\"Annual_Income\",hue = 'Clusters',\\\n",
    "                data=dataset)"
   ]
  },
  {
   "cell_type": "markdown",
   "id": "4918f41e",
   "metadata": {},
   "source": [
    "<h3>Conclusion</h3>\n",
    "\n",
    "After following step by step all the phases of the data science project life cycle. K-means clustering algorithm was the model selected to make the segmentation of customers. we defined the optimal number of clusters equal to five using the Elbow method, we discovered that cluster number 3 and cluster number5 are groups in which the customers possess the same similarities in features. They have much more annual income and have less spending score.\n",
    "\n",
    "In the upcoming step, we can set more numbers of clusters or decrease the number of clusters."
   ]
  }
 ],
 "metadata": {
  "kernelspec": {
   "display_name": "Python 3",
   "language": "python",
   "name": "python3"
  },
  "language_info": {
   "codemirror_mode": {
    "name": "ipython",
    "version": 3
   },
   "file_extension": ".py",
   "mimetype": "text/x-python",
   "name": "python",
   "nbconvert_exporter": "python",
   "pygments_lexer": "ipython3",
   "version": "3.8.8"
  }
 },
 "nbformat": 4,
 "nbformat_minor": 5
}
