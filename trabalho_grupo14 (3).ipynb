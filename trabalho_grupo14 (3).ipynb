{
 "cells": [
  {
   "cell_type": "markdown",
   "id": "6296b540",
   "metadata": {},
   "source": [
    "<h6>Trabalho Grupo14 -ciência de dados</h6>\n"
   ]
  },
  {
   "cell_type": "markdown",
   "id": "5ea6bd1d",
   "metadata": {},
   "source": [
    "<h6>sobre o conjunto de dados</h6>\n",
    "Este conjunto de dados descreve os resultados das campanhas de marketing do banco em Portugal. As campanhas realizadas basearam-se maioritariamente em chamadas telefónicas diretas, oferecendo ao cliente bancário a realização de um depósito a prazo. Se depois de todos os esforços de marcação, o cliente concordou em colocar depósito - variável de destino marcada como 'sim', caso contrário, 'não'\n",
    "\n",
    "\n",
    "De onde achar este base  <a href=\" https://www.kaggle.com/datasets/sahistapatel96/bankadditionalfullcsv?select=bank-additional-full.csv\">kaggle.com</a>"
   ]
  },
  {
   "cell_type": "markdown",
   "id": "af0fec12",
   "metadata": {},
   "source": [
    "<h6>Importar bibliotecas python necessárias</h6>"
   ]
  },
  {
   "cell_type": "code",
   "execution_count": 420,
   "id": "045b9404",
   "metadata": {},
   "outputs": [],
   "source": [
    "#bibliotecas python\n",
    "import pandas as pd\n",
    "import numpy as np \n",
    "from matplotlib import pyplot as plt\n",
    "import seaborn as sns\n",
    "import missingno as msno\n",
    "from scipy import stats\n",
    "pd.set_option('display.max_columns', None )\n",
    "%matplotlib inline"
   ]
  },
  {
   "cell_type": "code",
   "execution_count": 421,
   "id": "a426f4a2",
   "metadata": {},
   "outputs": [],
   "source": [
    "#importa modelos \n",
    "from sklearn.linear_model import LogisticRegression\n",
    "from sklearn.dummy import DummyClassifier\n",
    "from sklearn.tree import DecisionTreeClassifier\n",
    "from sklearn.preprocessing import OneHotEncoder\n",
    "from sklearn.preprocessing import LabelEncoder,StandardScaler\n",
    "from sklearn.metrics import classification_report,confusion_matrix,plot_roc_curve\n",
    "from statsmodels.stats.outliers_influence import variance_inflation_factor\n",
    "from statsmodels.tools.tools import add_constant\n",
    "from sklearn.model_selection import train_test_split\n",
    "from sklearn.model_selection import GridSearchCV\n",
    "from sklearn import metrics\n",
    "import statsmodels.api as sm\n",
    "import statsmodels.formula.api as smf\n",
    "import warnings\n",
    "warnings.filterwarnings(\"ignore\")"
   ]
  },
  {
   "cell_type": "code",
   "execution_count": 374,
   "id": "27a8e406",
   "metadata": {},
   "outputs": [],
   "source": [
    "#dataset=pd.read_csv('bank-additional.csv',index_col=False, quotechar='\"')"
   ]
  },
  {
   "cell_type": "code",
   "execution_count": 422,
   "id": "12a42093",
   "metadata": {},
   "outputs": [],
   "source": [
    "#carregar o conjunto de dados\n",
    "bank_data= pd.read_csv(\"bank-additional.csv\")"
   ]
  },
  {
   "cell_type": "code",
   "execution_count": 423,
   "id": "397e9b73",
   "metadata": {},
   "outputs": [
    {
     "data": {
      "text/plain": [
       "(41188, 21)"
      ]
     },
     "execution_count": 423,
     "metadata": {},
     "output_type": "execute_result"
    }
   ],
   "source": [
    "#verificamos quantidade de linhas e de colunas tem na base\n",
    "bank_data.shape"
   ]
  },
  {
   "cell_type": "code",
   "execution_count": 424,
   "id": "c0df255a",
   "metadata": {},
   "outputs": [
    {
     "data": {
      "text/html": [
       "<div>\n",
       "<style scoped>\n",
       "    .dataframe tbody tr th:only-of-type {\n",
       "        vertical-align: middle;\n",
       "    }\n",
       "\n",
       "    .dataframe tbody tr th {\n",
       "        vertical-align: top;\n",
       "    }\n",
       "\n",
       "    .dataframe thead th {\n",
       "        text-align: right;\n",
       "    }\n",
       "</style>\n",
       "<table border=\"1\" class=\"dataframe\">\n",
       "  <thead>\n",
       "    <tr style=\"text-align: right;\">\n",
       "      <th></th>\n",
       "      <th>index,\"age</th>\n",
       "      <th>job\"\"</th>\n",
       "      <th>marital\"\"</th>\n",
       "      <th>education\"\"</th>\n",
       "      <th>default\"\"</th>\n",
       "      <th>housing\"\"</th>\n",
       "      <th>loan\"\"</th>\n",
       "      <th>contact\"\"</th>\n",
       "      <th>month\"\"</th>\n",
       "      <th>day_of_week\"\"</th>\n",
       "      <th>duration\"\"</th>\n",
       "      <th>campaign\"\"</th>\n",
       "      <th>pdays\"\"</th>\n",
       "      <th>previous\"\"</th>\n",
       "      <th>poutcome\"\"</th>\n",
       "      <th>emp.var.rate\"\"</th>\n",
       "      <th>cons.price.idx\"\"</th>\n",
       "      <th>cons.conf.idx\"\"</th>\n",
       "      <th>euribor3m\"\"</th>\n",
       "      <th>nr.employed\"\"</th>\n",
       "      <th>y\"\"\"</th>\n",
       "    </tr>\n",
       "  </thead>\n",
       "  <tbody>\n",
       "    <tr>\n",
       "      <th>0</th>\n",
       "      <td>0,\"56</td>\n",
       "      <td>housemaid\"\"</td>\n",
       "      <td>married\"\"</td>\n",
       "      <td>basic.4y\"\"</td>\n",
       "      <td>no\"\"</td>\n",
       "      <td>no\"\"</td>\n",
       "      <td>no\"\"</td>\n",
       "      <td>telephone\"\"</td>\n",
       "      <td>may\"\"</td>\n",
       "      <td>mon\"\"</td>\n",
       "      <td>261</td>\n",
       "      <td>1</td>\n",
       "      <td>999</td>\n",
       "      <td>0</td>\n",
       "      <td>nonexistent\"\"</td>\n",
       "      <td>1.1</td>\n",
       "      <td>93.994</td>\n",
       "      <td>-36.4</td>\n",
       "      <td>4.857</td>\n",
       "      <td>5191.0</td>\n",
       "      <td>no\"\"\\r\"</td>\n",
       "    </tr>\n",
       "    <tr>\n",
       "      <th>1</th>\n",
       "      <td>1,\"57</td>\n",
       "      <td>services\"\"</td>\n",
       "      <td>married\"\"</td>\n",
       "      <td>high.school\"\"</td>\n",
       "      <td>unknown\"\"</td>\n",
       "      <td>no\"\"</td>\n",
       "      <td>no\"\"</td>\n",
       "      <td>telephone\"\"</td>\n",
       "      <td>may\"\"</td>\n",
       "      <td>mon\"\"</td>\n",
       "      <td>149</td>\n",
       "      <td>1</td>\n",
       "      <td>999</td>\n",
       "      <td>0</td>\n",
       "      <td>nonexistent\"\"</td>\n",
       "      <td>1.1</td>\n",
       "      <td>93.994</td>\n",
       "      <td>-36.4</td>\n",
       "      <td>4.857</td>\n",
       "      <td>5191.0</td>\n",
       "      <td>no\"\"\\r\"</td>\n",
       "    </tr>\n",
       "    <tr>\n",
       "      <th>2</th>\n",
       "      <td>2,\"37</td>\n",
       "      <td>services\"\"</td>\n",
       "      <td>married\"\"</td>\n",
       "      <td>high.school\"\"</td>\n",
       "      <td>no\"\"</td>\n",
       "      <td>yes\"\"</td>\n",
       "      <td>no\"\"</td>\n",
       "      <td>telephone\"\"</td>\n",
       "      <td>may\"\"</td>\n",
       "      <td>mon\"\"</td>\n",
       "      <td>226</td>\n",
       "      <td>1</td>\n",
       "      <td>999</td>\n",
       "      <td>0</td>\n",
       "      <td>nonexistent\"\"</td>\n",
       "      <td>1.1</td>\n",
       "      <td>93.994</td>\n",
       "      <td>-36.4</td>\n",
       "      <td>4.857</td>\n",
       "      <td>5191.0</td>\n",
       "      <td>no\"\"\\r\"</td>\n",
       "    </tr>\n",
       "    <tr>\n",
       "      <th>3</th>\n",
       "      <td>3,\"40</td>\n",
       "      <td>admin.\"\"</td>\n",
       "      <td>married\"\"</td>\n",
       "      <td>basic.6y\"\"</td>\n",
       "      <td>no\"\"</td>\n",
       "      <td>no\"\"</td>\n",
       "      <td>no\"\"</td>\n",
       "      <td>telephone\"\"</td>\n",
       "      <td>may\"\"</td>\n",
       "      <td>mon\"\"</td>\n",
       "      <td>151</td>\n",
       "      <td>1</td>\n",
       "      <td>999</td>\n",
       "      <td>0</td>\n",
       "      <td>nonexistent\"\"</td>\n",
       "      <td>1.1</td>\n",
       "      <td>93.994</td>\n",
       "      <td>-36.4</td>\n",
       "      <td>4.857</td>\n",
       "      <td>5191.0</td>\n",
       "      <td>no\"\"\\r\"</td>\n",
       "    </tr>\n",
       "    <tr>\n",
       "      <th>4</th>\n",
       "      <td>4,\"56</td>\n",
       "      <td>services\"\"</td>\n",
       "      <td>married\"\"</td>\n",
       "      <td>high.school\"\"</td>\n",
       "      <td>no\"\"</td>\n",
       "      <td>no\"\"</td>\n",
       "      <td>yes\"\"</td>\n",
       "      <td>telephone\"\"</td>\n",
       "      <td>may\"\"</td>\n",
       "      <td>mon\"\"</td>\n",
       "      <td>307</td>\n",
       "      <td>1</td>\n",
       "      <td>999</td>\n",
       "      <td>0</td>\n",
       "      <td>nonexistent\"\"</td>\n",
       "      <td>1.1</td>\n",
       "      <td>93.994</td>\n",
       "      <td>-36.4</td>\n",
       "      <td>4.857</td>\n",
       "      <td>5191.0</td>\n",
       "      <td>no\"\"\\r\"</td>\n",
       "    </tr>\n",
       "    <tr>\n",
       "      <th>5</th>\n",
       "      <td>5,\"45</td>\n",
       "      <td>services\"\"</td>\n",
       "      <td>married\"\"</td>\n",
       "      <td>basic.9y\"\"</td>\n",
       "      <td>unknown\"\"</td>\n",
       "      <td>no\"\"</td>\n",
       "      <td>no\"\"</td>\n",
       "      <td>telephone\"\"</td>\n",
       "      <td>may\"\"</td>\n",
       "      <td>mon\"\"</td>\n",
       "      <td>198</td>\n",
       "      <td>1</td>\n",
       "      <td>999</td>\n",
       "      <td>0</td>\n",
       "      <td>nonexistent\"\"</td>\n",
       "      <td>1.1</td>\n",
       "      <td>93.994</td>\n",
       "      <td>-36.4</td>\n",
       "      <td>4.857</td>\n",
       "      <td>5191.0</td>\n",
       "      <td>no\"\"\\r\"</td>\n",
       "    </tr>\n",
       "    <tr>\n",
       "      <th>6</th>\n",
       "      <td>6,\"59</td>\n",
       "      <td>admin.\"\"</td>\n",
       "      <td>married\"\"</td>\n",
       "      <td>professional.course\"\"</td>\n",
       "      <td>no\"\"</td>\n",
       "      <td>no\"\"</td>\n",
       "      <td>no\"\"</td>\n",
       "      <td>telephone\"\"</td>\n",
       "      <td>may\"\"</td>\n",
       "      <td>mon\"\"</td>\n",
       "      <td>139</td>\n",
       "      <td>1</td>\n",
       "      <td>999</td>\n",
       "      <td>0</td>\n",
       "      <td>nonexistent\"\"</td>\n",
       "      <td>1.1</td>\n",
       "      <td>93.994</td>\n",
       "      <td>-36.4</td>\n",
       "      <td>4.857</td>\n",
       "      <td>5191.0</td>\n",
       "      <td>no\"\"\\r\"</td>\n",
       "    </tr>\n",
       "    <tr>\n",
       "      <th>7</th>\n",
       "      <td>7,\"41</td>\n",
       "      <td>blue-collar\"\"</td>\n",
       "      <td>married\"\"</td>\n",
       "      <td>unknown\"\"</td>\n",
       "      <td>unknown\"\"</td>\n",
       "      <td>no\"\"</td>\n",
       "      <td>no\"\"</td>\n",
       "      <td>telephone\"\"</td>\n",
       "      <td>may\"\"</td>\n",
       "      <td>mon\"\"</td>\n",
       "      <td>217</td>\n",
       "      <td>1</td>\n",
       "      <td>999</td>\n",
       "      <td>0</td>\n",
       "      <td>nonexistent\"\"</td>\n",
       "      <td>1.1</td>\n",
       "      <td>93.994</td>\n",
       "      <td>-36.4</td>\n",
       "      <td>4.857</td>\n",
       "      <td>5191.0</td>\n",
       "      <td>no\"\"\\r\"</td>\n",
       "    </tr>\n",
       "    <tr>\n",
       "      <th>8</th>\n",
       "      <td>8,\"24</td>\n",
       "      <td>technician\"\"</td>\n",
       "      <td>single\"\"</td>\n",
       "      <td>professional.course\"\"</td>\n",
       "      <td>no\"\"</td>\n",
       "      <td>yes\"\"</td>\n",
       "      <td>no\"\"</td>\n",
       "      <td>telephone\"\"</td>\n",
       "      <td>may\"\"</td>\n",
       "      <td>mon\"\"</td>\n",
       "      <td>380</td>\n",
       "      <td>1</td>\n",
       "      <td>999</td>\n",
       "      <td>0</td>\n",
       "      <td>nonexistent\"\"</td>\n",
       "      <td>1.1</td>\n",
       "      <td>93.994</td>\n",
       "      <td>-36.4</td>\n",
       "      <td>4.857</td>\n",
       "      <td>5191.0</td>\n",
       "      <td>no\"\"\\r\"</td>\n",
       "    </tr>\n",
       "    <tr>\n",
       "      <th>9</th>\n",
       "      <td>9,\"25</td>\n",
       "      <td>services\"\"</td>\n",
       "      <td>single\"\"</td>\n",
       "      <td>high.school\"\"</td>\n",
       "      <td>no\"\"</td>\n",
       "      <td>yes\"\"</td>\n",
       "      <td>no\"\"</td>\n",
       "      <td>telephone\"\"</td>\n",
       "      <td>may\"\"</td>\n",
       "      <td>mon\"\"</td>\n",
       "      <td>50</td>\n",
       "      <td>1</td>\n",
       "      <td>999</td>\n",
       "      <td>0</td>\n",
       "      <td>nonexistent\"\"</td>\n",
       "      <td>1.1</td>\n",
       "      <td>93.994</td>\n",
       "      <td>-36.4</td>\n",
       "      <td>4.857</td>\n",
       "      <td>5191.0</td>\n",
       "      <td>no\"\"\\r\"</td>\n",
       "    </tr>\n",
       "  </tbody>\n",
       "</table>\n",
       "</div>"
      ],
      "text/plain": [
       "  index,\"age          job\"\"  marital\"\"            education\"\"  default\"\"  \\\n",
       "0      0,\"56    housemaid\"\"  married\"\"             basic.4y\"\"       no\"\"   \n",
       "1      1,\"57     services\"\"  married\"\"          high.school\"\"  unknown\"\"   \n",
       "2      2,\"37     services\"\"  married\"\"          high.school\"\"       no\"\"   \n",
       "3      3,\"40       admin.\"\"  married\"\"             basic.6y\"\"       no\"\"   \n",
       "4      4,\"56     services\"\"  married\"\"          high.school\"\"       no\"\"   \n",
       "5      5,\"45     services\"\"  married\"\"             basic.9y\"\"  unknown\"\"   \n",
       "6      6,\"59       admin.\"\"  married\"\"  professional.course\"\"       no\"\"   \n",
       "7      7,\"41  blue-collar\"\"  married\"\"              unknown\"\"  unknown\"\"   \n",
       "8      8,\"24   technician\"\"   single\"\"  professional.course\"\"       no\"\"   \n",
       "9      9,\"25     services\"\"   single\"\"          high.school\"\"       no\"\"   \n",
       "\n",
       "  housing\"\" loan\"\"    contact\"\" month\"\" day_of_week\"\"  duration\"\"  campaign\"\"  \\\n",
       "0      no\"\"   no\"\"  telephone\"\"   may\"\"         mon\"\"         261           1   \n",
       "1      no\"\"   no\"\"  telephone\"\"   may\"\"         mon\"\"         149           1   \n",
       "2     yes\"\"   no\"\"  telephone\"\"   may\"\"         mon\"\"         226           1   \n",
       "3      no\"\"   no\"\"  telephone\"\"   may\"\"         mon\"\"         151           1   \n",
       "4      no\"\"  yes\"\"  telephone\"\"   may\"\"         mon\"\"         307           1   \n",
       "5      no\"\"   no\"\"  telephone\"\"   may\"\"         mon\"\"         198           1   \n",
       "6      no\"\"   no\"\"  telephone\"\"   may\"\"         mon\"\"         139           1   \n",
       "7      no\"\"   no\"\"  telephone\"\"   may\"\"         mon\"\"         217           1   \n",
       "8     yes\"\"   no\"\"  telephone\"\"   may\"\"         mon\"\"         380           1   \n",
       "9     yes\"\"   no\"\"  telephone\"\"   may\"\"         mon\"\"          50           1   \n",
       "\n",
       "   pdays\"\"  previous\"\"     poutcome\"\"  emp.var.rate\"\"  cons.price.idx\"\"  \\\n",
       "0      999           0  nonexistent\"\"             1.1            93.994   \n",
       "1      999           0  nonexistent\"\"             1.1            93.994   \n",
       "2      999           0  nonexistent\"\"             1.1            93.994   \n",
       "3      999           0  nonexistent\"\"             1.1            93.994   \n",
       "4      999           0  nonexistent\"\"             1.1            93.994   \n",
       "5      999           0  nonexistent\"\"             1.1            93.994   \n",
       "6      999           0  nonexistent\"\"             1.1            93.994   \n",
       "7      999           0  nonexistent\"\"             1.1            93.994   \n",
       "8      999           0  nonexistent\"\"             1.1            93.994   \n",
       "9      999           0  nonexistent\"\"             1.1            93.994   \n",
       "\n",
       "   cons.conf.idx\"\"  euribor3m\"\"  nr.employed\"\"     y\"\"\"  \n",
       "0            -36.4        4.857         5191.0  no\"\"\\r\"  \n",
       "1            -36.4        4.857         5191.0  no\"\"\\r\"  \n",
       "2            -36.4        4.857         5191.0  no\"\"\\r\"  \n",
       "3            -36.4        4.857         5191.0  no\"\"\\r\"  \n",
       "4            -36.4        4.857         5191.0  no\"\"\\r\"  \n",
       "5            -36.4        4.857         5191.0  no\"\"\\r\"  \n",
       "6            -36.4        4.857         5191.0  no\"\"\\r\"  \n",
       "7            -36.4        4.857         5191.0  no\"\"\\r\"  \n",
       "8            -36.4        4.857         5191.0  no\"\"\\r\"  \n",
       "9            -36.4        4.857         5191.0  no\"\"\\r\"  "
      ]
     },
     "execution_count": 424,
     "metadata": {},
     "output_type": "execute_result"
    }
   ],
   "source": [
    "#imprimir as 10 primeiras linhas da base\n",
    "bank_data.head(10)"
   ]
  },
  {
   "cell_type": "code",
   "execution_count": 425,
   "id": "d9cb718b",
   "metadata": {},
   "outputs": [],
   "source": [
    "#Excluir dados nao relevante\n",
    "bank_data.drop(['month\"\"','day_of_week\"\"'],axis=1,inplace=True)"
   ]
  },
  {
   "cell_type": "markdown",
   "id": "9226bfba",
   "metadata": {},
   "source": [
    "<h6>Análise exploratória de dados</h6>\n",
    "\n",
    "Nesta seção, vamos explorar nosso conjunto de dados para obter insights. A análise exploratória de dados é uma etapa importante em qualquer projeto de Data Analytics ou Data Science. É o processo de investigar o conjunto de dados para descobrir padrões e anomalias (outliers) e formar hipóteses com base em nossa compreensão do conjunto de dados.\n"
   ]
  },
  {
   "cell_type": "markdown",
   "id": "4226a5e2",
   "metadata": {},
   "source": [
    "<h6>Descrição do conjunto de dados e variáveis</h6>"
   ]
  },
  {
   "cell_type": "code",
   "execution_count": null,
   "id": "0fae1725",
   "metadata": {},
   "outputs": [],
   "source": [
    "| col                  | desc                                                                    | type |\n",
    "|----------------------|-------------------------------------------------------------------------|------|\n",
    "| age                  | Idades dos clientes na base                                             | Int  |\n",
    "| job                  | Tipo de trabalho dos clientes                                           | cat  |\n",
    "| marital              | Estado civil dos clientes                                               | Cat  |\n",
    "| education            | Histórico educacional                                                   | Cat  |\n",
    "| default              | O cliente tem crédito inadimplente                                      | Cat  |\n",
    "| housing              | O cliente tem crédito à habitação                                       | Cat  |\n",
    "| personal_loan        | O cliente tem empréstimo pessoal                                        | Cat  |\n",
    "| contact              | Tipo de comunicação                                                     | Cat  |\n",
    "| duration             | Duração do último contato                                               | int  |\n",
    "| campaign             | número de contatos realizados durante esta campanha e para este cliente | Int  |\n",
    "| previous             | número de contatos realizados antes desta campanha e para este cliente  | Int  |\n",
    "| poutcome             | resultado da campanha de marketing anterior                             | Cat  |\n",
    "| employ_var_rate      | taxa de variação do emprego:                                            | Int  |\n",
    "| consumer_price_index | índice de Preços ao Consumidor                                          | Int  |\n",
    "| consumer_conf_index  | índice de confiança do consumidor                                       | Int  |\n",
    "| euribor3_month       | taxa euribor 3 meses - indicador diário                                 | Int  |\n",
    "| nr_employed          | número de funcionários - indicador trimestral                           | Int  |\n",
    "| days of week         | Último contato dias da semana                                           | Cat  |\n",
    "| month                | Último mês de contato                                                   | Cat  |\n",
    "| term_deposit         | o cliente subscreveu um depósito a prazo? (binário: \"sim\", \"não\")       | Cat  |"
   ]
  },
  {
   "cell_type": "code",
   "execution_count": 379,
   "id": "31b6bf6c",
   "metadata": {},
   "outputs": [
    {
     "data": {
      "text/plain": [
       "index,\"age           object\n",
       "job\"\"                object\n",
       "marital\"\"            object\n",
       "education\"\"          object\n",
       "default\"\"            object\n",
       "housing\"\"            object\n",
       "loan\"\"               object\n",
       "contact\"\"            object\n",
       "duration\"\"            int64\n",
       "campaign\"\"            int64\n",
       "pdays\"\"               int64\n",
       "previous\"\"            int64\n",
       "poutcome\"\"           object\n",
       "emp.var.rate\"\"      float64\n",
       "cons.price.idx\"\"    float64\n",
       "cons.conf.idx\"\"     float64\n",
       "euribor3m\"\"         float64\n",
       "nr.employed\"\"       float64\n",
       "y\"\"\"                 object\n",
       "dtype: object"
      ]
     },
     "execution_count": 379,
     "metadata": {},
     "output_type": "execute_result"
    }
   ],
   "source": [
    "#verificamos os tipos de variaveis\n",
    "bank_data.dtypes"
   ]
  },
  {
   "cell_type": "code",
   "execution_count": 429,
   "id": "818fe1f5",
   "metadata": {},
   "outputs": [],
   "source": [
    "#renomeamos as colunas que possui aspas duplas.\n",
    "bank_data.rename(columns={'job\"\"':'job','education\"\"':'education','default\"\"':'default','housing\"\"':\\\n",
    "                   'housing','loan\"\"':'personal_loan','y\"\"\"':'term_deposit','cons.conf.idx\"\"':\\\n",
    "                    'consumer_confidence','marital\"\"':'marital','cons.conf.idx\"\"':\\\n",
    "                    'consumer_confidence','cons.price.idx\"\"':'consumer_price','index,\"age':'age',\\\n",
    "                    'campaign\"\"':'campaign','pdays\"\"':'pdays','previous\"\"':'previous',\\\n",
    "                    'poutcome\"\"':'poutcome','contact\"\"':'contact','duration\"\"':\\\n",
    "                    'duration','emp.var.rate\"\"':'employment_variation_rate','euribor3m\"\"':\\\n",
    "                     'euribor3_month_rate','nr.employed\"\"':'nr.employed'},inplace= True)"
   ]
  },
  {
   "cell_type": "code",
   "execution_count": 430,
   "id": "a01f348e",
   "metadata": {},
   "outputs": [
    {
     "data": {
      "text/html": [
       "<div>\n",
       "<style scoped>\n",
       "    .dataframe tbody tr th:only-of-type {\n",
       "        vertical-align: middle;\n",
       "    }\n",
       "\n",
       "    .dataframe tbody tr th {\n",
       "        vertical-align: top;\n",
       "    }\n",
       "\n",
       "    .dataframe thead th {\n",
       "        text-align: right;\n",
       "    }\n",
       "</style>\n",
       "<table border=\"1\" class=\"dataframe\">\n",
       "  <thead>\n",
       "    <tr style=\"text-align: right;\">\n",
       "      <th></th>\n",
       "      <th>age</th>\n",
       "      <th>job</th>\n",
       "      <th>marital</th>\n",
       "      <th>education</th>\n",
       "      <th>default</th>\n",
       "      <th>housing</th>\n",
       "      <th>personal_loan</th>\n",
       "      <th>contact</th>\n",
       "      <th>duration</th>\n",
       "      <th>campaign</th>\n",
       "      <th>pdays</th>\n",
       "      <th>previous</th>\n",
       "      <th>poutcome</th>\n",
       "      <th>employment_variation_rate</th>\n",
       "      <th>consumer_price</th>\n",
       "      <th>consumer_confidence</th>\n",
       "      <th>euribor3_month_rate</th>\n",
       "      <th>nr.employed</th>\n",
       "      <th>term_deposit</th>\n",
       "    </tr>\n",
       "  </thead>\n",
       "  <tbody>\n",
       "    <tr>\n",
       "      <th>0</th>\n",
       "      <td>0,\"56</td>\n",
       "      <td>housemaid\"\"</td>\n",
       "      <td>married\"\"</td>\n",
       "      <td>basic.4y\"\"</td>\n",
       "      <td>no\"\"</td>\n",
       "      <td>no\"\"</td>\n",
       "      <td>no\"\"</td>\n",
       "      <td>telephone\"\"</td>\n",
       "      <td>261</td>\n",
       "      <td>1</td>\n",
       "      <td>999</td>\n",
       "      <td>0</td>\n",
       "      <td>nonexistent\"\"</td>\n",
       "      <td>1.1</td>\n",
       "      <td>93.994</td>\n",
       "      <td>-36.4</td>\n",
       "      <td>4.857</td>\n",
       "      <td>5191.0</td>\n",
       "      <td>no\"\"\\r\"</td>\n",
       "    </tr>\n",
       "    <tr>\n",
       "      <th>1</th>\n",
       "      <td>1,\"57</td>\n",
       "      <td>services\"\"</td>\n",
       "      <td>married\"\"</td>\n",
       "      <td>high.school\"\"</td>\n",
       "      <td>unknown\"\"</td>\n",
       "      <td>no\"\"</td>\n",
       "      <td>no\"\"</td>\n",
       "      <td>telephone\"\"</td>\n",
       "      <td>149</td>\n",
       "      <td>1</td>\n",
       "      <td>999</td>\n",
       "      <td>0</td>\n",
       "      <td>nonexistent\"\"</td>\n",
       "      <td>1.1</td>\n",
       "      <td>93.994</td>\n",
       "      <td>-36.4</td>\n",
       "      <td>4.857</td>\n",
       "      <td>5191.0</td>\n",
       "      <td>no\"\"\\r\"</td>\n",
       "    </tr>\n",
       "    <tr>\n",
       "      <th>2</th>\n",
       "      <td>2,\"37</td>\n",
       "      <td>services\"\"</td>\n",
       "      <td>married\"\"</td>\n",
       "      <td>high.school\"\"</td>\n",
       "      <td>no\"\"</td>\n",
       "      <td>yes\"\"</td>\n",
       "      <td>no\"\"</td>\n",
       "      <td>telephone\"\"</td>\n",
       "      <td>226</td>\n",
       "      <td>1</td>\n",
       "      <td>999</td>\n",
       "      <td>0</td>\n",
       "      <td>nonexistent\"\"</td>\n",
       "      <td>1.1</td>\n",
       "      <td>93.994</td>\n",
       "      <td>-36.4</td>\n",
       "      <td>4.857</td>\n",
       "      <td>5191.0</td>\n",
       "      <td>no\"\"\\r\"</td>\n",
       "    </tr>\n",
       "    <tr>\n",
       "      <th>3</th>\n",
       "      <td>3,\"40</td>\n",
       "      <td>admin.\"\"</td>\n",
       "      <td>married\"\"</td>\n",
       "      <td>basic.6y\"\"</td>\n",
       "      <td>no\"\"</td>\n",
       "      <td>no\"\"</td>\n",
       "      <td>no\"\"</td>\n",
       "      <td>telephone\"\"</td>\n",
       "      <td>151</td>\n",
       "      <td>1</td>\n",
       "      <td>999</td>\n",
       "      <td>0</td>\n",
       "      <td>nonexistent\"\"</td>\n",
       "      <td>1.1</td>\n",
       "      <td>93.994</td>\n",
       "      <td>-36.4</td>\n",
       "      <td>4.857</td>\n",
       "      <td>5191.0</td>\n",
       "      <td>no\"\"\\r\"</td>\n",
       "    </tr>\n",
       "    <tr>\n",
       "      <th>4</th>\n",
       "      <td>4,\"56</td>\n",
       "      <td>services\"\"</td>\n",
       "      <td>married\"\"</td>\n",
       "      <td>high.school\"\"</td>\n",
       "      <td>no\"\"</td>\n",
       "      <td>no\"\"</td>\n",
       "      <td>yes\"\"</td>\n",
       "      <td>telephone\"\"</td>\n",
       "      <td>307</td>\n",
       "      <td>1</td>\n",
       "      <td>999</td>\n",
       "      <td>0</td>\n",
       "      <td>nonexistent\"\"</td>\n",
       "      <td>1.1</td>\n",
       "      <td>93.994</td>\n",
       "      <td>-36.4</td>\n",
       "      <td>4.857</td>\n",
       "      <td>5191.0</td>\n",
       "      <td>no\"\"\\r\"</td>\n",
       "    </tr>\n",
       "  </tbody>\n",
       "</table>\n",
       "</div>"
      ],
      "text/plain": [
       "     age          job    marital      education    default housing  \\\n",
       "0  0,\"56  housemaid\"\"  married\"\"     basic.4y\"\"       no\"\"    no\"\"   \n",
       "1  1,\"57   services\"\"  married\"\"  high.school\"\"  unknown\"\"    no\"\"   \n",
       "2  2,\"37   services\"\"  married\"\"  high.school\"\"       no\"\"   yes\"\"   \n",
       "3  3,\"40     admin.\"\"  married\"\"     basic.6y\"\"       no\"\"    no\"\"   \n",
       "4  4,\"56   services\"\"  married\"\"  high.school\"\"       no\"\"    no\"\"   \n",
       "\n",
       "  personal_loan      contact  duration  campaign  pdays  previous  \\\n",
       "0          no\"\"  telephone\"\"       261         1    999         0   \n",
       "1          no\"\"  telephone\"\"       149         1    999         0   \n",
       "2          no\"\"  telephone\"\"       226         1    999         0   \n",
       "3          no\"\"  telephone\"\"       151         1    999         0   \n",
       "4         yes\"\"  telephone\"\"       307         1    999         0   \n",
       "\n",
       "        poutcome  employment_variation_rate  consumer_price  \\\n",
       "0  nonexistent\"\"                        1.1          93.994   \n",
       "1  nonexistent\"\"                        1.1          93.994   \n",
       "2  nonexistent\"\"                        1.1          93.994   \n",
       "3  nonexistent\"\"                        1.1          93.994   \n",
       "4  nonexistent\"\"                        1.1          93.994   \n",
       "\n",
       "   consumer_confidence  euribor3_month_rate  nr.employed term_deposit  \n",
       "0                -36.4                4.857       5191.0      no\"\"\\r\"  \n",
       "1                -36.4                4.857       5191.0      no\"\"\\r\"  \n",
       "2                -36.4                4.857       5191.0      no\"\"\\r\"  \n",
       "3                -36.4                4.857       5191.0      no\"\"\\r\"  \n",
       "4                -36.4                4.857       5191.0      no\"\"\\r\"  "
      ]
     },
     "execution_count": 430,
     "metadata": {},
     "output_type": "execute_result"
    }
   ],
   "source": [
    "bank_data.head(5)"
   ]
  },
  {
   "cell_type": "code",
   "execution_count": 427,
   "id": "13a8e1e3",
   "metadata": {},
   "outputs": [
    {
     "name": "stdout",
     "output_type": "stream",
     "text": [
      "index,\"age\n",
      "job\"\"\n",
      "marital\"\"\n",
      "education\"\"\n",
      "default\"\"\n",
      "housing\"\"\n",
      "loan\"\"\n",
      "contact\"\"\n",
      "duration\"\"\n",
      "campaign\"\"\n",
      "pdays\"\"\n",
      "previous\"\"\n",
      "poutcome\"\"\n",
      "emp.var.rate\"\"\n",
      "cons.price.idx\"\"\n",
      "cons.conf.idx\"\"\n",
      "euribor3m\"\"\n",
      "nr.employed\"\"\n",
      "y\"\"\"\n"
     ]
    }
   ],
   "source": [
    "#imprimir as colunas\n",
    "for col in bank_data:\n",
    "    print(col)"
   ]
  },
  {
   "cell_type": "code",
   "execution_count": 275,
   "id": "a389bc52",
   "metadata": {},
   "outputs": [
    {
     "data": {
      "text/plain": [
       "age                          0\n",
       "job                          0\n",
       "marital                      0\n",
       "education                    0\n",
       "default                      0\n",
       "housing                      0\n",
       "personal_loan                0\n",
       "contact                      0\n",
       "duration                     0\n",
       "campaign                     0\n",
       "pdays                        0\n",
       "previous                     0\n",
       "poutcome                     0\n",
       "employment_variation_rate    0\n",
       "consumer_price               0\n",
       "consumer_confidence          0\n",
       "euribor3_month_rate          0\n",
       "nr.employed                  0\n",
       "term_deposit                 0\n",
       "dtype: int64"
      ]
     },
     "execution_count": 275,
     "metadata": {},
     "output_type": "execute_result"
    }
   ],
   "source": [
    "#verificamos missing data\n",
    "bank_data.isnull().sum()"
   ]
  },
  {
   "cell_type": "code",
   "execution_count": 322,
   "id": "a1f1f93f",
   "metadata": {},
   "outputs": [
    {
     "data": {
      "text/plain": [
       "0"
      ]
     },
     "execution_count": 322,
     "metadata": {},
     "output_type": "execute_result"
    }
   ],
   "source": [
    "#verificamos variavel duplicada\n",
    "bank_data.duplicated().sum()"
   ]
  },
  {
   "cell_type": "code",
   "execution_count": 323,
   "id": "0cc43e6f",
   "metadata": {},
   "outputs": [
    {
     "data": {
      "text/plain": [
       "nonexistent\"\"    35563\n",
       "failure\"\"         4252\n",
       "success\"\"         1373\n",
       "Name: poutcome, dtype: int64"
      ]
     },
     "execution_count": 323,
     "metadata": {},
     "output_type": "execute_result"
    }
   ],
   "source": [
    "#verificamos os resultados das campanhas passadas.\n",
    "bank_data['poutcome'].value_counts()"
   ]
  },
  {
   "cell_type": "markdown",
   "id": "0abf3c6f",
   "metadata": {},
   "source": [
    "Observamos que a coluna poutcome tem 3 valores,inexistente, fracasso e sucesso.Podemos concluir que \n",
    "na campanha passada tinha somente 1373 depósito a prazo."
   ]
  },
  {
   "cell_type": "code",
   "execution_count": 324,
   "id": "de324a71",
   "metadata": {},
   "outputs": [
    {
     "data": {
      "text/plain": [
       "<AxesSubplot:>"
      ]
     },
     "execution_count": 324,
     "metadata": {},
     "output_type": "execute_result"
    },
    {
     "data": {
      "image/png": "[encoded data removed]",
      "text/plain": [
       "<Figure size 432x288 with 1 Axes>"
      ]
     },
     "metadata": {
      "needs_background": "light"
     },
     "output_type": "display_data"
    }
   ],
   "source": [
    "#verificamos a quantidade de clientes possui emprestimo pessoal no banco.\n",
    "bank_data['personal_loan'].value_counts().plot(kind='barh')"
   ]
  },
  {
   "cell_type": "markdown",
   "id": "17cab160",
   "metadata": {},
   "source": [
    "Na base, observamos que 6248 clientes possui credito pessoal no banco "
   ]
  },
  {
   "cell_type": "code",
   "execution_count": 325,
   "id": "f7646e8a",
   "metadata": {},
   "outputs": [
    {
     "data": {
      "text/plain": [
       "no\"\"         33950\n",
       "yes\"\"         6248\n",
       "unknown\"\"      990\n",
       "Name: personal_loan, dtype: int64"
      ]
     },
     "execution_count": 325,
     "metadata": {},
     "output_type": "execute_result"
    }
   ],
   "source": [
    "#tem empréstimo pessoal\n",
    "bank_data['personal_loan'].value_counts()"
   ]
  },
  {
   "cell_type": "markdown",
   "id": "2ce541e7",
   "metadata": {},
   "source": [
    "Observamos que a coluna emprestimo pessoal tem 3 valores,somente 6248 clientes possui emprestimo\n",
    "pessoal."
   ]
  },
  {
   "cell_type": "code",
   "execution_count": 326,
   "id": "42121544",
   "metadata": {},
   "outputs": [
    {
     "data": {
      "text/plain": [
       "admin.\"\"           10422\n",
       "blue-collar\"\"       9254\n",
       "technician\"\"        6743\n",
       "services\"\"          3969\n",
       "management\"\"        2924\n",
       "retired\"\"           1720\n",
       "entrepreneur\"\"      1456\n",
       "self-employed\"\"     1421\n",
       "housemaid\"\"         1060\n",
       "unemployed\"\"        1014\n",
       "student\"\"            875\n",
       "unknown\"\"            330\n",
       "Name: job, dtype: int64"
      ]
     },
     "execution_count": 326,
     "metadata": {},
     "output_type": "execute_result"
    }
   ],
   "source": [
    "#sera que a variavel professao explicar a variavel alvo\n",
    "bank_data['job'].value_counts()"
   ]
  },
  {
   "cell_type": "code",
   "execution_count": 431,
   "id": "98901594",
   "metadata": {},
   "outputs": [
    {
     "data": {
      "text/plain": [
       "university.degree\"\"      12168\n",
       "high.school\"\"             9515\n",
       "basic.9y\"\"                6045\n",
       "professional.course\"\"     5243\n",
       "basic.4y\"\"                4176\n",
       "basic.6y\"\"                2292\n",
       "unknown\"\"                 1731\n",
       "illiterate\"\"                18\n",
       "Name: education, dtype: int64"
      ]
     },
     "execution_count": 431,
     "metadata": {},
     "output_type": "execute_result"
    }
   ],
   "source": [
    "#verificamos os valore da coluna educacao\n",
    "bank_data[\"education\"].value_counts()"
   ]
  },
  {
   "cell_type": "markdown",
   "id": "7019a48a",
   "metadata": {},
   "source": [
    "A coluna educacao tem 8 valores,nesse caso vamos fazer a categorizacao desta coluna."
   ]
  },
  {
   "cell_type": "code",
   "execution_count": 432,
   "id": "5efb73c9",
   "metadata": {},
   "outputs": [
    {
     "data": {
      "text/plain": [
       "no\"\"\\r\"     0.887346\n",
       "yes\"\"\\r\"    0.112654\n",
       "Name: term_deposit, dtype: float64"
      ]
     },
     "execution_count": 432,
     "metadata": {},
     "output_type": "execute_result"
    }
   ],
   "source": [
    "#verificamos a quantidade dos cliente realizadou um depósito a prazo no banco apos ultimas campanha\n",
    "bank_data['term_deposit'].value_counts(normalize=True)"
   ]
  },
  {
   "cell_type": "markdown",
   "id": "c4fdafef",
   "metadata": {},
   "source": [
    "Observamos que na ultima campanha 11.26% dos clientes realizadou um depósito a prazo no banco apos ultimas campanha."
   ]
  },
  {
   "cell_type": "code",
   "execution_count": 433,
   "id": "13d9d692",
   "metadata": {},
   "outputs": [
    {
     "data": {
      "text/html": [
       "<div>\n",
       "<style scoped>\n",
       "    .dataframe tbody tr th:only-of-type {\n",
       "        vertical-align: middle;\n",
       "    }\n",
       "\n",
       "    .dataframe tbody tr th {\n",
       "        vertical-align: top;\n",
       "    }\n",
       "\n",
       "    .dataframe thead th {\n",
       "        text-align: right;\n",
       "    }\n",
       "</style>\n",
       "<table border=\"1\" class=\"dataframe\">\n",
       "  <thead>\n",
       "    <tr style=\"text-align: right;\">\n",
       "      <th>job</th>\n",
       "      <th>admin.\"\"</th>\n",
       "      <th>blue-collar\"\"</th>\n",
       "      <th>entrepreneur\"\"</th>\n",
       "      <th>housemaid\"\"</th>\n",
       "      <th>management\"\"</th>\n",
       "      <th>retired\"\"</th>\n",
       "      <th>self-employed\"\"</th>\n",
       "      <th>services\"\"</th>\n",
       "      <th>student\"\"</th>\n",
       "      <th>technician\"\"</th>\n",
       "      <th>unemployed\"\"</th>\n",
       "      <th>unknown\"\"</th>\n",
       "    </tr>\n",
       "    <tr>\n",
       "      <th>housing</th>\n",
       "      <th></th>\n",
       "      <th></th>\n",
       "      <th></th>\n",
       "      <th></th>\n",
       "      <th></th>\n",
       "      <th></th>\n",
       "      <th></th>\n",
       "      <th></th>\n",
       "      <th></th>\n",
       "      <th></th>\n",
       "      <th></th>\n",
       "      <th></th>\n",
       "    </tr>\n",
       "  </thead>\n",
       "  <tbody>\n",
       "    <tr>\n",
       "      <th>no\"\"</th>\n",
       "      <td>0.444828</td>\n",
       "      <td>0.465096</td>\n",
       "      <td>0.440247</td>\n",
       "      <td>0.463208</td>\n",
       "      <td>0.466142</td>\n",
       "      <td>0.455814</td>\n",
       "      <td>0.451091</td>\n",
       "      <td>0.458050</td>\n",
       "      <td>0.435429</td>\n",
       "      <td>0.44194</td>\n",
       "      <td>0.424063</td>\n",
       "      <td>0.463636</td>\n",
       "    </tr>\n",
       "    <tr>\n",
       "      <th>unknown\"\"</th>\n",
       "      <td>0.021781</td>\n",
       "      <td>0.025935</td>\n",
       "      <td>0.024725</td>\n",
       "      <td>0.027358</td>\n",
       "      <td>0.024282</td>\n",
       "      <td>0.025581</td>\n",
       "      <td>0.028149</td>\n",
       "      <td>0.025447</td>\n",
       "      <td>0.026286</td>\n",
       "      <td>0.02180</td>\n",
       "      <td>0.026627</td>\n",
       "      <td>0.015152</td>\n",
       "    </tr>\n",
       "    <tr>\n",
       "      <th>yes\"\"</th>\n",
       "      <td>0.533391</td>\n",
       "      <td>0.508969</td>\n",
       "      <td>0.535027</td>\n",
       "      <td>0.509434</td>\n",
       "      <td>0.509576</td>\n",
       "      <td>0.518605</td>\n",
       "      <td>0.520760</td>\n",
       "      <td>0.516503</td>\n",
       "      <td>0.538286</td>\n",
       "      <td>0.53626</td>\n",
       "      <td>0.549310</td>\n",
       "      <td>0.521212</td>\n",
       "    </tr>\n",
       "  </tbody>\n",
       "</table>\n",
       "</div>"
      ],
      "text/plain": [
       "job        admin.\"\"  blue-collar\"\"  entrepreneur\"\"  housemaid\"\"  management\"\"  \\\n",
       "housing                                                                         \n",
       "no\"\"       0.444828       0.465096        0.440247     0.463208      0.466142   \n",
       "unknown\"\"  0.021781       0.025935        0.024725     0.027358      0.024282   \n",
       "yes\"\"      0.533391       0.508969        0.535027     0.509434      0.509576   \n",
       "\n",
       "job        retired\"\"  self-employed\"\"  services\"\"  student\"\"  technician\"\"  \\\n",
       "housing                                                                      \n",
       "no\"\"        0.455814         0.451091    0.458050   0.435429       0.44194   \n",
       "unknown\"\"   0.025581         0.028149    0.025447   0.026286       0.02180   \n",
       "yes\"\"       0.518605         0.520760    0.516503   0.538286       0.53626   \n",
       "\n",
       "job        unemployed\"\"  unknown\"\"  \n",
       "housing                             \n",
       "no\"\"           0.424063   0.463636  \n",
       "unknown\"\"      0.026627   0.015152  \n",
       "yes\"\"          0.549310   0.521212  "
      ]
     },
     "execution_count": 433,
     "metadata": {},
     "output_type": "execute_result"
    }
   ],
   "source": [
    "#verificamos os perfile dos clientes que tem credito no banco para financiamento habitacional.\n",
    "pd.crosstab(bank_data.housing, bank_data.job, normalize='columns')"
   ]
  },
  {
   "cell_type": "markdown",
   "id": "2f48defa",
   "metadata": {},
   "source": [
    "Todos os clientes tem financiamento habitacional no bano,observamos que 53.83% dos clientes alunos tem credito para financiamento habitacional,51.86% dos clientes aposentado tem credito para financiamento habitacional."
   ]
  },
  {
   "cell_type": "code",
   "execution_count": 434,
   "id": "d006a2ae",
   "metadata": {},
   "outputs": [
    {
     "data": {
      "text/html": [
       "<div>\n",
       "<style scoped>\n",
       "    .dataframe tbody tr th:only-of-type {\n",
       "        vertical-align: middle;\n",
       "    }\n",
       "\n",
       "    .dataframe tbody tr th {\n",
       "        vertical-align: top;\n",
       "    }\n",
       "\n",
       "    .dataframe thead th {\n",
       "        text-align: right;\n",
       "    }\n",
       "</style>\n",
       "<table border=\"1\" class=\"dataframe\">\n",
       "  <thead>\n",
       "    <tr style=\"text-align: right;\">\n",
       "      <th>job</th>\n",
       "      <th>admin.\"\"</th>\n",
       "      <th>blue-collar\"\"</th>\n",
       "      <th>entrepreneur\"\"</th>\n",
       "      <th>housemaid\"\"</th>\n",
       "      <th>management\"\"</th>\n",
       "      <th>retired\"\"</th>\n",
       "      <th>self-employed\"\"</th>\n",
       "      <th>services\"\"</th>\n",
       "      <th>student\"\"</th>\n",
       "      <th>technician\"\"</th>\n",
       "      <th>unemployed\"\"</th>\n",
       "      <th>unknown\"\"</th>\n",
       "    </tr>\n",
       "    <tr>\n",
       "      <th>personal_loan</th>\n",
       "      <th></th>\n",
       "      <th></th>\n",
       "      <th></th>\n",
       "      <th></th>\n",
       "      <th></th>\n",
       "      <th></th>\n",
       "      <th></th>\n",
       "      <th></th>\n",
       "      <th></th>\n",
       "      <th></th>\n",
       "      <th></th>\n",
       "      <th></th>\n",
       "    </tr>\n",
       "  </thead>\n",
       "  <tbody>\n",
       "    <tr>\n",
       "      <th>no\"\"</th>\n",
       "      <td>0.814143</td>\n",
       "      <td>0.826453</td>\n",
       "      <td>0.833791</td>\n",
       "      <td>0.827358</td>\n",
       "      <td>0.825581</td>\n",
       "      <td>0.834884</td>\n",
       "      <td>0.834624</td>\n",
       "      <td>0.823129</td>\n",
       "      <td>0.811429</td>\n",
       "      <td>0.831529</td>\n",
       "      <td>0.826430</td>\n",
       "      <td>0.812121</td>\n",
       "    </tr>\n",
       "    <tr>\n",
       "      <th>unknown\"\"</th>\n",
       "      <td>0.021781</td>\n",
       "      <td>0.025935</td>\n",
       "      <td>0.024725</td>\n",
       "      <td>0.027358</td>\n",
       "      <td>0.024282</td>\n",
       "      <td>0.025581</td>\n",
       "      <td>0.028149</td>\n",
       "      <td>0.025447</td>\n",
       "      <td>0.026286</td>\n",
       "      <td>0.021800</td>\n",
       "      <td>0.026627</td>\n",
       "      <td>0.015152</td>\n",
       "    </tr>\n",
       "    <tr>\n",
       "      <th>yes\"\"</th>\n",
       "      <td>0.164076</td>\n",
       "      <td>0.147612</td>\n",
       "      <td>0.141484</td>\n",
       "      <td>0.145283</td>\n",
       "      <td>0.150137</td>\n",
       "      <td>0.139535</td>\n",
       "      <td>0.137227</td>\n",
       "      <td>0.151424</td>\n",
       "      <td>0.162286</td>\n",
       "      <td>0.146671</td>\n",
       "      <td>0.146943</td>\n",
       "      <td>0.172727</td>\n",
       "    </tr>\n",
       "  </tbody>\n",
       "</table>\n",
       "</div>"
      ],
      "text/plain": [
       "job            admin.\"\"  blue-collar\"\"  entrepreneur\"\"  housemaid\"\"  \\\n",
       "personal_loan                                                         \n",
       "no\"\"           0.814143       0.826453        0.833791     0.827358   \n",
       "unknown\"\"      0.021781       0.025935        0.024725     0.027358   \n",
       "yes\"\"          0.164076       0.147612        0.141484     0.145283   \n",
       "\n",
       "job            management\"\"  retired\"\"  self-employed\"\"  services\"\"  \\\n",
       "personal_loan                                                         \n",
       "no\"\"               0.825581   0.834884         0.834624    0.823129   \n",
       "unknown\"\"          0.024282   0.025581         0.028149    0.025447   \n",
       "yes\"\"              0.150137   0.139535         0.137227    0.151424   \n",
       "\n",
       "job            student\"\"  technician\"\"  unemployed\"\"  unknown\"\"  \n",
       "personal_loan                                                    \n",
       "no\"\"            0.811429      0.831529      0.826430   0.812121  \n",
       "unknown\"\"       0.026286      0.021800      0.026627   0.015152  \n",
       "yes\"\"           0.162286      0.146671      0.146943   0.172727  "
      ]
     },
     "execution_count": 434,
     "metadata": {},
     "output_type": "execute_result"
    }
   ],
   "source": [
    "#Verificamos os perfiles dos clientes que tem empréstimo pessoal no banco\n",
    "pd.crosstab(bank_data.personal_loan, bank_data.job, normalize='columns')"
   ]
  },
  {
   "cell_type": "markdown",
   "id": "e1b970bf",
   "metadata": {},
   "source": [
    "Todos os clientes tem emprestimo pessoal,observamos que 13.95% dos clientes aposentado possui emprestimo pessoal no banco,16.22% dos clientes alunos tem emprestimo pessoal no banco,e 14.69% dos clientes desempregado que possui emprestimo pessoal no banco."
   ]
  },
  {
   "cell_type": "code",
   "execution_count": 284,
   "id": "0ba51450",
   "metadata": {},
   "outputs": [
    {
     "data": {
      "text/html": [
       "<div>\n",
       "<style scoped>\n",
       "    .dataframe tbody tr th:only-of-type {\n",
       "        vertical-align: middle;\n",
       "    }\n",
       "\n",
       "    .dataframe tbody tr th {\n",
       "        vertical-align: top;\n",
       "    }\n",
       "\n",
       "    .dataframe thead th {\n",
       "        text-align: right;\n",
       "    }\n",
       "</style>\n",
       "<table border=\"1\" class=\"dataframe\">\n",
       "  <thead>\n",
       "    <tr style=\"text-align: right;\">\n",
       "      <th>job</th>\n",
       "      <th>admin.\"\"</th>\n",
       "      <th>blue-collar\"\"</th>\n",
       "      <th>entrepreneur\"\"</th>\n",
       "      <th>housemaid\"\"</th>\n",
       "      <th>management\"\"</th>\n",
       "      <th>retired\"\"</th>\n",
       "      <th>self-employed\"\"</th>\n",
       "      <th>services\"\"</th>\n",
       "      <th>student\"\"</th>\n",
       "      <th>technician\"\"</th>\n",
       "      <th>unemployed\"\"</th>\n",
       "      <th>unknown\"\"</th>\n",
       "    </tr>\n",
       "    <tr>\n",
       "      <th>default</th>\n",
       "      <th></th>\n",
       "      <th></th>\n",
       "      <th></th>\n",
       "      <th></th>\n",
       "      <th></th>\n",
       "      <th></th>\n",
       "      <th></th>\n",
       "      <th></th>\n",
       "      <th></th>\n",
       "      <th></th>\n",
       "      <th></th>\n",
       "      <th></th>\n",
       "    </tr>\n",
       "  </thead>\n",
       "  <tbody>\n",
       "    <tr>\n",
       "      <th>no\"\"</th>\n",
       "      <td>0.875936</td>\n",
       "      <td>0.657878</td>\n",
       "      <td>0.793269</td>\n",
       "      <td>0.699057</td>\n",
       "      <td>0.843365</td>\n",
       "      <td>0.771512</td>\n",
       "      <td>0.801548</td>\n",
       "      <td>0.769211</td>\n",
       "      <td>0.881143</td>\n",
       "      <td>0.854961</td>\n",
       "      <td>0.765286</td>\n",
       "      <td>0.539394</td>\n",
       "    </tr>\n",
       "    <tr>\n",
       "      <th>unknown\"\"</th>\n",
       "      <td>0.124064</td>\n",
       "      <td>0.342122</td>\n",
       "      <td>0.206731</td>\n",
       "      <td>0.300943</td>\n",
       "      <td>0.156635</td>\n",
       "      <td>0.228488</td>\n",
       "      <td>0.198452</td>\n",
       "      <td>0.230789</td>\n",
       "      <td>0.118857</td>\n",
       "      <td>0.144743</td>\n",
       "      <td>0.233728</td>\n",
       "      <td>0.460606</td>\n",
       "    </tr>\n",
       "    <tr>\n",
       "      <th>yes\"\"</th>\n",
       "      <td>0.000000</td>\n",
       "      <td>0.000000</td>\n",
       "      <td>0.000000</td>\n",
       "      <td>0.000000</td>\n",
       "      <td>0.000000</td>\n",
       "      <td>0.000000</td>\n",
       "      <td>0.000000</td>\n",
       "      <td>0.000000</td>\n",
       "      <td>0.000000</td>\n",
       "      <td>0.000297</td>\n",
       "      <td>0.000986</td>\n",
       "      <td>0.000000</td>\n",
       "    </tr>\n",
       "  </tbody>\n",
       "</table>\n",
       "</div>"
      ],
      "text/plain": [
       "job        admin.\"\"  blue-collar\"\"  entrepreneur\"\"  housemaid\"\"  management\"\"  \\\n",
       "default                                                                         \n",
       "no\"\"       0.875936       0.657878        0.793269     0.699057      0.843365   \n",
       "unknown\"\"  0.124064       0.342122        0.206731     0.300943      0.156635   \n",
       "yes\"\"      0.000000       0.000000        0.000000     0.000000      0.000000   \n",
       "\n",
       "job        retired\"\"  self-employed\"\"  services\"\"  student\"\"  technician\"\"  \\\n",
       "default                                                                      \n",
       "no\"\"        0.771512         0.801548    0.769211   0.881143      0.854961   \n",
       "unknown\"\"   0.228488         0.198452    0.230789   0.118857      0.144743   \n",
       "yes\"\"       0.000000         0.000000    0.000000   0.000000      0.000297   \n",
       "\n",
       "job        unemployed\"\"  unknown\"\"  \n",
       "default                             \n",
       "no\"\"           0.765286   0.539394  \n",
       "unknown\"\"      0.233728   0.460606  \n",
       "yes\"\"          0.000986   0.000000  "
      ]
     },
     "execution_count": 284,
     "metadata": {},
     "output_type": "execute_result"
    }
   ],
   "source": [
    "#verificamos os perfiles dos clientes que tem inadimplência no banco\n",
    "pd.crosstab(bank_data.default, bank_data.job, normalize='columns')"
   ]
  },
  {
   "cell_type": "markdown",
   "id": "fb307474",
   "metadata": {},
   "source": [
    "Observamos que nenhum dos clientes não tem inadimplência."
   ]
  },
  {
   "cell_type": "code",
   "execution_count": 329,
   "id": "fad07d20",
   "metadata": {},
   "outputs": [
    {
     "data": {
      "text/html": [
       "<div>\n",
       "<style scoped>\n",
       "    .dataframe tbody tr th:only-of-type {\n",
       "        vertical-align: middle;\n",
       "    }\n",
       "\n",
       "    .dataframe tbody tr th {\n",
       "        vertical-align: top;\n",
       "    }\n",
       "\n",
       "    .dataframe thead th {\n",
       "        text-align: right;\n",
       "    }\n",
       "</style>\n",
       "<table border=\"1\" class=\"dataframe\">\n",
       "  <thead>\n",
       "    <tr style=\"text-align: right;\">\n",
       "      <th>job</th>\n",
       "      <th>admin.\"\"</th>\n",
       "      <th>blue-collar\"\"</th>\n",
       "      <th>entrepreneur\"\"</th>\n",
       "      <th>housemaid\"\"</th>\n",
       "      <th>management\"\"</th>\n",
       "      <th>retired\"\"</th>\n",
       "      <th>self-employed\"\"</th>\n",
       "      <th>services\"\"</th>\n",
       "      <th>student\"\"</th>\n",
       "      <th>technician\"\"</th>\n",
       "      <th>unemployed\"\"</th>\n",
       "      <th>unknown\"\"</th>\n",
       "    </tr>\n",
       "    <tr>\n",
       "      <th>term_deposit</th>\n",
       "      <th></th>\n",
       "      <th></th>\n",
       "      <th></th>\n",
       "      <th></th>\n",
       "      <th></th>\n",
       "      <th></th>\n",
       "      <th></th>\n",
       "      <th></th>\n",
       "      <th></th>\n",
       "      <th></th>\n",
       "      <th></th>\n",
       "      <th></th>\n",
       "    </tr>\n",
       "  </thead>\n",
       "  <tbody>\n",
       "    <tr>\n",
       "      <th>no\"\"\\r\"</th>\n",
       "      <td>0.870274</td>\n",
       "      <td>0.931057</td>\n",
       "      <td>0.914835</td>\n",
       "      <td>0.9</td>\n",
       "      <td>0.887825</td>\n",
       "      <td>0.747674</td>\n",
       "      <td>0.895144</td>\n",
       "      <td>0.918619</td>\n",
       "      <td>0.685714</td>\n",
       "      <td>0.89174</td>\n",
       "      <td>0.857988</td>\n",
       "      <td>0.887879</td>\n",
       "    </tr>\n",
       "    <tr>\n",
       "      <th>yes\"\"\\r\"</th>\n",
       "      <td>0.129726</td>\n",
       "      <td>0.068943</td>\n",
       "      <td>0.085165</td>\n",
       "      <td>0.1</td>\n",
       "      <td>0.112175</td>\n",
       "      <td>0.252326</td>\n",
       "      <td>0.104856</td>\n",
       "      <td>0.081381</td>\n",
       "      <td>0.314286</td>\n",
       "      <td>0.10826</td>\n",
       "      <td>0.142012</td>\n",
       "      <td>0.112121</td>\n",
       "    </tr>\n",
       "  </tbody>\n",
       "</table>\n",
       "</div>"
      ],
      "text/plain": [
       "job           admin.\"\"  blue-collar\"\"  entrepreneur\"\"  housemaid\"\"  \\\n",
       "term_deposit                                                         \n",
       "no\"\"\\r\"       0.870274       0.931057        0.914835          0.9   \n",
       "yes\"\"\\r\"      0.129726       0.068943        0.085165          0.1   \n",
       "\n",
       "job           management\"\"  retired\"\"  self-employed\"\"  services\"\"  student\"\"  \\\n",
       "term_deposit                                                                    \n",
       "no\"\"\\r\"           0.887825   0.747674         0.895144    0.918619   0.685714   \n",
       "yes\"\"\\r\"          0.112175   0.252326         0.104856    0.081381   0.314286   \n",
       "\n",
       "job           technician\"\"  unemployed\"\"  unknown\"\"  \n",
       "term_deposit                                         \n",
       "no\"\"\\r\"            0.89174      0.857988   0.887879  \n",
       "yes\"\"\\r\"           0.10826      0.142012   0.112121  "
      ]
     },
     "execution_count": 329,
     "metadata": {},
     "output_type": "execute_result"
    }
   ],
   "source": [
    "#Sera que a variavel profissão (job) explicar a variavel alvo.\n",
    "pd.crosstab(bank_data.term_deposit, bank_data.job, normalize='columns')"
   ]
  },
  {
   "cell_type": "markdown",
   "id": "53a8fc1b",
   "metadata": {},
   "source": [
    "Observamos que 31.42% dos clientes alunos fez um deposito a prazo e 25.23% dos clientes aposantados,sao duas grupo do clients que tem a maior pocentagem de deposito."
   ]
  },
  {
   "cell_type": "code",
   "execution_count": 330,
   "id": "08a99116",
   "metadata": {},
   "outputs": [
    {
     "data": {
      "text/html": [
       "<div>\n",
       "<style scoped>\n",
       "    .dataframe tbody tr th:only-of-type {\n",
       "        vertical-align: middle;\n",
       "    }\n",
       "\n",
       "    .dataframe tbody tr th {\n",
       "        vertical-align: top;\n",
       "    }\n",
       "\n",
       "    .dataframe thead th {\n",
       "        text-align: right;\n",
       "    }\n",
       "</style>\n",
       "<table border=\"1\" class=\"dataframe\">\n",
       "  <thead>\n",
       "    <tr style=\"text-align: right;\">\n",
       "      <th>marital</th>\n",
       "      <th>divorced\"\"</th>\n",
       "      <th>married\"\"</th>\n",
       "      <th>single\"\"</th>\n",
       "      <th>unknown\"\"</th>\n",
       "    </tr>\n",
       "    <tr>\n",
       "      <th>term_deposit</th>\n",
       "      <th></th>\n",
       "      <th></th>\n",
       "      <th></th>\n",
       "      <th></th>\n",
       "    </tr>\n",
       "  </thead>\n",
       "  <tbody>\n",
       "    <tr>\n",
       "      <th>no\"\"\\r\"</th>\n",
       "      <td>0.896791</td>\n",
       "      <td>0.898427</td>\n",
       "      <td>0.859959</td>\n",
       "      <td>0.85</td>\n",
       "    </tr>\n",
       "    <tr>\n",
       "      <th>yes\"\"\\r\"</th>\n",
       "      <td>0.103209</td>\n",
       "      <td>0.101573</td>\n",
       "      <td>0.140041</td>\n",
       "      <td>0.15</td>\n",
       "    </tr>\n",
       "  </tbody>\n",
       "</table>\n",
       "</div>"
      ],
      "text/plain": [
       "marital       divorced\"\"  married\"\"  single\"\"  unknown\"\"\n",
       "term_deposit                                            \n",
       "no\"\"\\r\"         0.896791   0.898427  0.859959       0.85\n",
       "yes\"\"\\r\"        0.103209   0.101573  0.140041       0.15"
      ]
     },
     "execution_count": 330,
     "metadata": {},
     "output_type": "execute_result"
    }
   ],
   "source": [
    "#sera que o estado civil impacta na decisão dos clientes.\n",
    "pd.crosstab(bank_data.term_deposit, bank_data.marital, normalize='columns')"
   ]
  },
  {
   "cell_type": "markdown",
   "id": "1212093f",
   "metadata": {},
   "source": [
    "Observamos somente 14% dos clientes soteiros fez um deposito a prazo no banco apos ultima campanha."
   ]
  },
  {
   "cell_type": "code",
   "execution_count": 331,
   "id": "fada670b",
   "metadata": {},
   "outputs": [
    {
     "data": {
      "text/html": [
       "<div>\n",
       "<style scoped>\n",
       "    .dataframe tbody tr th:only-of-type {\n",
       "        vertical-align: middle;\n",
       "    }\n",
       "\n",
       "    .dataframe tbody tr th {\n",
       "        vertical-align: top;\n",
       "    }\n",
       "\n",
       "    .dataframe thead th {\n",
       "        text-align: right;\n",
       "    }\n",
       "</style>\n",
       "<table border=\"1\" class=\"dataframe\">\n",
       "  <thead>\n",
       "    <tr style=\"text-align: right;\">\n",
       "      <th>default</th>\n",
       "      <th>no\"\"</th>\n",
       "      <th>unknown\"\"</th>\n",
       "      <th>yes\"\"</th>\n",
       "    </tr>\n",
       "    <tr>\n",
       "      <th>term_deposit</th>\n",
       "      <th></th>\n",
       "      <th></th>\n",
       "      <th></th>\n",
       "    </tr>\n",
       "  </thead>\n",
       "  <tbody>\n",
       "    <tr>\n",
       "      <th>no\"\"\\r\"</th>\n",
       "      <td>0.87121</td>\n",
       "      <td>0.94847</td>\n",
       "      <td>1.0</td>\n",
       "    </tr>\n",
       "    <tr>\n",
       "      <th>yes\"\"\\r\"</th>\n",
       "      <td>0.12879</td>\n",
       "      <td>0.05153</td>\n",
       "      <td>0.0</td>\n",
       "    </tr>\n",
       "  </tbody>\n",
       "</table>\n",
       "</div>"
      ],
      "text/plain": [
       "default          no\"\"  unknown\"\"  yes\"\"\n",
       "term_deposit                           \n",
       "no\"\"\\r\"       0.87121    0.94847    1.0\n",
       "yes\"\"\\r\"      0.12879    0.05153    0.0"
      ]
     },
     "execution_count": 331,
     "metadata": {},
     "output_type": "execute_result"
    }
   ],
   "source": [
    "#sera que a variavel inadimplência de crédito impacta na decisão dos clientes\n",
    "pd.crosstab(bank_data.term_deposit, bank_data.default, normalize='columns')"
   ]
  },
  {
   "cell_type": "markdown",
   "id": "25988a93",
   "metadata": {},
   "source": [
    "Observamos que a variável default não afeta a variável alvo(term_deposit)."
   ]
  },
  {
   "cell_type": "code",
   "execution_count": 333,
   "id": "c5195423",
   "metadata": {},
   "outputs": [
    {
     "data": {
      "text/html": [
       "<div>\n",
       "<style scoped>\n",
       "    .dataframe tbody tr th:only-of-type {\n",
       "        vertical-align: middle;\n",
       "    }\n",
       "\n",
       "    .dataframe tbody tr th {\n",
       "        vertical-align: top;\n",
       "    }\n",
       "\n",
       "    .dataframe thead th {\n",
       "        text-align: right;\n",
       "    }\n",
       "</style>\n",
       "<table border=\"1\" class=\"dataframe\">\n",
       "  <thead>\n",
       "    <tr style=\"text-align: right;\">\n",
       "      <th>personal_loan</th>\n",
       "      <th>no\"\"</th>\n",
       "      <th>unknown\"\"</th>\n",
       "      <th>yes\"\"</th>\n",
       "    </tr>\n",
       "    <tr>\n",
       "      <th>term_deposit</th>\n",
       "      <th></th>\n",
       "      <th></th>\n",
       "      <th></th>\n",
       "    </tr>\n",
       "  </thead>\n",
       "  <tbody>\n",
       "    <tr>\n",
       "      <th>no\"\"\\r\"</th>\n",
       "      <td>0.886598</td>\n",
       "      <td>0.891919</td>\n",
       "      <td>0.890685</td>\n",
       "    </tr>\n",
       "    <tr>\n",
       "      <th>yes\"\"\\r\"</th>\n",
       "      <td>0.113402</td>\n",
       "      <td>0.108081</td>\n",
       "      <td>0.109315</td>\n",
       "    </tr>\n",
       "  </tbody>\n",
       "</table>\n",
       "</div>"
      ],
      "text/plain": [
       "personal_loan      no\"\"  unknown\"\"     yes\"\"\n",
       "term_deposit                                \n",
       "no\"\"\\r\"        0.886598   0.891919  0.890685\n",
       "yes\"\"\\r\"       0.113402   0.108081  0.109315"
      ]
     },
     "execution_count": 333,
     "metadata": {},
     "output_type": "execute_result"
    }
   ],
   "source": [
    "#Sera que a variável emprestimo pessoal impacta na decisão de abertura do depósito a prazo?\n",
    "pd.crosstab(bank_data.term_deposit, bank_data.personal_loan, normalize='columns')"
   ]
  },
  {
   "cell_type": "markdown",
   "id": "d629eb9b",
   "metadata": {},
   "source": [
    "Observamos que a variável default não afeta muito a variável alvo(term_deposit)."
   ]
  },
  {
   "cell_type": "code",
   "execution_count": 384,
   "id": "3643a77a",
   "metadata": {},
   "outputs": [
    {
     "data": {
      "text/html": [
       "<div>\n",
       "<style scoped>\n",
       "    .dataframe tbody tr th:only-of-type {\n",
       "        vertical-align: middle;\n",
       "    }\n",
       "\n",
       "    .dataframe tbody tr th {\n",
       "        vertical-align: top;\n",
       "    }\n",
       "\n",
       "    .dataframe thead th {\n",
       "        text-align: right;\n",
       "    }\n",
       "</style>\n",
       "<table border=\"1\" class=\"dataframe\">\n",
       "  <thead>\n",
       "    <tr style=\"text-align: right;\">\n",
       "      <th>housing</th>\n",
       "      <th>no\"\"</th>\n",
       "      <th>unknown\"\"</th>\n",
       "      <th>yes\"\"</th>\n",
       "    </tr>\n",
       "    <tr>\n",
       "      <th>term_deposit</th>\n",
       "      <th></th>\n",
       "      <th></th>\n",
       "      <th></th>\n",
       "    </tr>\n",
       "  </thead>\n",
       "  <tbody>\n",
       "    <tr>\n",
       "      <th>no\"\"\\r\"</th>\n",
       "      <td>0.891204</td>\n",
       "      <td>0.891919</td>\n",
       "      <td>0.883806</td>\n",
       "    </tr>\n",
       "    <tr>\n",
       "      <th>yes\"\"\\r\"</th>\n",
       "      <td>0.108796</td>\n",
       "      <td>0.108081</td>\n",
       "      <td>0.116194</td>\n",
       "    </tr>\n",
       "  </tbody>\n",
       "</table>\n",
       "</div>"
      ],
      "text/plain": [
       "housing           no\"\"  unknown\"\"     yes\"\"\n",
       "term_deposit                               \n",
       "no\"\"\\r\"       0.891204   0.891919  0.883806\n",
       "yes\"\"\\r\"      0.108796   0.108081  0.116194"
      ]
     },
     "execution_count": 384,
     "metadata": {},
     "output_type": "execute_result"
    }
   ],
   "source": [
    "#Sera que a variavel habitacao impacta \n",
    "pd.crosstab(bank_data.term_deposit, bank_data.housing, normalize='columns')"
   ]
  },
  {
   "cell_type": "code",
   "execution_count": 385,
   "id": "3025f82d",
   "metadata": {},
   "outputs": [
    {
     "data": {
      "text/html": [
       "<div>\n",
       "<style scoped>\n",
       "    .dataframe tbody tr th:only-of-type {\n",
       "        vertical-align: middle;\n",
       "    }\n",
       "\n",
       "    .dataframe tbody tr th {\n",
       "        vertical-align: top;\n",
       "    }\n",
       "\n",
       "    .dataframe thead th {\n",
       "        text-align: right;\n",
       "    }\n",
       "</style>\n",
       "<table border=\"1\" class=\"dataframe\">\n",
       "  <thead>\n",
       "    <tr style=\"text-align: right;\">\n",
       "      <th>contact</th>\n",
       "      <th>cellular\"\"</th>\n",
       "      <th>telephone\"\"</th>\n",
       "    </tr>\n",
       "    <tr>\n",
       "      <th>term_deposit</th>\n",
       "      <th></th>\n",
       "      <th></th>\n",
       "    </tr>\n",
       "  </thead>\n",
       "  <tbody>\n",
       "    <tr>\n",
       "      <th>no\"\"\\r\"</th>\n",
       "      <td>0.852624</td>\n",
       "      <td>0.947687</td>\n",
       "    </tr>\n",
       "    <tr>\n",
       "      <th>yes\"\"\\r\"</th>\n",
       "      <td>0.147376</td>\n",
       "      <td>0.052313</td>\n",
       "    </tr>\n",
       "  </tbody>\n",
       "</table>\n",
       "</div>"
      ],
      "text/plain": [
       "contact       cellular\"\"  telephone\"\"\n",
       "term_deposit                         \n",
       "no\"\"\\r\"         0.852624     0.947687\n",
       "yes\"\"\\r\"        0.147376     0.052313"
      ]
     },
     "execution_count": 385,
     "metadata": {},
     "output_type": "execute_result"
    }
   ],
   "source": [
    "#Sera que a variavel contato explicar a variavel alvo(term_deposit)\n",
    "pd.crosstab(bank_data.term_deposit, bank_data.contact, normalize='columns')"
   ]
  },
  {
   "cell_type": "code",
   "execution_count": 291,
   "id": "4b7fcc11",
   "metadata": {},
   "outputs": [
    {
     "data": {
      "text/plain": [
       "yes\"\"        21576\n",
       "no\"\"         18622\n",
       "unknown\"\"      990\n",
       "Name: housing, dtype: int64"
      ]
     },
     "execution_count": 291,
     "metadata": {},
     "output_type": "execute_result"
    }
   ],
   "source": [
    "#clientes que tem crédito habitação\n",
    "bank_data['housing'].value_counts()"
   ]
  },
  {
   "cell_type": "code",
   "execution_count": 292,
   "id": "759cc02d",
   "metadata": {},
   "outputs": [
    {
     "data": {
      "text/plain": [
       "<AxesSubplot:>"
      ]
     },
     "execution_count": 292,
     "metadata": {},
     "output_type": "execute_result"
    },
    {
     "data": {
      "image/png": "[encoded data removed]",
      "text/plain": [
       "<Figure size 432x288 with 1 Axes>"
      ]
     },
     "metadata": {
      "needs_background": "light"
     },
     "output_type": "display_data"
    }
   ],
   "source": [
    "#verificamos a quantidade dos clientes que tem crédito habitação\n",
    "bank_data['housing'].value_counts().plot(kind=\"barh\")"
   ]
  },
  {
   "cell_type": "markdown",
   "id": "6700466a",
   "metadata": {},
   "source": [
    "<h6>Calculando a correlação de Pearson</h6>\n",
    "A direção da relação é indicada pelo sinal do coeficiente; um sinal + indica uma relação positiva e um sinal - indica uma relação negativa."
   ]
  },
  {
   "cell_type": "code",
   "execution_count": 386,
   "id": "f514ba7d",
   "metadata": {},
   "outputs": [
    {
     "data": {
      "text/html": [
       "<div>\n",
       "<style scoped>\n",
       "    .dataframe tbody tr th:only-of-type {\n",
       "        vertical-align: middle;\n",
       "    }\n",
       "\n",
       "    .dataframe tbody tr th {\n",
       "        vertical-align: top;\n",
       "    }\n",
       "\n",
       "    .dataframe thead th {\n",
       "        text-align: right;\n",
       "    }\n",
       "</style>\n",
       "<table border=\"1\" class=\"dataframe\">\n",
       "  <thead>\n",
       "    <tr style=\"text-align: right;\">\n",
       "      <th></th>\n",
       "      <th>duration</th>\n",
       "      <th>campaign</th>\n",
       "      <th>pdays</th>\n",
       "      <th>previous</th>\n",
       "      <th>employment_variation_rate</th>\n",
       "      <th>consumer_price</th>\n",
       "      <th>consumer_confidence</th>\n",
       "      <th>euribor3_month_rate</th>\n",
       "      <th>nr.employed</th>\n",
       "    </tr>\n",
       "  </thead>\n",
       "  <tbody>\n",
       "    <tr>\n",
       "      <th>duration</th>\n",
       "      <td>1.000000</td>\n",
       "      <td>-0.071699</td>\n",
       "      <td>-0.047577</td>\n",
       "      <td>0.020640</td>\n",
       "      <td>-0.027968</td>\n",
       "      <td>0.005312</td>\n",
       "      <td>-0.008173</td>\n",
       "      <td>-0.032897</td>\n",
       "      <td>-0.044703</td>\n",
       "    </tr>\n",
       "    <tr>\n",
       "      <th>campaign</th>\n",
       "      <td>-0.071699</td>\n",
       "      <td>1.000000</td>\n",
       "      <td>0.052584</td>\n",
       "      <td>-0.079141</td>\n",
       "      <td>0.150754</td>\n",
       "      <td>0.127836</td>\n",
       "      <td>-0.013733</td>\n",
       "      <td>0.135133</td>\n",
       "      <td>0.144095</td>\n",
       "    </tr>\n",
       "    <tr>\n",
       "      <th>pdays</th>\n",
       "      <td>-0.047577</td>\n",
       "      <td>0.052584</td>\n",
       "      <td>1.000000</td>\n",
       "      <td>-0.587514</td>\n",
       "      <td>0.271004</td>\n",
       "      <td>0.078889</td>\n",
       "      <td>-0.091342</td>\n",
       "      <td>0.296899</td>\n",
       "      <td>0.372605</td>\n",
       "    </tr>\n",
       "    <tr>\n",
       "      <th>previous</th>\n",
       "      <td>0.020640</td>\n",
       "      <td>-0.079141</td>\n",
       "      <td>-0.587514</td>\n",
       "      <td>1.000000</td>\n",
       "      <td>-0.420489</td>\n",
       "      <td>-0.203130</td>\n",
       "      <td>-0.050936</td>\n",
       "      <td>-0.454494</td>\n",
       "      <td>-0.501333</td>\n",
       "    </tr>\n",
       "    <tr>\n",
       "      <th>employment_variation_rate</th>\n",
       "      <td>-0.027968</td>\n",
       "      <td>0.150754</td>\n",
       "      <td>0.271004</td>\n",
       "      <td>-0.420489</td>\n",
       "      <td>1.000000</td>\n",
       "      <td>0.775334</td>\n",
       "      <td>0.196041</td>\n",
       "      <td>0.972245</td>\n",
       "      <td>0.906970</td>\n",
       "    </tr>\n",
       "    <tr>\n",
       "      <th>consumer_price</th>\n",
       "      <td>0.005312</td>\n",
       "      <td>0.127836</td>\n",
       "      <td>0.078889</td>\n",
       "      <td>-0.203130</td>\n",
       "      <td>0.775334</td>\n",
       "      <td>1.000000</td>\n",
       "      <td>0.058986</td>\n",
       "      <td>0.688230</td>\n",
       "      <td>0.522034</td>\n",
       "    </tr>\n",
       "    <tr>\n",
       "      <th>consumer_confidence</th>\n",
       "      <td>-0.008173</td>\n",
       "      <td>-0.013733</td>\n",
       "      <td>-0.091342</td>\n",
       "      <td>-0.050936</td>\n",
       "      <td>0.196041</td>\n",
       "      <td>0.058986</td>\n",
       "      <td>1.000000</td>\n",
       "      <td>0.277686</td>\n",
       "      <td>0.100513</td>\n",
       "    </tr>\n",
       "    <tr>\n",
       "      <th>euribor3_month_rate</th>\n",
       "      <td>-0.032897</td>\n",
       "      <td>0.135133</td>\n",
       "      <td>0.296899</td>\n",
       "      <td>-0.454494</td>\n",
       "      <td>0.972245</td>\n",
       "      <td>0.688230</td>\n",
       "      <td>0.277686</td>\n",
       "      <td>1.000000</td>\n",
       "      <td>0.945154</td>\n",
       "    </tr>\n",
       "    <tr>\n",
       "      <th>nr.employed</th>\n",
       "      <td>-0.044703</td>\n",
       "      <td>0.144095</td>\n",
       "      <td>0.372605</td>\n",
       "      <td>-0.501333</td>\n",
       "      <td>0.906970</td>\n",
       "      <td>0.522034</td>\n",
       "      <td>0.100513</td>\n",
       "      <td>0.945154</td>\n",
       "      <td>1.000000</td>\n",
       "    </tr>\n",
       "  </tbody>\n",
       "</table>\n",
       "</div>"
      ],
      "text/plain": [
       "                           duration  campaign     pdays  previous  \\\n",
       "duration                   1.000000 -0.071699 -0.047577  0.020640   \n",
       "campaign                  -0.071699  1.000000  0.052584 -0.079141   \n",
       "pdays                     -0.047577  0.052584  1.000000 -0.587514   \n",
       "previous                   0.020640 -0.079141 -0.587514  1.000000   \n",
       "employment_variation_rate -0.027968  0.150754  0.271004 -0.420489   \n",
       "consumer_price             0.005312  0.127836  0.078889 -0.203130   \n",
       "consumer_confidence       -0.008173 -0.013733 -0.091342 -0.050936   \n",
       "euribor3_month_rate       -0.032897  0.135133  0.296899 -0.454494   \n",
       "nr.employed               -0.044703  0.144095  0.372605 -0.501333   \n",
       "\n",
       "                           employment_variation_rate  consumer_price  \\\n",
       "duration                                   -0.027968        0.005312   \n",
       "campaign                                    0.150754        0.127836   \n",
       "pdays                                       0.271004        0.078889   \n",
       "previous                                   -0.420489       -0.203130   \n",
       "employment_variation_rate                   1.000000        0.775334   \n",
       "consumer_price                              0.775334        1.000000   \n",
       "consumer_confidence                         0.196041        0.058986   \n",
       "euribor3_month_rate                         0.972245        0.688230   \n",
       "nr.employed                                 0.906970        0.522034   \n",
       "\n",
       "                           consumer_confidence  euribor3_month_rate  \\\n",
       "duration                             -0.008173            -0.032897   \n",
       "campaign                             -0.013733             0.135133   \n",
       "pdays                                -0.091342             0.296899   \n",
       "previous                             -0.050936            -0.454494   \n",
       "employment_variation_rate             0.196041             0.972245   \n",
       "consumer_price                        0.058986             0.688230   \n",
       "consumer_confidence                   1.000000             0.277686   \n",
       "euribor3_month_rate                   0.277686             1.000000   \n",
       "nr.employed                           0.100513             0.945154   \n",
       "\n",
       "                           nr.employed  \n",
       "duration                     -0.044703  \n",
       "campaign                      0.144095  \n",
       "pdays                         0.372605  \n",
       "previous                     -0.501333  \n",
       "employment_variation_rate     0.906970  \n",
       "consumer_price                0.522034  \n",
       "consumer_confidence           0.100513  \n",
       "euribor3_month_rate           0.945154  \n",
       "nr.employed                   1.000000  "
      ]
     },
     "execution_count": 386,
     "metadata": {},
     "output_type": "execute_result"
    }
   ],
   "source": [
    "#correlação da variável. \n",
    "correlation=bank_data.corr()\n",
    "correlation"
   ]
  },
  {
   "cell_type": "markdown",
   "id": "a3c272ce",
   "metadata": {},
   "source": [
    "Observamos que algumas variaveis tem uma relação positiva."
   ]
  },
  {
   "cell_type": "code",
   "execution_count": 230,
   "id": "882bc683",
   "metadata": {},
   "outputs": [
    {
     "name": "stdout",
     "output_type": "stream",
     "text": [
      "nr.employed                 -0.354678\n",
      "pdays                       -0.324914\n",
      "euribor3_month_rate         -0.307771\n",
      "employment_variation_rate   -0.298334\n",
      "poutcome_nonexistent\"\"      -0.193507\n",
      "                               ...   \n",
      "contact                      0.144773\n",
      "previous                     0.230181\n",
      "poutcome_success\"\"           0.316269\n",
      "duration                     0.405274\n",
      "term_deposit                 1.000000\n",
      "Name: term_deposit, Length: 23, dtype: float64\n"
     ]
    }
   ],
   "source": [
    "#vamos ver como fica a correlação da variável de depósito a prazo com os variáveis independentes.\n",
    "print(bank_data.corr()['term_deposit'].sort_values())"
   ]
  },
  {
   "cell_type": "markdown",
   "id": "af07e02f",
   "metadata": {},
   "source": [
    "Tem algumas variáveis que tem uma relação positiva com a variável dependente(term_deposit)"
   ]
  },
  {
   "cell_type": "code",
   "execution_count": 435,
   "id": "063bd8b4",
   "metadata": {},
   "outputs": [
    {
     "data": {
      "text/html": [
       "<div>\n",
       "<style scoped>\n",
       "    .dataframe tbody tr th:only-of-type {\n",
       "        vertical-align: middle;\n",
       "    }\n",
       "\n",
       "    .dataframe tbody tr th {\n",
       "        vertical-align: top;\n",
       "    }\n",
       "\n",
       "    .dataframe thead th {\n",
       "        text-align: right;\n",
       "    }\n",
       "</style>\n",
       "<table border=\"1\" class=\"dataframe\">\n",
       "  <thead>\n",
       "    <tr style=\"text-align: right;\">\n",
       "      <th></th>\n",
       "      <th>duration</th>\n",
       "      <th>campaign</th>\n",
       "      <th>pdays</th>\n",
       "      <th>previous</th>\n",
       "      <th>employment_variation_rate</th>\n",
       "      <th>consumer_price</th>\n",
       "      <th>consumer_confidence</th>\n",
       "      <th>euribor3_month_rate</th>\n",
       "      <th>nr.employed</th>\n",
       "    </tr>\n",
       "  </thead>\n",
       "  <tbody>\n",
       "    <tr>\n",
       "      <th>count</th>\n",
       "      <td>41188.000000</td>\n",
       "      <td>41188.000000</td>\n",
       "      <td>41188.000000</td>\n",
       "      <td>41188.000000</td>\n",
       "      <td>41188.000000</td>\n",
       "      <td>41188.000000</td>\n",
       "      <td>41188.000000</td>\n",
       "      <td>41188.000000</td>\n",
       "      <td>41188.000000</td>\n",
       "    </tr>\n",
       "    <tr>\n",
       "      <th>mean</th>\n",
       "      <td>258.285010</td>\n",
       "      <td>2.567593</td>\n",
       "      <td>962.475454</td>\n",
       "      <td>0.172963</td>\n",
       "      <td>0.081886</td>\n",
       "      <td>93.575664</td>\n",
       "      <td>-40.502600</td>\n",
       "      <td>3.621291</td>\n",
       "      <td>5167.035911</td>\n",
       "    </tr>\n",
       "    <tr>\n",
       "      <th>std</th>\n",
       "      <td>259.279249</td>\n",
       "      <td>2.770014</td>\n",
       "      <td>186.910907</td>\n",
       "      <td>0.494901</td>\n",
       "      <td>1.570960</td>\n",
       "      <td>0.578840</td>\n",
       "      <td>4.628198</td>\n",
       "      <td>1.734447</td>\n",
       "      <td>72.251528</td>\n",
       "    </tr>\n",
       "    <tr>\n",
       "      <th>min</th>\n",
       "      <td>0.000000</td>\n",
       "      <td>1.000000</td>\n",
       "      <td>0.000000</td>\n",
       "      <td>0.000000</td>\n",
       "      <td>-3.400000</td>\n",
       "      <td>92.201000</td>\n",
       "      <td>-50.800000</td>\n",
       "      <td>0.634000</td>\n",
       "      <td>4963.600000</td>\n",
       "    </tr>\n",
       "    <tr>\n",
       "      <th>25%</th>\n",
       "      <td>102.000000</td>\n",
       "      <td>1.000000</td>\n",
       "      <td>999.000000</td>\n",
       "      <td>0.000000</td>\n",
       "      <td>-1.800000</td>\n",
       "      <td>93.075000</td>\n",
       "      <td>-42.700000</td>\n",
       "      <td>1.344000</td>\n",
       "      <td>5099.100000</td>\n",
       "    </tr>\n",
       "    <tr>\n",
       "      <th>50%</th>\n",
       "      <td>180.000000</td>\n",
       "      <td>2.000000</td>\n",
       "      <td>999.000000</td>\n",
       "      <td>0.000000</td>\n",
       "      <td>1.100000</td>\n",
       "      <td>93.749000</td>\n",
       "      <td>-41.800000</td>\n",
       "      <td>4.857000</td>\n",
       "      <td>5191.000000</td>\n",
       "    </tr>\n",
       "    <tr>\n",
       "      <th>75%</th>\n",
       "      <td>319.000000</td>\n",
       "      <td>3.000000</td>\n",
       "      <td>999.000000</td>\n",
       "      <td>0.000000</td>\n",
       "      <td>1.400000</td>\n",
       "      <td>93.994000</td>\n",
       "      <td>-36.400000</td>\n",
       "      <td>4.961000</td>\n",
       "      <td>5228.100000</td>\n",
       "    </tr>\n",
       "    <tr>\n",
       "      <th>max</th>\n",
       "      <td>4918.000000</td>\n",
       "      <td>56.000000</td>\n",
       "      <td>999.000000</td>\n",
       "      <td>7.000000</td>\n",
       "      <td>1.400000</td>\n",
       "      <td>94.767000</td>\n",
       "      <td>-26.900000</td>\n",
       "      <td>5.045000</td>\n",
       "      <td>5228.100000</td>\n",
       "    </tr>\n",
       "  </tbody>\n",
       "</table>\n",
       "</div>"
      ],
      "text/plain": [
       "           duration      campaign         pdays      previous  \\\n",
       "count  41188.000000  41188.000000  41188.000000  41188.000000   \n",
       "mean     258.285010      2.567593    962.475454      0.172963   \n",
       "std      259.279249      2.770014    186.910907      0.494901   \n",
       "min        0.000000      1.000000      0.000000      0.000000   \n",
       "25%      102.000000      1.000000    999.000000      0.000000   \n",
       "50%      180.000000      2.000000    999.000000      0.000000   \n",
       "75%      319.000000      3.000000    999.000000      0.000000   \n",
       "max     4918.000000     56.000000    999.000000      7.000000   \n",
       "\n",
       "       employment_variation_rate  consumer_price  consumer_confidence  \\\n",
       "count               41188.000000    41188.000000         41188.000000   \n",
       "mean                    0.081886       93.575664           -40.502600   \n",
       "std                     1.570960        0.578840             4.628198   \n",
       "min                    -3.400000       92.201000           -50.800000   \n",
       "25%                    -1.800000       93.075000           -42.700000   \n",
       "50%                     1.100000       93.749000           -41.800000   \n",
       "75%                     1.400000       93.994000           -36.400000   \n",
       "max                     1.400000       94.767000           -26.900000   \n",
       "\n",
       "       euribor3_month_rate   nr.employed  \n",
       "count         41188.000000  41188.000000  \n",
       "mean              3.621291   5167.035911  \n",
       "std               1.734447     72.251528  \n",
       "min               0.634000   4963.600000  \n",
       "25%               1.344000   5099.100000  \n",
       "50%               4.857000   5191.000000  \n",
       "75%               4.961000   5228.100000  \n",
       "max               5.045000   5228.100000  "
      ]
     },
     "execution_count": 435,
     "metadata": {},
     "output_type": "execute_result"
    }
   ],
   "source": [
    "#estatísticas descritivas\n",
    "bank_data.describe()"
   ]
  },
  {
   "cell_type": "markdown",
   "id": "0d77e5ee",
   "metadata": {},
   "source": [
    "<h6>Análise Exploratória de Dados Observações Finais:</h6>\n",
    "Vamos tentar resumir algumas das principais descobertas desta EDA:\n",
    "<ul>\n",
    "<li>O conjunto de dados não possui valores incorretos.</li>\n",
    "</ul>"
   ]
  },
  {
   "cell_type": "markdown",
   "id": "c53541b6",
   "metadata": {},
   "source": [
    "<h6>visualização de dados</h6> é a prática de traduzir informações em um contexto visual, como um mapa ou gráfico, para tornar os dados mais fáceis para o cérebro humano entender e extrair insights. O principal objetivo da visualização de dados é facilitar a identificação de padrões, tendências e outliers em grandes conjuntos de dados"
   ]
  },
  {
   "cell_type": "markdown",
   "id": "ab06ef2e",
   "metadata": {},
   "source": [
    "<h6>Calculando a correlação de Pearson com o seaborn heatmap</h6>"
   ]
  },
  {
   "cell_type": "code",
   "execution_count": 459,
   "id": "a74fcf29",
   "metadata": {},
   "outputs": [
    {
     "name": "stdout",
     "output_type": "stream",
     "text": [
      "AxesSubplot(0.125,0.125;0.62x0.755)\n"
     ]
    },
    {
     "data": {
      "image/png": "[encoded data removed]",
      "text/plain": [
       "<Figure size 1296x864 with 2 Axes>"
      ]
     },
     "metadata": {
      "needs_background": "light"
     },
     "output_type": "display_data"
    }
   ],
   "source": [
    "#matriz de correlação\n",
    "f, ax= plt.subplots(figsize=(18,12))\n",
    "print(sns.heatmap(correlation, annot=True))"
   ]
  },
  {
   "cell_type": "code",
   "execution_count": 336,
   "id": "a5974cf3",
   "metadata": {},
   "outputs": [
    {
     "name": "stdout",
     "output_type": "stream",
     "text": [
      "AxesSubplot(0.125,0.125;0.775x0.755)\n"
     ]
    },
    {
     "data": {
      "image/png": "[encoded data removed]",
      "text/plain": [
       "<Figure size 432x288 with 1 Axes>"
      ]
     },
     "metadata": {
      "needs_background": "light"
     },
     "output_type": "display_data"
    }
   ],
   "source": [
    "#variável contato vs variável alvo\n",
    "print(sns.countplot(x='contact', hue='term_deposit', data=bank_data))"
   ]
  },
  {
   "cell_type": "code",
   "execution_count": 337,
   "id": "1d4233b8",
   "metadata": {},
   "outputs": [
    {
     "name": "stdout",
     "output_type": "stream",
     "text": [
      "AxesSubplot(0.125,0.125;0.775x0.755)\n"
     ]
    },
    {
     "data": {
      "image/png": "[encoded data removed]",
      "text/plain": [
       "<Figure size 432x288 with 1 Axes>"
      ]
     },
     "metadata": {
      "needs_background": "light"
     },
     "output_type": "display_data"
    }
   ],
   "source": [
    "#variável estado civil vs variável alvo\n",
    "print(sns.countplot(x='marital', hue='term_deposit', data=bank_data))"
   ]
  },
  {
   "cell_type": "code",
   "execution_count": null,
   "id": "f3267e92",
   "metadata": {},
   "outputs": [],
   "source": []
  },
  {
   "cell_type": "markdown",
   "id": "78f5c8cd",
   "metadata": {},
   "source": [
    "<h6>Verificamos a distribuição das variaveis</h6>\n",
    "Uma boa maneira de visualizar a distribuição de uma variável numérica é um histograma. Mas em que consistem? Os histogramas são uma forma de exibir a distribuição de um conjunto de dados, traçando o número ou porcentagem de observações cujos valores estão dentro de intervalos numéricos predefinidos e, em seguida, plotando esses números ou porcentagens em um gráfico de barras. Ou seja, em um histograma, os dados são colocados em intervalos e a altura das barras representa o número de casos que caem em cada intervalo. Em outras palavras, um histograma fornece uma visão da densidade de dados.\n"
   ]
  },
  {
   "cell_type": "code",
   "execution_count": 436,
   "id": "cbf75d5f",
   "metadata": {
    "scrolled": false
   },
   "outputs": [
    {
     "data": {
      "image/png": "[encoded data removed]",
      "text/plain": [
       "<Figure size 1080x1440 with 9 Axes>"
      ]
     },
     "metadata": {
      "needs_background": "light"
     },
     "output_type": "display_data"
    }
   ],
   "source": [
    "#Plot histogram\n",
    "bank_data.hist(bins=20, figsize=(15,20))\n",
    "plt.show()"
   ]
  },
  {
   "cell_type": "markdown",
   "id": "d55b744d",
   "metadata": {},
   "source": [
    "<h6>pré-processamento de dados</h6> é o processo de transformar dados brutos em um formato compreensível. Também é um passo importante na mineração de dados, pois não podemos trabalhar com dados brutos. A qualidade dos dados deve ser verificada antes de aplicar algoritmos de aprendizado de máquina ou mineração de dados.\n"
   ]
  },
  {
   "cell_type": "markdown",
   "id": "d4b714cd",
   "metadata": {},
   "source": [
    "<h6>Categorização de variáveis</h6>\n",
    "A categorização de variáveis contínuas é definida por Kerber (1992) como o processo de dividir os valores de uma variável em um pequeno número de intervalos, onde cada intervalo é formado por um símbolo discreto."
   ]
  },
  {
   "cell_type": "code",
   "execution_count": 437,
   "id": "432210d3",
   "metadata": {},
   "outputs": [
    {
     "data": {
      "text/plain": [
       "university.degree\"\"      12168\n",
       "high.school\"\"             9515\n",
       "basic.9y\"\"                6045\n",
       "professional.course\"\"     5243\n",
       "basic.4y\"\"                4176\n",
       "basic.6y\"\"                2292\n",
       "unknown\"\"                 1731\n",
       "illiterate\"\"                18\n",
       "Name: education, dtype: int64"
      ]
     },
     "execution_count": 437,
     "metadata": {},
     "output_type": "execute_result"
    }
   ],
   "source": [
    "#categorização de variável educação\n",
    "bank_data[\"education\"].value_counts()"
   ]
  },
  {
   "cell_type": "code",
   "execution_count": 438,
   "id": "a888ce11",
   "metadata": {},
   "outputs": [
    {
     "data": {
      "text/plain": [
       "school                   23759\n",
       "university.degree\"\"      12168\n",
       "professional.course\"\"     5243\n",
       "illiterate\"\"                18\n",
       "Name: educaCat, dtype: int64"
      ]
     },
     "execution_count": 438,
     "metadata": {},
     "output_type": "execute_result"
    }
   ],
   "source": [
    "#categorização de variável educação\n",
    "education_map = {'high.school\"\"' : 'school', 'basic.9y\"\"' : 'school', 'basic.4y\"\"' :'school',\\\n",
    "                  'basic.6y\"\"': 'school','unknown\"\"':'school'}\n",
    "\n",
    "bank_data['educaCat'] = bank_data['education'].replace(education_map)\n",
    "bank_data['educaCat'].value_counts()"
   ]
  },
  {
   "cell_type": "code",
   "execution_count": 439,
   "id": "1a8200ae",
   "metadata": {},
   "outputs": [
    {
     "data": {
      "text/plain": [
       "admin.\"\"           10422\n",
       "blue-collar\"\"       9254\n",
       "technician\"\"        6743\n",
       "services\"\"          3969\n",
       "management\"\"        2924\n",
       "retired\"\"           1720\n",
       "entrepreneur\"\"      1456\n",
       "self-employed\"\"     1421\n",
       "housemaid\"\"         1060\n",
       "unemployed\"\"        1014\n",
       "student\"\"            875\n",
       "unknown\"\"            330\n",
       "Name: job, dtype: int64"
      ]
     },
     "execution_count": 439,
     "metadata": {},
     "output_type": "execute_result"
    }
   ],
   "source": [
    "#categorização de variável job\n",
    "bank_data[\"job\"].value_counts()"
   ]
  },
  {
   "cell_type": "code",
   "execution_count": 440,
   "id": "5515bd9c",
   "metadata": {},
   "outputs": [
    {
     "data": {
      "text/plain": [
       "group              13378\n",
       "admin.\"\"           10422\n",
       "technician\"\"        6743\n",
       "services\"\"          3969\n",
       "management\"\"        2924\n",
       "entrepreneur\"\"      1456\n",
       "self-employed\"\"     1421\n",
       "student\"\"            875\n",
       "Name: clients, dtype: int64"
      ]
     },
     "execution_count": 440,
     "metadata": {},
     "output_type": "execute_result"
    }
   ],
   "source": [
    "#categorização de variável job\n",
    "job_map = { 'unknown\"\"' : 'group', 'unemployed\"\"' : 'group', 'housemaid\"\"' :'group', 'blue-collar\"\"' :\n",
    "           'group','retired\"\"':'group'}\n",
    "\n",
    "bank_data['clients'] = bank_data['job'].replace(job_map)\n",
    "bank_data['clients'].value_counts()"
   ]
  },
  {
   "cell_type": "code",
   "execution_count": 441,
   "id": "d47321d4",
   "metadata": {},
   "outputs": [
    {
     "data": {
      "text/plain": [
       "group             13378\n",
       "admin.\"\"          10422\n",
       "technician\"\"       6743\n",
       "group2             6265\n",
       "management\"\"       2924\n",
       "entrepreneur\"\"     1456\n",
       "Name: clients, dtype: int64"
      ]
     },
     "execution_count": 441,
     "metadata": {},
     "output_type": "execute_result"
    }
   ],
   "source": [
    "#categorização de variável job\n",
    "job_map1 = { 'student\"\"' : 'group2', 'self-employed\"\"' : 'group2', 'services\"\"' :'group2'}\n",
    "\n",
    "bank_data['clients'] = bank_data['clients'].replace(job_map1)\n",
    "bank_data['clients'].value_counts()"
   ]
  },
  {
   "cell_type": "code",
   "execution_count": 442,
   "id": "f1583891",
   "metadata": {},
   "outputs": [],
   "source": [
    "#Dummificacao das variaveis categorias binarias\n",
    "catego_binario=[\"default\",\"housing\",\"personal_loan\",\"poutcome\"]\n",
    "for column in catego_binario:\n",
    "    dummy= pd.get_dummies(bank_data[column], prefix=column)\n",
    "    bank_data=pd.concat([bank_data,dummy], axis=1)\n",
    "    bank_data.drop(column, axis=1, inplace=True) "
   ]
  },
  {
   "cell_type": "code",
   "execution_count": 443,
   "id": "55181f15",
   "metadata": {},
   "outputs": [],
   "source": [
    "#\n",
    "bank_data[\"term_deposit\"]=bank_data['term_deposit'].replace('no\"\"\\r\"', 0)\n",
    "bank_data[\"term_deposit\"]=bank_data['term_deposit'].replace('yes\"\"\\r\"',1)\n",
    "bank_data[\"contact\"]=bank_data['contact'].replace('telephone\"\"',0)\n",
    "bank_data[\"contact\"]=bank_data[\"contact\"].replace('cellular\"\"',1)"
   ]
  },
  {
   "cell_type": "code",
   "execution_count": 444,
   "id": "6355ddcf",
   "metadata": {},
   "outputs": [],
   "source": [
    "#group categorical variable to transform into numerical\n",
    "cat=[\"educaCat\",\"clients\"]"
   ]
  },
  {
   "cell_type": "code",
   "execution_count": 445,
   "id": "018ca96e",
   "metadata": {},
   "outputs": [],
   "source": [
    "bank_data= pd.get_dummies(bank_data, columns=cat, drop_first=True)"
   ]
  },
  {
   "cell_type": "code",
   "execution_count": 446,
   "id": "7e278cd6",
   "metadata": {},
   "outputs": [
    {
     "data": {
      "text/html": [
       "<div>\n",
       "<style scoped>\n",
       "    .dataframe tbody tr th:only-of-type {\n",
       "        vertical-align: middle;\n",
       "    }\n",
       "\n",
       "    .dataframe tbody tr th {\n",
       "        vertical-align: top;\n",
       "    }\n",
       "\n",
       "    .dataframe thead th {\n",
       "        text-align: right;\n",
       "    }\n",
       "</style>\n",
       "<table border=\"1\" class=\"dataframe\">\n",
       "  <thead>\n",
       "    <tr style=\"text-align: right;\">\n",
       "      <th></th>\n",
       "      <th>age</th>\n",
       "      <th>job</th>\n",
       "      <th>marital</th>\n",
       "      <th>education</th>\n",
       "      <th>contact</th>\n",
       "      <th>duration</th>\n",
       "      <th>campaign</th>\n",
       "      <th>pdays</th>\n",
       "      <th>previous</th>\n",
       "      <th>employment_variation_rate</th>\n",
       "      <th>consumer_price</th>\n",
       "      <th>consumer_confidence</th>\n",
       "      <th>euribor3_month_rate</th>\n",
       "      <th>nr.employed</th>\n",
       "      <th>term_deposit</th>\n",
       "      <th>default_no\"\"</th>\n",
       "      <th>default_unknown\"\"</th>\n",
       "      <th>default_yes\"\"</th>\n",
       "      <th>housing_no\"\"</th>\n",
       "      <th>housing_unknown\"\"</th>\n",
       "      <th>housing_yes\"\"</th>\n",
       "      <th>personal_loan_no\"\"</th>\n",
       "      <th>personal_loan_unknown\"\"</th>\n",
       "      <th>personal_loan_yes\"\"</th>\n",
       "      <th>poutcome_failure\"\"</th>\n",
       "      <th>poutcome_nonexistent\"\"</th>\n",
       "      <th>poutcome_success\"\"</th>\n",
       "      <th>educaCat_professional.course\"\"</th>\n",
       "      <th>educaCat_school</th>\n",
       "      <th>educaCat_university.degree\"\"</th>\n",
       "      <th>clients_entrepreneur\"\"</th>\n",
       "      <th>clients_group</th>\n",
       "      <th>clients_group2</th>\n",
       "      <th>clients_management\"\"</th>\n",
       "      <th>clients_technician\"\"</th>\n",
       "    </tr>\n",
       "  </thead>\n",
       "  <tbody>\n",
       "    <tr>\n",
       "      <th>0</th>\n",
       "      <td>0,\"56</td>\n",
       "      <td>housemaid\"\"</td>\n",
       "      <td>married\"\"</td>\n",
       "      <td>basic.4y\"\"</td>\n",
       "      <td>0</td>\n",
       "      <td>261</td>\n",
       "      <td>1</td>\n",
       "      <td>999</td>\n",
       "      <td>0</td>\n",
       "      <td>1.1</td>\n",
       "      <td>93.994</td>\n",
       "      <td>-36.4</td>\n",
       "      <td>4.857</td>\n",
       "      <td>5191.0</td>\n",
       "      <td>0</td>\n",
       "      <td>1</td>\n",
       "      <td>0</td>\n",
       "      <td>0</td>\n",
       "      <td>1</td>\n",
       "      <td>0</td>\n",
       "      <td>0</td>\n",
       "      <td>1</td>\n",
       "      <td>0</td>\n",
       "      <td>0</td>\n",
       "      <td>0</td>\n",
       "      <td>1</td>\n",
       "      <td>0</td>\n",
       "      <td>0</td>\n",
       "      <td>1</td>\n",
       "      <td>0</td>\n",
       "      <td>0</td>\n",
       "      <td>1</td>\n",
       "      <td>0</td>\n",
       "      <td>0</td>\n",
       "      <td>0</td>\n",
       "    </tr>\n",
       "    <tr>\n",
       "      <th>1</th>\n",
       "      <td>1,\"57</td>\n",
       "      <td>services\"\"</td>\n",
       "      <td>married\"\"</td>\n",
       "      <td>high.school\"\"</td>\n",
       "      <td>0</td>\n",
       "      <td>149</td>\n",
       "      <td>1</td>\n",
       "      <td>999</td>\n",
       "      <td>0</td>\n",
       "      <td>1.1</td>\n",
       "      <td>93.994</td>\n",
       "      <td>-36.4</td>\n",
       "      <td>4.857</td>\n",
       "      <td>5191.0</td>\n",
       "      <td>0</td>\n",
       "      <td>0</td>\n",
       "      <td>1</td>\n",
       "      <td>0</td>\n",
       "      <td>1</td>\n",
       "      <td>0</td>\n",
       "      <td>0</td>\n",
       "      <td>1</td>\n",
       "      <td>0</td>\n",
       "      <td>0</td>\n",
       "      <td>0</td>\n",
       "      <td>1</td>\n",
       "      <td>0</td>\n",
       "      <td>0</td>\n",
       "      <td>1</td>\n",
       "      <td>0</td>\n",
       "      <td>0</td>\n",
       "      <td>0</td>\n",
       "      <td>1</td>\n",
       "      <td>0</td>\n",
       "      <td>0</td>\n",
       "    </tr>\n",
       "    <tr>\n",
       "      <th>2</th>\n",
       "      <td>2,\"37</td>\n",
       "      <td>services\"\"</td>\n",
       "      <td>married\"\"</td>\n",
       "      <td>high.school\"\"</td>\n",
       "      <td>0</td>\n",
       "      <td>226</td>\n",
       "      <td>1</td>\n",
       "      <td>999</td>\n",
       "      <td>0</td>\n",
       "      <td>1.1</td>\n",
       "      <td>93.994</td>\n",
       "      <td>-36.4</td>\n",
       "      <td>4.857</td>\n",
       "      <td>5191.0</td>\n",
       "      <td>0</td>\n",
       "      <td>1</td>\n",
       "      <td>0</td>\n",
       "      <td>0</td>\n",
       "      <td>0</td>\n",
       "      <td>0</td>\n",
       "      <td>1</td>\n",
       "      <td>1</td>\n",
       "      <td>0</td>\n",
       "      <td>0</td>\n",
       "      <td>0</td>\n",
       "      <td>1</td>\n",
       "      <td>0</td>\n",
       "      <td>0</td>\n",
       "      <td>1</td>\n",
       "      <td>0</td>\n",
       "      <td>0</td>\n",
       "      <td>0</td>\n",
       "      <td>1</td>\n",
       "      <td>0</td>\n",
       "      <td>0</td>\n",
       "    </tr>\n",
       "    <tr>\n",
       "      <th>3</th>\n",
       "      <td>3,\"40</td>\n",
       "      <td>admin.\"\"</td>\n",
       "      <td>married\"\"</td>\n",
       "      <td>basic.6y\"\"</td>\n",
       "      <td>0</td>\n",
       "      <td>151</td>\n",
       "      <td>1</td>\n",
       "      <td>999</td>\n",
       "      <td>0</td>\n",
       "      <td>1.1</td>\n",
       "      <td>93.994</td>\n",
       "      <td>-36.4</td>\n",
       "      <td>4.857</td>\n",
       "      <td>5191.0</td>\n",
       "      <td>0</td>\n",
       "      <td>1</td>\n",
       "      <td>0</td>\n",
       "      <td>0</td>\n",
       "      <td>1</td>\n",
       "      <td>0</td>\n",
       "      <td>0</td>\n",
       "      <td>1</td>\n",
       "      <td>0</td>\n",
       "      <td>0</td>\n",
       "      <td>0</td>\n",
       "      <td>1</td>\n",
       "      <td>0</td>\n",
       "      <td>0</td>\n",
       "      <td>1</td>\n",
       "      <td>0</td>\n",
       "      <td>0</td>\n",
       "      <td>0</td>\n",
       "      <td>0</td>\n",
       "      <td>0</td>\n",
       "      <td>0</td>\n",
       "    </tr>\n",
       "    <tr>\n",
       "      <th>4</th>\n",
       "      <td>4,\"56</td>\n",
       "      <td>services\"\"</td>\n",
       "      <td>married\"\"</td>\n",
       "      <td>high.school\"\"</td>\n",
       "      <td>0</td>\n",
       "      <td>307</td>\n",
       "      <td>1</td>\n",
       "      <td>999</td>\n",
       "      <td>0</td>\n",
       "      <td>1.1</td>\n",
       "      <td>93.994</td>\n",
       "      <td>-36.4</td>\n",
       "      <td>4.857</td>\n",
       "      <td>5191.0</td>\n",
       "      <td>0</td>\n",
       "      <td>1</td>\n",
       "      <td>0</td>\n",
       "      <td>0</td>\n",
       "      <td>1</td>\n",
       "      <td>0</td>\n",
       "      <td>0</td>\n",
       "      <td>0</td>\n",
       "      <td>0</td>\n",
       "      <td>1</td>\n",
       "      <td>0</td>\n",
       "      <td>1</td>\n",
       "      <td>0</td>\n",
       "      <td>0</td>\n",
       "      <td>1</td>\n",
       "      <td>0</td>\n",
       "      <td>0</td>\n",
       "      <td>0</td>\n",
       "      <td>1</td>\n",
       "      <td>0</td>\n",
       "      <td>0</td>\n",
       "    </tr>\n",
       "    <tr>\n",
       "      <th>5</th>\n",
       "      <td>5,\"45</td>\n",
       "      <td>services\"\"</td>\n",
       "      <td>married\"\"</td>\n",
       "      <td>basic.9y\"\"</td>\n",
       "      <td>0</td>\n",
       "      <td>198</td>\n",
       "      <td>1</td>\n",
       "      <td>999</td>\n",
       "      <td>0</td>\n",
       "      <td>1.1</td>\n",
       "      <td>93.994</td>\n",
       "      <td>-36.4</td>\n",
       "      <td>4.857</td>\n",
       "      <td>5191.0</td>\n",
       "      <td>0</td>\n",
       "      <td>0</td>\n",
       "      <td>1</td>\n",
       "      <td>0</td>\n",
       "      <td>1</td>\n",
       "      <td>0</td>\n",
       "      <td>0</td>\n",
       "      <td>1</td>\n",
       "      <td>0</td>\n",
       "      <td>0</td>\n",
       "      <td>0</td>\n",
       "      <td>1</td>\n",
       "      <td>0</td>\n",
       "      <td>0</td>\n",
       "      <td>1</td>\n",
       "      <td>0</td>\n",
       "      <td>0</td>\n",
       "      <td>0</td>\n",
       "      <td>1</td>\n",
       "      <td>0</td>\n",
       "      <td>0</td>\n",
       "    </tr>\n",
       "    <tr>\n",
       "      <th>6</th>\n",
       "      <td>6,\"59</td>\n",
       "      <td>admin.\"\"</td>\n",
       "      <td>married\"\"</td>\n",
       "      <td>professional.course\"\"</td>\n",
       "      <td>0</td>\n",
       "      <td>139</td>\n",
       "      <td>1</td>\n",
       "      <td>999</td>\n",
       "      <td>0</td>\n",
       "      <td>1.1</td>\n",
       "      <td>93.994</td>\n",
       "      <td>-36.4</td>\n",
       "      <td>4.857</td>\n",
       "      <td>5191.0</td>\n",
       "      <td>0</td>\n",
       "      <td>1</td>\n",
       "      <td>0</td>\n",
       "      <td>0</td>\n",
       "      <td>1</td>\n",
       "      <td>0</td>\n",
       "      <td>0</td>\n",
       "      <td>1</td>\n",
       "      <td>0</td>\n",
       "      <td>0</td>\n",
       "      <td>0</td>\n",
       "      <td>1</td>\n",
       "      <td>0</td>\n",
       "      <td>1</td>\n",
       "      <td>0</td>\n",
       "      <td>0</td>\n",
       "      <td>0</td>\n",
       "      <td>0</td>\n",
       "      <td>0</td>\n",
       "      <td>0</td>\n",
       "      <td>0</td>\n",
       "    </tr>\n",
       "    <tr>\n",
       "      <th>7</th>\n",
       "      <td>7,\"41</td>\n",
       "      <td>blue-collar\"\"</td>\n",
       "      <td>married\"\"</td>\n",
       "      <td>unknown\"\"</td>\n",
       "      <td>0</td>\n",
       "      <td>217</td>\n",
       "      <td>1</td>\n",
       "      <td>999</td>\n",
       "      <td>0</td>\n",
       "      <td>1.1</td>\n",
       "      <td>93.994</td>\n",
       "      <td>-36.4</td>\n",
       "      <td>4.857</td>\n",
       "      <td>5191.0</td>\n",
       "      <td>0</td>\n",
       "      <td>0</td>\n",
       "      <td>1</td>\n",
       "      <td>0</td>\n",
       "      <td>1</td>\n",
       "      <td>0</td>\n",
       "      <td>0</td>\n",
       "      <td>1</td>\n",
       "      <td>0</td>\n",
       "      <td>0</td>\n",
       "      <td>0</td>\n",
       "      <td>1</td>\n",
       "      <td>0</td>\n",
       "      <td>0</td>\n",
       "      <td>1</td>\n",
       "      <td>0</td>\n",
       "      <td>0</td>\n",
       "      <td>1</td>\n",
       "      <td>0</td>\n",
       "      <td>0</td>\n",
       "      <td>0</td>\n",
       "    </tr>\n",
       "    <tr>\n",
       "      <th>8</th>\n",
       "      <td>8,\"24</td>\n",
       "      <td>technician\"\"</td>\n",
       "      <td>single\"\"</td>\n",
       "      <td>professional.course\"\"</td>\n",
       "      <td>0</td>\n",
       "      <td>380</td>\n",
       "      <td>1</td>\n",
       "      <td>999</td>\n",
       "      <td>0</td>\n",
       "      <td>1.1</td>\n",
       "      <td>93.994</td>\n",
       "      <td>-36.4</td>\n",
       "      <td>4.857</td>\n",
       "      <td>5191.0</td>\n",
       "      <td>0</td>\n",
       "      <td>1</td>\n",
       "      <td>0</td>\n",
       "      <td>0</td>\n",
       "      <td>0</td>\n",
       "      <td>0</td>\n",
       "      <td>1</td>\n",
       "      <td>1</td>\n",
       "      <td>0</td>\n",
       "      <td>0</td>\n",
       "      <td>0</td>\n",
       "      <td>1</td>\n",
       "      <td>0</td>\n",
       "      <td>1</td>\n",
       "      <td>0</td>\n",
       "      <td>0</td>\n",
       "      <td>0</td>\n",
       "      <td>0</td>\n",
       "      <td>0</td>\n",
       "      <td>0</td>\n",
       "      <td>1</td>\n",
       "    </tr>\n",
       "    <tr>\n",
       "      <th>9</th>\n",
       "      <td>9,\"25</td>\n",
       "      <td>services\"\"</td>\n",
       "      <td>single\"\"</td>\n",
       "      <td>high.school\"\"</td>\n",
       "      <td>0</td>\n",
       "      <td>50</td>\n",
       "      <td>1</td>\n",
       "      <td>999</td>\n",
       "      <td>0</td>\n",
       "      <td>1.1</td>\n",
       "      <td>93.994</td>\n",
       "      <td>-36.4</td>\n",
       "      <td>4.857</td>\n",
       "      <td>5191.0</td>\n",
       "      <td>0</td>\n",
       "      <td>1</td>\n",
       "      <td>0</td>\n",
       "      <td>0</td>\n",
       "      <td>0</td>\n",
       "      <td>0</td>\n",
       "      <td>1</td>\n",
       "      <td>1</td>\n",
       "      <td>0</td>\n",
       "      <td>0</td>\n",
       "      <td>0</td>\n",
       "      <td>1</td>\n",
       "      <td>0</td>\n",
       "      <td>0</td>\n",
       "      <td>1</td>\n",
       "      <td>0</td>\n",
       "      <td>0</td>\n",
       "      <td>0</td>\n",
       "      <td>1</td>\n",
       "      <td>0</td>\n",
       "      <td>0</td>\n",
       "    </tr>\n",
       "  </tbody>\n",
       "</table>\n",
       "</div>"
      ],
      "text/plain": [
       "     age            job    marital              education  contact  duration  \\\n",
       "0  0,\"56    housemaid\"\"  married\"\"             basic.4y\"\"        0       261   \n",
       "1  1,\"57     services\"\"  married\"\"          high.school\"\"        0       149   \n",
       "2  2,\"37     services\"\"  married\"\"          high.school\"\"        0       226   \n",
       "3  3,\"40       admin.\"\"  married\"\"             basic.6y\"\"        0       151   \n",
       "4  4,\"56     services\"\"  married\"\"          high.school\"\"        0       307   \n",
       "5  5,\"45     services\"\"  married\"\"             basic.9y\"\"        0       198   \n",
       "6  6,\"59       admin.\"\"  married\"\"  professional.course\"\"        0       139   \n",
       "7  7,\"41  blue-collar\"\"  married\"\"              unknown\"\"        0       217   \n",
       "8  8,\"24   technician\"\"   single\"\"  professional.course\"\"        0       380   \n",
       "9  9,\"25     services\"\"   single\"\"          high.school\"\"        0        50   \n",
       "\n",
       "   campaign  pdays  previous  employment_variation_rate  consumer_price  \\\n",
       "0         1    999         0                        1.1          93.994   \n",
       "1         1    999         0                        1.1          93.994   \n",
       "2         1    999         0                        1.1          93.994   \n",
       "3         1    999         0                        1.1          93.994   \n",
       "4         1    999         0                        1.1          93.994   \n",
       "5         1    999         0                        1.1          93.994   \n",
       "6         1    999         0                        1.1          93.994   \n",
       "7         1    999         0                        1.1          93.994   \n",
       "8         1    999         0                        1.1          93.994   \n",
       "9         1    999         0                        1.1          93.994   \n",
       "\n",
       "   consumer_confidence  euribor3_month_rate  nr.employed  term_deposit  \\\n",
       "0                -36.4                4.857       5191.0             0   \n",
       "1                -36.4                4.857       5191.0             0   \n",
       "2                -36.4                4.857       5191.0             0   \n",
       "3                -36.4                4.857       5191.0             0   \n",
       "4                -36.4                4.857       5191.0             0   \n",
       "5                -36.4                4.857       5191.0             0   \n",
       "6                -36.4                4.857       5191.0             0   \n",
       "7                -36.4                4.857       5191.0             0   \n",
       "8                -36.4                4.857       5191.0             0   \n",
       "9                -36.4                4.857       5191.0             0   \n",
       "\n",
       "   default_no\"\"  default_unknown\"\"  default_yes\"\"  housing_no\"\"  \\\n",
       "0             1                  0              0             1   \n",
       "1             0                  1              0             1   \n",
       "2             1                  0              0             0   \n",
       "3             1                  0              0             1   \n",
       "4             1                  0              0             1   \n",
       "5             0                  1              0             1   \n",
       "6             1                  0              0             1   \n",
       "7             0                  1              0             1   \n",
       "8             1                  0              0             0   \n",
       "9             1                  0              0             0   \n",
       "\n",
       "   housing_unknown\"\"  housing_yes\"\"  personal_loan_no\"\"  \\\n",
       "0                  0              0                   1   \n",
       "1                  0              0                   1   \n",
       "2                  0              1                   1   \n",
       "3                  0              0                   1   \n",
       "4                  0              0                   0   \n",
       "5                  0              0                   1   \n",
       "6                  0              0                   1   \n",
       "7                  0              0                   1   \n",
       "8                  0              1                   1   \n",
       "9                  0              1                   1   \n",
       "\n",
       "   personal_loan_unknown\"\"  personal_loan_yes\"\"  poutcome_failure\"\"  \\\n",
       "0                        0                    0                   0   \n",
       "1                        0                    0                   0   \n",
       "2                        0                    0                   0   \n",
       "3                        0                    0                   0   \n",
       "4                        0                    1                   0   \n",
       "5                        0                    0                   0   \n",
       "6                        0                    0                   0   \n",
       "7                        0                    0                   0   \n",
       "8                        0                    0                   0   \n",
       "9                        0                    0                   0   \n",
       "\n",
       "   poutcome_nonexistent\"\"  poutcome_success\"\"  educaCat_professional.course\"\"  \\\n",
       "0                       1                   0                               0   \n",
       "1                       1                   0                               0   \n",
       "2                       1                   0                               0   \n",
       "3                       1                   0                               0   \n",
       "4                       1                   0                               0   \n",
       "5                       1                   0                               0   \n",
       "6                       1                   0                               1   \n",
       "7                       1                   0                               0   \n",
       "8                       1                   0                               1   \n",
       "9                       1                   0                               0   \n",
       "\n",
       "   educaCat_school  educaCat_university.degree\"\"  clients_entrepreneur\"\"  \\\n",
       "0                1                             0                       0   \n",
       "1                1                             0                       0   \n",
       "2                1                             0                       0   \n",
       "3                1                             0                       0   \n",
       "4                1                             0                       0   \n",
       "5                1                             0                       0   \n",
       "6                0                             0                       0   \n",
       "7                1                             0                       0   \n",
       "8                0                             0                       0   \n",
       "9                1                             0                       0   \n",
       "\n",
       "   clients_group  clients_group2  clients_management\"\"  clients_technician\"\"  \n",
       "0              1               0                     0                     0  \n",
       "1              0               1                     0                     0  \n",
       "2              0               1                     0                     0  \n",
       "3              0               0                     0                     0  \n",
       "4              0               1                     0                     0  \n",
       "5              0               1                     0                     0  \n",
       "6              0               0                     0                     0  \n",
       "7              1               0                     0                     0  \n",
       "8              0               0                     0                     1  \n",
       "9              0               1                     0                     0  "
      ]
     },
     "execution_count": 446,
     "metadata": {},
     "output_type": "execute_result"
    }
   ],
   "source": [
    "bank_data.head(10)"
   ]
  },
  {
   "cell_type": "code",
   "execution_count": 447,
   "id": "88a3dbf3",
   "metadata": {},
   "outputs": [],
   "source": [
    "#aplicar feature scaling \n",
    "standard= StandardScaler()\n",
    "bank_data[[\"consumer_price\",\"euribor3_month_rate\",\"duration\",\"nr.employed\"]]= standard.fit_transform(bank_data[[\"consumer_price\",\"euribor3_month_rate\",\"duration\",\"nr.employed\"]])"
   ]
  },
  {
   "cell_type": "markdown",
   "id": "d8f7a562",
   "metadata": {},
   "source": [
    "\n",
    "<h6>Vamos criar a variável dependente e a variável independente</h6>"
   ]
  },
  {
   "cell_type": "code",
   "execution_count": 448,
   "id": "1508aa0b",
   "metadata": {},
   "outputs": [
    {
     "name": "stdout",
     "output_type": "stream",
     "text": [
      "(41188, 29)\n",
      "(41188,)\n"
     ]
    }
   ],
   "source": [
    "#dependente y e independente x\n",
    "x= bank_data.drop(['term_deposit','age','job','pdays','education','pdays','marital'], axis= 1).values\n",
    "print(x.shape)\n",
    "\n",
    "y= bank_data['term_deposit'].values\n",
    "print(y.shape)"
   ]
  },
  {
   "cell_type": "code",
   "execution_count": 449,
   "id": "6a3f3c50",
   "metadata": {},
   "outputs": [
    {
     "name": "stdout",
     "output_type": "stream",
     "text": [
      "O valor de treinamento X_train:(28831, 29)\n",
      "O valor de teste X_test:(12357, 29)\n",
      "O valor de treinamento Y_train :(28831,)\n",
      "O valor de teste Y_test:(12357,)\n"
     ]
    }
   ],
   "source": [
    "#let's split the data into training set and testing set\n",
    "X_train, X_test, Y_train, Y_test= train_test_split(x, y, stratify=y,test_size= 0.3, random_state= 2)\n",
    "\n",
    "\n",
    "print(\"O valor de treinamento X_train:{}\".format(X_train.shape))\n",
    "print(\"O valor de teste X_test:{}\".format(X_test.shape))\n",
    "\n",
    "print(\"O valor de treinamento Y_train :{}\".format(Y_train.shape))\n",
    "print(\"O valor de teste Y_test:{}\".format(Y_test.shape))"
   ]
  },
  {
   "cell_type": "markdown",
   "id": "3b455403",
   "metadata": {},
   "source": [
    "<h3>Treinamento de Modelo:</h3>\n",
    "\n",
    "Nesta seção, vamos ajustar, treinar e testar vários modelos de aprendizado de máquina para classificá-los e, em seguida, escolher algumas métricas para avaliá-los."
   ]
  },
  {
   "cell_type": "markdown",
   "id": "cb3f584b",
   "metadata": {},
   "source": [
    "<h6>Logistic Regression</h6>"
   ]
  },
  {
   "cell_type": "code",
   "execution_count": 450,
   "id": "0a2678b5",
   "metadata": {},
   "outputs": [
    {
     "data": {
      "text/html": [
       "<style>#sk-container-id-5 {color: black;background-color: white;}#sk-container-id-5 pre{padding: 0;}#sk-container-id-5 div.sk-toggleable {background-color: white;}#sk-container-id-5 label.sk-toggleable__label {cursor: pointer;display: block;width: 100%;margin-bottom: 0;padding: 0.3em;box-sizing: border-box;text-align: center;}#sk-container-id-5 label.sk-toggleable__label-arrow:before {content: \"▸\";float: left;margin-right: 0.25em;color: #696969;}#sk-container-id-5 label.sk-toggleable__label-arrow:hover:before {color: black;}#sk-container-id-5 div.sk-estimator:hover label.sk-toggleable__label-arrow:before {color: black;}#sk-container-id-5 div.sk-toggleable__content {max-height: 0;max-width: 0;overflow: hidden;text-align: left;background-color: #f0f8ff;}#sk-container-id-5 div.sk-toggleable__content pre {margin: 0.2em;color: black;border-radius: 0.25em;background-color: #f0f8ff;}#sk-container-id-5 input.sk-toggleable__control:checked~div.sk-toggleable__content {max-height: 200px;max-width: 100%;overflow: auto;}#sk-container-id-5 input.sk-toggleable__control:checked~label.sk-toggleable__label-arrow:before {content: \"▾\";}#sk-container-id-5 div.sk-estimator input.sk-toggleable__control:checked~label.sk-toggleable__label {background-color: #d4ebff;}#sk-container-id-5 div.sk-label input.sk-toggleable__control:checked~label.sk-toggleable__label {background-color: #d4ebff;}#sk-container-id-5 input.sk-hidden--visually {border: 0;clip: rect(1px 1px 1px 1px);clip: rect(1px, 1px, 1px, 1px);height: 1px;margin: -1px;overflow: hidden;padding: 0;position: absolute;width: 1px;}#sk-container-id-5 div.sk-estimator {font-family: monospace;background-color: #f0f8ff;border: 1px dotted black;border-radius: 0.25em;box-sizing: border-box;margin-bottom: 0.5em;}#sk-container-id-5 div.sk-estimator:hover {background-color: #d4ebff;}#sk-container-id-5 div.sk-parallel-item::after {content: \"\";width: 100%;border-bottom: 1px solid gray;flex-grow: 1;}#sk-container-id-5 div.sk-label:hover label.sk-toggleable__label {background-color: #d4ebff;}#sk-container-id-5 div.sk-serial::before {content: \"\";position: absolute;border-left: 1px solid gray;box-sizing: border-box;top: 0;bottom: 0;left: 50%;z-index: 0;}#sk-container-id-5 div.sk-serial {display: flex;flex-direction: column;align-items: center;background-color: white;padding-right: 0.2em;padding-left: 0.2em;position: relative;}#sk-container-id-5 div.sk-item {position: relative;z-index: 1;}#sk-container-id-5 div.sk-parallel {display: flex;align-items: stretch;justify-content: center;background-color: white;position: relative;}#sk-container-id-5 div.sk-item::before, #sk-container-id-5 div.sk-parallel-item::before {content: \"\";position: absolute;border-left: 1px solid gray;box-sizing: border-box;top: 0;bottom: 0;left: 50%;z-index: -1;}#sk-container-id-5 div.sk-parallel-item {display: flex;flex-direction: column;z-index: 1;position: relative;background-color: white;}#sk-container-id-5 div.sk-parallel-item:first-child::after {align-self: flex-end;width: 50%;}#sk-container-id-5 div.sk-parallel-item:last-child::after {align-self: flex-start;width: 50%;}#sk-container-id-5 div.sk-parallel-item:only-child::after {width: 0;}#sk-container-id-5 div.sk-dashed-wrapped {border: 1px dashed gray;margin: 0 0.4em 0.5em 0.4em;box-sizing: border-box;padding-bottom: 0.4em;background-color: white;}#sk-container-id-5 div.sk-label label {font-family: monospace;font-weight: bold;display: inline-block;line-height: 1.2em;}#sk-container-id-5 div.sk-label-container {text-align: center;}#sk-container-id-5 div.sk-container {/* jupyter's `normalize.less` sets `[hidden] { display: none; }` but bootstrap.min.css set `[hidden] { display: none !important; }` so we also need the `!important` here to be able to override the default hidden behavior on the sphinx rendered scikit-learn.org. See: https://github.com/scikit-learn/scikit-learn/issues/21755 */display: inline-block !important;position: relative;}#sk-container-id-5 div.sk-text-repr-fallback {display: none;}</style><div id=\"sk-container-id-5\" class=\"sk-top-container\"><div class=\"sk-text-repr-fallback\"><pre>GridSearchCV(cv=5, estimator=LogisticRegression(),\n",
       "             param_grid={&#x27;C&#x27;: [0.01, 0.1, 1], &#x27;penalty&#x27;: [&#x27;l2&#x27;, &#x27;l1&#x27;],\n",
       "                         &#x27;solver&#x27;: [&#x27;liblinear&#x27;]},\n",
       "             scoring=&#x27;accuracy&#x27;)</pre><b>In a Jupyter environment, please rerun this cell to show the HTML representation or trust the notebook. <br />On GitHub, the HTML representation is unable to render, please try loading this page with nbviewer.org.</b></div><div class=\"sk-container\" hidden><div class=\"sk-item sk-dashed-wrapped\"><div class=\"sk-label-container\"><div class=\"sk-label sk-toggleable\"><input class=\"sk-toggleable__control sk-hidden--visually\" id=\"sk-estimator-id-13\" type=\"checkbox\" ><label for=\"sk-estimator-id-13\" class=\"sk-toggleable__label sk-toggleable__label-arrow\">GridSearchCV</label><div class=\"sk-toggleable__content\"><pre>GridSearchCV(cv=5, estimator=LogisticRegression(),\n",
       "             param_grid={&#x27;C&#x27;: [0.01, 0.1, 1], &#x27;penalty&#x27;: [&#x27;l2&#x27;, &#x27;l1&#x27;],\n",
       "                         &#x27;solver&#x27;: [&#x27;liblinear&#x27;]},\n",
       "             scoring=&#x27;accuracy&#x27;)</pre></div></div></div><div class=\"sk-parallel\"><div class=\"sk-parallel-item\"><div class=\"sk-item\"><div class=\"sk-label-container\"><div class=\"sk-label sk-toggleable\"><input class=\"sk-toggleable__control sk-hidden--visually\" id=\"sk-estimator-id-14\" type=\"checkbox\" ><label for=\"sk-estimator-id-14\" class=\"sk-toggleable__label sk-toggleable__label-arrow\">estimator: LogisticRegression</label><div class=\"sk-toggleable__content\"><pre>LogisticRegression()</pre></div></div></div><div class=\"sk-serial\"><div class=\"sk-item\"><div class=\"sk-estimator sk-toggleable\"><input class=\"sk-toggleable__control sk-hidden--visually\" id=\"sk-estimator-id-15\" type=\"checkbox\" ><label for=\"sk-estimator-id-15\" class=\"sk-toggleable__label sk-toggleable__label-arrow\">LogisticRegression</label><div class=\"sk-toggleable__content\"><pre>LogisticRegression()</pre></div></div></div></div></div></div></div></div></div></div>"
      ],
      "text/plain": [
       "GridSearchCV(cv=5, estimator=LogisticRegression(),\n",
       "             param_grid={'C': [0.01, 0.1, 1], 'penalty': ['l2', 'l1'],\n",
       "                         'solver': ['liblinear']},\n",
       "             scoring='accuracy')"
      ]
     },
     "execution_count": 450,
     "metadata": {},
     "output_type": "execute_result"
    }
   ],
   "source": [
    "# Instantiate the logistic regression.\n",
    "logi_reg= LogisticRegression()\n",
    "\n",
    "#setup the parameters.\n",
    "parameters= {'C':[0.01,0.1,1], 'penalty':['l2','l1'], 'solver':['liblinear']}\n",
    "\n",
    "# Instantiate  the GridsearchCV.\n",
    "logi_regrecv = GridSearchCV(logi_reg, param_grid=parameters, cv=5, scoring='accuracy')\n",
    "\n",
    "#Fitting The logistic regression on the training set.\n",
    "logi_regrecv.fit(X_train, Y_train)"
   ]
  },
  {
   "cell_type": "code",
   "execution_count": 451,
   "id": "c706582a",
   "metadata": {},
   "outputs": [
    {
     "name": "stdout",
     "output_type": "stream",
     "text": [
      "0.9104088345539626\n"
     ]
    }
   ],
   "source": [
    "print(logi_regrecv.best_score_)"
   ]
  },
  {
   "cell_type": "code",
   "execution_count": 366,
   "id": "867c9c81",
   "metadata": {},
   "outputs": [
    {
     "data": {
      "text/plain": [
       "{'C': 1, 'penalty': 'l2', 'solver': 'liblinear'}"
      ]
     },
     "execution_count": 366,
     "metadata": {},
     "output_type": "execute_result"
    }
   ],
   "source": [
    "logi_regrecv.best_params_"
   ]
  },
  {
   "cell_type": "code",
   "execution_count": 452,
   "id": "ba8ca7f6",
   "metadata": {},
   "outputs": [
    {
     "name": "stdout",
     "output_type": "stream",
     "text": [
      "0.9110625556364813\n"
     ]
    }
   ],
   "source": [
    "#\n",
    "logi_regre = logi_regrecv.score(X_test, Y_test)\n",
    "print(logi_regre)"
   ]
  },
  {
   "cell_type": "code",
   "execution_count": 453,
   "id": "6315a59e",
   "metadata": {},
   "outputs": [
    {
     "name": "stdout",
     "output_type": "stream",
     "text": [
      "[1 0 0 ... 0 0 0]\n"
     ]
    }
   ],
   "source": [
    "#\n",
    "ypred_logistic= logi_regrecv.predict(X_test)\n",
    "print(ypred_logistic)"
   ]
  },
  {
   "cell_type": "code",
   "execution_count": 407,
   "id": "79ce6dfc",
   "metadata": {},
   "outputs": [
    {
     "name": "stdout",
     "output_type": "stream",
     "text": [
      "predicted      0    1    All\n",
      "actual                      \n",
      "0          10693  272  10965\n",
      "1            836  556   1392\n",
      "All        11529  828  12357\n"
     ]
    }
   ],
   "source": [
    "print(pd.crosstab(Y_test,ypred_logistic, rownames=[\"actual\"], colnames=[\"predicted\"],margins=True))"
   ]
  },
  {
   "cell_type": "code",
   "execution_count": 417,
   "id": "516bc078",
   "metadata": {},
   "outputs": [
    {
     "data": {
      "image/png": "[encoded data removed]",
      "text/plain": [
       "<Figure size 432x288 with 1 Axes>"
      ]
     },
     "metadata": {
      "needs_background": "light"
     },
     "output_type": "display_data"
    }
   ],
   "source": [
    "metrics.plot_roc_curve(logi_regrecv, X_test, Y_test) \n",
    "plt.show()"
   ]
  },
  {
   "cell_type": "code",
   "execution_count": 406,
   "id": "863bba81",
   "metadata": {},
   "outputs": [
    {
     "name": "stdout",
     "output_type": "stream",
     "text": [
      "              precision    recall  f1-score   support\n",
      "\n",
      "           0       0.93      0.98      0.95     10965\n",
      "           1       0.67      0.40      0.50      1392\n",
      "\n",
      "    accuracy                           0.91     12357\n",
      "   macro avg       0.80      0.69      0.73     12357\n",
      "weighted avg       0.90      0.91      0.90     12357\n",
      "\n"
     ]
    }
   ],
   "source": [
    "#get the valor of the classification metrics\n",
    "logistic_perform= classification_report(Y_test,ypred_logistic)\n",
    "print(logistic_perform)"
   ]
  },
  {
   "cell_type": "code",
   "execution_count": 418,
   "id": "71024c0b",
   "metadata": {},
   "outputs": [
    {
     "name": "stdout",
     "output_type": "stream",
     "text": [
      "AxesSubplot(0.125,0.125;0.775x0.755)\n"
     ]
    },
    {
     "data": {
      "image/png": "[encoded data removed]",
      "text/plain": [
       "<Figure size 432x288 with 1 Axes>"
      ]
     },
     "metadata": {
      "needs_background": "light"
     },
     "output_type": "display_data"
    }
   ],
   "source": [
    "# plotting the confusion matrix\n",
    "cm= confusion_matrix(Y_test,ypred_logistic)\n",
    "print(sns.heatmap(cm, annot=True, cbar= False))"
   ]
  },
  {
   "cell_type": "markdown",
   "id": "70282201",
   "metadata": {},
   "source": [
    "A matriz de confusão indica que temos 1104+5602 previsão correta e 8402+2702 previsão incorreta."
   ]
  },
  {
   "cell_type": "markdown",
   "id": "d44df5e9",
   "metadata": {},
   "source": [
    "<h6>Cálculo da probabilidade de um cliente responder</h6>\n",
    "O método predict_proba()\n",
    "No contexto de tarefas de classificação, alguns estimadores sklearn também implementam o método predict_proba que retorna as probabilidades de classe para cada ponto de dados.\n",
    "O método aceita um único argumento que corresponde aos dados sobre os quais as probabilidades serão calculadas e retorna uma matriz de listas contendo as probabilidades de classe para os pontos de dados de entrada\n"
   ]
  },
  {
   "cell_type": "code",
   "execution_count": 457,
   "id": "dffcbebd",
   "metadata": {},
   "outputs": [],
   "source": [
    "#predicting the probability for a customer will respond\n",
    "logit_prob=logi_regrecv.predict_proba(X_test)"
   ]
  },
  {
   "cell_type": "code",
   "execution_count": 456,
   "id": "2f549af5",
   "metadata": {},
   "outputs": [
    {
     "data": {
      "text/html": [
       "<div>\n",
       "<style scoped>\n",
       "    .dataframe tbody tr th:only-of-type {\n",
       "        vertical-align: middle;\n",
       "    }\n",
       "\n",
       "    .dataframe tbody tr th {\n",
       "        vertical-align: top;\n",
       "    }\n",
       "\n",
       "    .dataframe thead th {\n",
       "        text-align: right;\n",
       "    }\n",
       "</style>\n",
       "<table border=\"1\" class=\"dataframe\">\n",
       "  <thead>\n",
       "    <tr style=\"text-align: right;\">\n",
       "      <th></th>\n",
       "      <th>0</th>\n",
       "      <th>1</th>\n",
       "    </tr>\n",
       "  </thead>\n",
       "  <tbody>\n",
       "    <tr>\n",
       "      <th>0</th>\n",
       "      <td>0.478996</td>\n",
       "      <td>0.521004</td>\n",
       "    </tr>\n",
       "    <tr>\n",
       "      <th>1</th>\n",
       "      <td>0.988493</td>\n",
       "      <td>0.011507</td>\n",
       "    </tr>\n",
       "    <tr>\n",
       "      <th>2</th>\n",
       "      <td>0.986465</td>\n",
       "      <td>0.013535</td>\n",
       "    </tr>\n",
       "    <tr>\n",
       "      <th>3</th>\n",
       "      <td>0.996517</td>\n",
       "      <td>0.003483</td>\n",
       "    </tr>\n",
       "    <tr>\n",
       "      <th>4</th>\n",
       "      <td>0.980324</td>\n",
       "      <td>0.019676</td>\n",
       "    </tr>\n",
       "    <tr>\n",
       "      <th>...</th>\n",
       "      <td>...</td>\n",
       "      <td>...</td>\n",
       "    </tr>\n",
       "    <tr>\n",
       "      <th>12352</th>\n",
       "      <td>0.993493</td>\n",
       "      <td>0.006507</td>\n",
       "    </tr>\n",
       "    <tr>\n",
       "      <th>12353</th>\n",
       "      <td>0.987436</td>\n",
       "      <td>0.012564</td>\n",
       "    </tr>\n",
       "    <tr>\n",
       "      <th>12354</th>\n",
       "      <td>0.958296</td>\n",
       "      <td>0.041704</td>\n",
       "    </tr>\n",
       "    <tr>\n",
       "      <th>12355</th>\n",
       "      <td>0.981810</td>\n",
       "      <td>0.018190</td>\n",
       "    </tr>\n",
       "    <tr>\n",
       "      <th>12356</th>\n",
       "      <td>0.989546</td>\n",
       "      <td>0.010454</td>\n",
       "    </tr>\n",
       "  </tbody>\n",
       "</table>\n",
       "<p>12357 rows × 2 columns</p>\n",
       "</div>"
      ],
      "text/plain": [
       "              0         1\n",
       "0      0.478996  0.521004\n",
       "1      0.988493  0.011507\n",
       "2      0.986465  0.013535\n",
       "3      0.996517  0.003483\n",
       "4      0.980324  0.019676\n",
       "...         ...       ...\n",
       "12352  0.993493  0.006507\n",
       "12353  0.987436  0.012564\n",
       "12354  0.958296  0.041704\n",
       "12355  0.981810  0.018190\n",
       "12356  0.989546  0.010454\n",
       "\n",
       "[12357 rows x 2 columns]"
      ]
     },
     "execution_count": 456,
     "metadata": {},
     "output_type": "execute_result"
    }
   ],
   "source": [
    "df_prob=pd.DataFrame(logit_prob)\n",
    "df_prob"
   ]
  },
  {
   "cell_type": "markdown",
   "id": "ba8e9680",
   "metadata": {},
   "source": [
    "conclusão:\n",
    "De acordo com a acuracia de regressão logística e os valores da probabilidade,podemos dizer que \n",
    "as variáveis mais influentes são duração, nr.employed, euribor3m e emp.var.rate.Portanto, se os bancos quiserem melhorar os resultados, o que eles devem fazer é contratar\n",
    "mais pessoas para trabalhar para eles,aumentar a eficiência da campanha de marketing bancário,melhorar a qualidade da conversa ao telefone e executar\n",
    "suas campanhas quando as taxas de juros estão altas e o ambiente macroeconômico é estável."
   ]
  },
  {
   "cell_type": "code",
   "execution_count": null,
   "id": "a6559565",
   "metadata": {},
   "outputs": [],
   "source": []
  },
  {
   "cell_type": "code",
   "execution_count": null,
   "id": "05f3fee8",
   "metadata": {},
   "outputs": [],
   "source": []
  },
  {
   "cell_type": "code",
   "execution_count": null,
   "id": "c56a0501",
   "metadata": {},
   "outputs": [],
   "source": []
  }
 ],
 "metadata": {
  "kernelspec": {
   "display_name": "Python 3",
   "language": "python",
   "name": "python3"
  },
  "language_info": {
   "codemirror_mode": {
    "name": "ipython",
    "version": 3
   },
   "file_extension": ".py",
   "mimetype": "text/x-python",
   "name": "python",
   "nbconvert_exporter": "python",
   "pygments_lexer": "ipython3",
   "version": "3.8.8"
  }
 },
 "nbformat": 4,
 "nbformat_minor": 5
}
