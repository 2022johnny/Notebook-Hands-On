{
 "cells": [
  {
   "cell_type": "markdown",
   "id": "c14d5ec4",
   "metadata": {},
   "source": [
    "### Exemplo I - Cálculo do score da silhueta para avaliação da qualidade de clusterização"
   ]
  },
  {
   "cell_type": "code",
   "execution_count": 11,
   "id": "06026baa",
   "metadata": {},
   "outputs": [],
   "source": [
    "#Importação de pacotes\n",
    "import pandas as pd\n",
    "import numpy as np\n",
    "import seaborn as sns\n",
    "import matplotlib.pyplot as plt\n",
    "from sklearn.cluster import KMeans\n",
    "from sklearn.metrics import silhouette_score\n",
    "import warnings\n",
    "warnings.filterwarnings(\"ignore\")\n",
    "from IPython.core.display import HTML"
   ]
  },
  {
   "cell_type": "code",
   "execution_count": 2,
   "id": "b45bbbdb",
   "metadata": {},
   "outputs": [
    {
     "data": {
      "text/html": [
       "\n",
       "<style>\n",
       ".output_png {\n",
       "    display: table-cell;\n",
       "    text-align: center;\n",
       "    vertical-align: middle;\n",
       "}\n",
       "</style>\n"
      ],
      "text/plain": [
       "<IPython.core.display.HTML object>"
      ]
     },
     "execution_count": 2,
     "metadata": {},
     "output_type": "execute_result"
    }
   ],
   "source": [
    "#Script para centralizar os gráficos\n",
    "HTML(\"\"\"\n",
    "<style>\n",
    ".output_png {\n",
    "    display: table-cell;\n",
    "    text-align: center;\n",
    "    vertical-align: middle;\n",
    "}\n",
    "</style>\n",
    "\"\"\")"
   ]
  },
  {
   "cell_type": "code",
   "execution_count": 3,
   "id": "7e670577",
   "metadata": {},
   "outputs": [
    {
     "data": {
      "text/html": [
       "<div>\n",
       "<style scoped>\n",
       "    .dataframe tbody tr th:only-of-type {\n",
       "        vertical-align: middle;\n",
       "    }\n",
       "\n",
       "    .dataframe tbody tr th {\n",
       "        vertical-align: top;\n",
       "    }\n",
       "\n",
       "    .dataframe thead th {\n",
       "        text-align: right;\n",
       "    }\n",
       "</style>\n",
       "<table border=\"1\" class=\"dataframe\">\n",
       "  <thead>\n",
       "    <tr style=\"text-align: right;\">\n",
       "      <th></th>\n",
       "      <th>CustomerID</th>\n",
       "      <th>Gender</th>\n",
       "      <th>Age</th>\n",
       "      <th>Annual Income (k$)</th>\n",
       "      <th>Spending Score (1-100)</th>\n",
       "    </tr>\n",
       "  </thead>\n",
       "  <tbody>\n",
       "    <tr>\n",
       "      <th>0</th>\n",
       "      <td>1</td>\n",
       "      <td>Male</td>\n",
       "      <td>19</td>\n",
       "      <td>15</td>\n",
       "      <td>39</td>\n",
       "    </tr>\n",
       "    <tr>\n",
       "      <th>1</th>\n",
       "      <td>2</td>\n",
       "      <td>Male</td>\n",
       "      <td>21</td>\n",
       "      <td>15</td>\n",
       "      <td>81</td>\n",
       "    </tr>\n",
       "    <tr>\n",
       "      <th>2</th>\n",
       "      <td>3</td>\n",
       "      <td>Female</td>\n",
       "      <td>20</td>\n",
       "      <td>16</td>\n",
       "      <td>6</td>\n",
       "    </tr>\n",
       "    <tr>\n",
       "      <th>3</th>\n",
       "      <td>4</td>\n",
       "      <td>Female</td>\n",
       "      <td>23</td>\n",
       "      <td>16</td>\n",
       "      <td>77</td>\n",
       "    </tr>\n",
       "    <tr>\n",
       "      <th>4</th>\n",
       "      <td>5</td>\n",
       "      <td>Female</td>\n",
       "      <td>31</td>\n",
       "      <td>17</td>\n",
       "      <td>40</td>\n",
       "    </tr>\n",
       "  </tbody>\n",
       "</table>\n",
       "</div>"
      ],
      "text/plain": [
       "   CustomerID  Gender  Age  Annual Income (k$)  Spending Score (1-100)\n",
       "0           1    Male   19                  15                      39\n",
       "1           2    Male   21                  15                      81\n",
       "2           3  Female   20                  16                       6\n",
       "3           4  Female   23                  16                      77\n",
       "4           5  Female   31                  17                      40"
      ]
     },
     "execution_count": 3,
     "metadata": {},
     "output_type": "execute_result"
    }
   ],
   "source": [
    "#Carregando o dataset\n",
    "dataset = pd.read_csv('Mall_Customers.csv')\n",
    "dataset.head()"
   ]
  },
  {
   "cell_type": "code",
   "execution_count": 4,
   "id": "46a2a041",
   "metadata": {},
   "outputs": [
    {
     "data": {
      "text/plain": [
       "(200, 5)"
      ]
     },
     "execution_count": 4,
     "metadata": {},
     "output_type": "execute_result"
    }
   ],
   "source": [
    "#Tamanho da base\n",
    "dataset.shape"
   ]
  },
  {
   "cell_type": "code",
   "execution_count": 5,
   "id": "7a45a055",
   "metadata": {},
   "outputs": [
    {
     "name": "stdout",
     "output_type": "stream",
     "text": [
      "CustomerID                0\n",
      "Gender                    0\n",
      "Age                       0\n",
      "Annual Income (k$)        0\n",
      "Spending Score (1-100)    0\n",
      "dtype: int64\n"
     ]
    }
   ],
   "source": [
    "#Checando dados nulos\n",
    "print(dataset.isnull().sum())"
   ]
  },
  {
   "cell_type": "code",
   "execution_count": 6,
   "id": "534fe64a",
   "metadata": {},
   "outputs": [
    {
     "data": {
      "text/html": [
       "<div>\n",
       "<style scoped>\n",
       "    .dataframe tbody tr th:only-of-type {\n",
       "        vertical-align: middle;\n",
       "    }\n",
       "\n",
       "    .dataframe tbody tr th {\n",
       "        vertical-align: top;\n",
       "    }\n",
       "\n",
       "    .dataframe thead th {\n",
       "        text-align: right;\n",
       "    }\n",
       "</style>\n",
       "<table border=\"1\" class=\"dataframe\">\n",
       "  <thead>\n",
       "    <tr style=\"text-align: right;\">\n",
       "      <th></th>\n",
       "      <th>Age</th>\n",
       "      <th>Annual Income (k$)</th>\n",
       "      <th>Spending Score (1-100)</th>\n",
       "    </tr>\n",
       "  </thead>\n",
       "  <tbody>\n",
       "    <tr>\n",
       "      <th>0</th>\n",
       "      <td>19</td>\n",
       "      <td>15</td>\n",
       "      <td>39</td>\n",
       "    </tr>\n",
       "    <tr>\n",
       "      <th>1</th>\n",
       "      <td>21</td>\n",
       "      <td>15</td>\n",
       "      <td>81</td>\n",
       "    </tr>\n",
       "    <tr>\n",
       "      <th>2</th>\n",
       "      <td>20</td>\n",
       "      <td>16</td>\n",
       "      <td>6</td>\n",
       "    </tr>\n",
       "    <tr>\n",
       "      <th>3</th>\n",
       "      <td>23</td>\n",
       "      <td>16</td>\n",
       "      <td>77</td>\n",
       "    </tr>\n",
       "    <tr>\n",
       "      <th>4</th>\n",
       "      <td>31</td>\n",
       "      <td>17</td>\n",
       "      <td>40</td>\n",
       "    </tr>\n",
       "  </tbody>\n",
       "</table>\n",
       "</div>"
      ],
      "text/plain": [
       "   Age  Annual Income (k$)  Spending Score (1-100)\n",
       "0   19                  15                      39\n",
       "1   21                  15                      81\n",
       "2   20                  16                       6\n",
       "3   23                  16                      77\n",
       "4   31                  17                      40"
      ]
     },
     "execution_count": 6,
     "metadata": {},
     "output_type": "execute_result"
    }
   ],
   "source": [
    "#Extraindo duas colunas para um teste de clusterização\n",
    "dataset_new = dataset[['Age','Annual Income (k$)',\n",
    "                       'Spending Score (1-100)']]\n",
    "dataset_new.head()"
   ]
  },
  {
   "cell_type": "code",
   "execution_count": 7,
   "id": "dc87b444",
   "metadata": {},
   "outputs": [
    {
     "data": {
      "text/plain": [
       "10"
      ]
     },
     "execution_count": 7,
     "metadata": {},
     "output_type": "execute_result"
    }
   ],
   "source": [
    "#Heurística de número máximo de clusters para testar\n",
    "limit = int((dataset_new.shape[0]//2)**0.5)\n",
    "limit"
   ]
  },
  {
   "cell_type": "code",
   "execution_count": 8,
   "id": "e03e13c5",
   "metadata": {},
   "outputs": [
    {
     "data": {
      "image/png": "[encoded data removed]",
      "text/plain": [
       "<Figure size 432x288 with 1 Axes>"
      ]
     },
     "metadata": {
      "needs_background": "light"
     },
     "output_type": "display_data"
    }
   ],
   "source": [
    "#Valor ótimo de clusters pelo gráfico do cotovelo\n",
    "wcss = {}\n",
    " \n",
    "for k in range(2,limit+1):\n",
    "    model = KMeans(n_clusters=k)\n",
    "    model.fit(dataset_new)\n",
    "    wcss[k] = model.inertia_\n",
    "    plt.plot(wcss.keys(), wcss.values(), 'gs-')\n",
    "plt.xlabel('Values of \"k\"')\n",
    "plt.ylabel('WCSS')\n",
    "plt.show()"
   ]
  },
  {
   "cell_type": "code",
   "execution_count": 9,
   "id": "07f8bb58",
   "metadata": {},
   "outputs": [
    {
     "name": "stdout",
     "output_type": "stream",
     "text": [
      "Silhouette Score for k = 2: 0.293\n",
      "Silhouette Score for k = 3: 0.384\n",
      "Silhouette Score for k = 4: 0.392\n",
      "Silhouette Score for k = 5: 0.444\n",
      "Silhouette Score for k = 6: 0.452\n",
      "Silhouette Score for k = 7: 0.441\n",
      "Silhouette Score for k = 8: 0.426\n",
      "Silhouette Score for k = 9: 0.397\n",
      "Silhouette Score for k = 10: 0.381\n"
     ]
    }
   ],
   "source": [
    "#Gerando score da silhueta para as diferentes combinações de cluster\n",
    "for k in range(2, limit+1):\n",
    "    model = KMeans(n_clusters=k)\n",
    "    model.fit(dataset_new)\n",
    "    pred = model.predict(dataset_new)\n",
    "    score = silhouette_score(dataset_new, pred)\n",
    "    print('Silhouette Score for k = {}: {:<.3f}'.format(k, score))"
   ]
  },
  {
   "cell_type": "code",
   "execution_count": 15,
   "id": "21464ac7",
   "metadata": {},
   "outputs": [
    {
     "data": {
      "text/plain": [
       "<AxesSubplot:xlabel='Spending Score (1-100)', ylabel='Annual Income (k$)'>"
      ]
     },
     "execution_count": 15,
     "metadata": {},
     "output_type": "execute_result"
    },
    {
     "data": {
      "image/png": "[encoded data removed]",
      "text/plain": [
       "<Figure size 432x288 with 1 Axes>"
      ]
     },
     "metadata": {
      "needs_background": "light"
     },
     "output_type": "display_data"
    }
   ],
   "source": [
    "#Geração dos clusters\n",
    "kmeans = KMeans(n_clusters=5 ,init=\"k-means++\")\n",
    "kmeans = kmeans.fit(dataset_new)\n",
    "dataset_new['Clusters'] = kmeans.labels_\n",
    "sns.scatterplot(x=\"Spending Score (1-100)\", y=\"Annual Income (k$)\",hue = 'Clusters',  data=dataset_new)"
   ]
  },
  {
   "cell_type": "markdown",
   "id": "b77d554c",
   "metadata": {},
   "source": [
    "### Exemplo II - Clusterização e cálculo do score da silhueta"
   ]
  },
  {
   "cell_type": "code",
   "execution_count": 16,
   "id": "6080a6a0",
   "metadata": {},
   "outputs": [],
   "source": [
    "import numpy as np \n",
    "import pandas as pd \n",
    "import matplotlib.pyplot as plt \n",
    "import seaborn as sns\n",
    "%matplotlib inline\n",
    "from sklearn.cluster import KMeans\n",
    "from sklearn.metrics import silhouette_samples, silhouette_score"
   ]
  },
  {
   "cell_type": "code",
   "execution_count": 17,
   "id": "6b019858",
   "metadata": {},
   "outputs": [
    {
     "data": {
      "text/html": [
       "<div>\n",
       "<style scoped>\n",
       "    .dataframe tbody tr th:only-of-type {\n",
       "        vertical-align: middle;\n",
       "    }\n",
       "\n",
       "    .dataframe tbody tr th {\n",
       "        vertical-align: top;\n",
       "    }\n",
       "\n",
       "    .dataframe thead th {\n",
       "        text-align: right;\n",
       "    }\n",
       "</style>\n",
       "<table border=\"1\" class=\"dataframe\">\n",
       "  <thead>\n",
       "    <tr style=\"text-align: right;\">\n",
       "      <th></th>\n",
       "      <th>PLAYER_ID</th>\n",
       "      <th>PLAYER_NAME</th>\n",
       "      <th>TEAM_ID</th>\n",
       "      <th>TEAM_ABBREVIATION</th>\n",
       "      <th>AGE</th>\n",
       "      <th>GP</th>\n",
       "      <th>W</th>\n",
       "      <th>L</th>\n",
       "      <th>W_PCT</th>\n",
       "      <th>MIN</th>\n",
       "      <th>...</th>\n",
       "      <th>FGA_PG_RANK</th>\n",
       "      <th>FG_PCT_RANK</th>\n",
       "      <th>CFID</th>\n",
       "      <th>CFPARAMS</th>\n",
       "      <th>WIKIPEDIA_HANDLE</th>\n",
       "      <th>TWITTER_HANDLE</th>\n",
       "      <th>SALARY_MILLIONS</th>\n",
       "      <th>PTS</th>\n",
       "      <th>ACTIVE_TWITTER_LAST_YEAR</th>\n",
       "      <th>TWITTER_FOLLOWER_COUNT_MILLIONS</th>\n",
       "    </tr>\n",
       "  </thead>\n",
       "  <tbody>\n",
       "    <tr>\n",
       "      <th>0</th>\n",
       "      <td>201566</td>\n",
       "      <td>Russell Westbrook</td>\n",
       "      <td>1610612760</td>\n",
       "      <td>OKC</td>\n",
       "      <td>28</td>\n",
       "      <td>81</td>\n",
       "      <td>46</td>\n",
       "      <td>35</td>\n",
       "      <td>0.568</td>\n",
       "      <td>34.6</td>\n",
       "      <td>...</td>\n",
       "      <td>1</td>\n",
       "      <td>293</td>\n",
       "      <td>5</td>\n",
       "      <td>2,015,661,610,612,760</td>\n",
       "      <td>Russell_Westbrook</td>\n",
       "      <td>russwest44</td>\n",
       "      <td>26.54</td>\n",
       "      <td>31.6</td>\n",
       "      <td>1</td>\n",
       "      <td>4.500</td>\n",
       "    </tr>\n",
       "    <tr>\n",
       "      <th>1</th>\n",
       "      <td>1626246</td>\n",
       "      <td>Boban Marjanovic</td>\n",
       "      <td>1610612765</td>\n",
       "      <td>DET</td>\n",
       "      <td>28</td>\n",
       "      <td>35</td>\n",
       "      <td>16</td>\n",
       "      <td>19</td>\n",
       "      <td>0.457</td>\n",
       "      <td>8.4</td>\n",
       "      <td>...</td>\n",
       "      <td>356</td>\n",
       "      <td>47</td>\n",
       "      <td>5</td>\n",
       "      <td>16,262,461,610,612,700</td>\n",
       "      <td>Boban_Marjanovi_</td>\n",
       "      <td>0</td>\n",
       "      <td>7.00</td>\n",
       "      <td>5.5</td>\n",
       "      <td>0</td>\n",
       "      <td>0.000</td>\n",
       "    </tr>\n",
       "    <tr>\n",
       "      <th>2</th>\n",
       "      <td>1627743</td>\n",
       "      <td>Demetrius Jackson</td>\n",
       "      <td>1610612738</td>\n",
       "      <td>BOS</td>\n",
       "      <td>22</td>\n",
       "      <td>5</td>\n",
       "      <td>1</td>\n",
       "      <td>4</td>\n",
       "      <td>0.200</td>\n",
       "      <td>3.4</td>\n",
       "      <td>...</td>\n",
       "      <td>480</td>\n",
       "      <td>3</td>\n",
       "      <td>5</td>\n",
       "      <td>16,277,431,610,612,700</td>\n",
       "      <td>Demetrius_Jackson</td>\n",
       "      <td>d_jay11</td>\n",
       "      <td>1.45</td>\n",
       "      <td>2.0</td>\n",
       "      <td>1</td>\n",
       "      <td>0.049</td>\n",
       "    </tr>\n",
       "    <tr>\n",
       "      <th>3</th>\n",
       "      <td>203076</td>\n",
       "      <td>Anthony Davis</td>\n",
       "      <td>1610612740</td>\n",
       "      <td>NOP</td>\n",
       "      <td>24</td>\n",
       "      <td>75</td>\n",
       "      <td>31</td>\n",
       "      <td>44</td>\n",
       "      <td>0.413</td>\n",
       "      <td>36.1</td>\n",
       "      <td>...</td>\n",
       "      <td>3</td>\n",
       "      <td>95</td>\n",
       "      <td>5</td>\n",
       "      <td>2,030,761,610,612,740</td>\n",
       "      <td>Anthony_Davis_(basketball)</td>\n",
       "      <td>antdavis23</td>\n",
       "      <td>22.12</td>\n",
       "      <td>28.0</td>\n",
       "      <td>1</td>\n",
       "      <td>1.220</td>\n",
       "    </tr>\n",
       "    <tr>\n",
       "      <th>4</th>\n",
       "      <td>201935</td>\n",
       "      <td>James Harden</td>\n",
       "      <td>1610612745</td>\n",
       "      <td>HOU</td>\n",
       "      <td>27</td>\n",
       "      <td>81</td>\n",
       "      <td>54</td>\n",
       "      <td>27</td>\n",
       "      <td>0.667</td>\n",
       "      <td>36.4</td>\n",
       "      <td>...</td>\n",
       "      <td>9</td>\n",
       "      <td>253</td>\n",
       "      <td>5</td>\n",
       "      <td>2,019,351,610,612,740</td>\n",
       "      <td>James_Harden</td>\n",
       "      <td>jharden13</td>\n",
       "      <td>26.50</td>\n",
       "      <td>29.1</td>\n",
       "      <td>1</td>\n",
       "      <td>4.470</td>\n",
       "    </tr>\n",
       "  </tbody>\n",
       "</table>\n",
       "<p>5 rows × 63 columns</p>\n",
       "</div>"
      ],
      "text/plain": [
       "   PLAYER_ID        PLAYER_NAME     TEAM_ID TEAM_ABBREVIATION  AGE  GP   W  \\\n",
       "0     201566  Russell Westbrook  1610612760               OKC   28  81  46   \n",
       "1    1626246   Boban Marjanovic  1610612765               DET   28  35  16   \n",
       "2    1627743  Demetrius Jackson  1610612738               BOS   22   5   1   \n",
       "3     203076      Anthony Davis  1610612740               NOP   24  75  31   \n",
       "4     201935       James Harden  1610612745               HOU   27  81  54   \n",
       "\n",
       "    L  W_PCT   MIN  ...  FGA_PG_RANK  FG_PCT_RANK  CFID  \\\n",
       "0  35  0.568  34.6  ...            1          293     5   \n",
       "1  19  0.457   8.4  ...          356           47     5   \n",
       "2   4  0.200   3.4  ...          480            3     5   \n",
       "3  44  0.413  36.1  ...            3           95     5   \n",
       "4  27  0.667  36.4  ...            9          253     5   \n",
       "\n",
       "                 CFPARAMS            WIKIPEDIA_HANDLE  TWITTER_HANDLE  \\\n",
       "0   2,015,661,610,612,760           Russell_Westbrook      russwest44   \n",
       "1  16,262,461,610,612,700            Boban_Marjanovi_               0   \n",
       "2  16,277,431,610,612,700           Demetrius_Jackson         d_jay11   \n",
       "3   2,030,761,610,612,740  Anthony_Davis_(basketball)      antdavis23   \n",
       "4   2,019,351,610,612,740                James_Harden       jharden13   \n",
       "\n",
       "   SALARY_MILLIONS   PTS  ACTIVE_TWITTER_LAST_YEAR  \\\n",
       "0            26.54  31.6                         1   \n",
       "1             7.00   5.5                         0   \n",
       "2             1.45   2.0                         1   \n",
       "3            22.12  28.0                         1   \n",
       "4            26.50  29.1                         1   \n",
       "\n",
       "   TWITTER_FOLLOWER_COUNT_MILLIONS  \n",
       "0                            4.500  \n",
       "1                            0.000  \n",
       "2                            0.049  \n",
       "3                            1.220  \n",
       "4                            4.470  \n",
       "\n",
       "[5 rows x 63 columns]"
      ]
     },
     "execution_count": 17,
     "metadata": {},
     "output_type": "execute_result"
    }
   ],
   "source": [
    "df = pd.read_csv(\"nba_2016_2017_100.csv\")\n",
    "df.head()"
   ]
  },
  {
   "cell_type": "code",
   "execution_count": 18,
   "id": "4a46c007",
   "metadata": {},
   "outputs": [
    {
     "data": {
      "text/html": [
       "<div>\n",
       "<style scoped>\n",
       "    .dataframe tbody tr th:only-of-type {\n",
       "        vertical-align: middle;\n",
       "    }\n",
       "\n",
       "    .dataframe tbody tr th {\n",
       "        vertical-align: top;\n",
       "    }\n",
       "\n",
       "    .dataframe thead th {\n",
       "        text-align: right;\n",
       "    }\n",
       "</style>\n",
       "<table border=\"1\" class=\"dataframe\">\n",
       "  <thead>\n",
       "    <tr style=\"text-align: right;\">\n",
       "      <th></th>\n",
       "      <th>PTS</th>\n",
       "      <th>SALARY_MILLIONS</th>\n",
       "    </tr>\n",
       "  </thead>\n",
       "  <tbody>\n",
       "    <tr>\n",
       "      <th>count</th>\n",
       "      <td>100.000000</td>\n",
       "      <td>100.000000</td>\n",
       "    </tr>\n",
       "    <tr>\n",
       "      <th>mean</th>\n",
       "      <td>15.174200</td>\n",
       "      <td>11.290120</td>\n",
       "    </tr>\n",
       "    <tr>\n",
       "      <th>std</th>\n",
       "      <td>7.319374</td>\n",
       "      <td>8.789342</td>\n",
       "    </tr>\n",
       "    <tr>\n",
       "      <th>min</th>\n",
       "      <td>1.500000</td>\n",
       "      <td>0.310000</td>\n",
       "    </tr>\n",
       "    <tr>\n",
       "      <th>25%</th>\n",
       "      <td>9.225000</td>\n",
       "      <td>2.842500</td>\n",
       "    </tr>\n",
       "    <tr>\n",
       "      <th>50%</th>\n",
       "      <td>14.550000</td>\n",
       "      <td>10.820000</td>\n",
       "    </tr>\n",
       "    <tr>\n",
       "      <th>75%</th>\n",
       "      <td>20.650000</td>\n",
       "      <td>18.400000</td>\n",
       "    </tr>\n",
       "    <tr>\n",
       "      <th>max</th>\n",
       "      <td>31.600000</td>\n",
       "      <td>30.960000</td>\n",
       "    </tr>\n",
       "  </tbody>\n",
       "</table>\n",
       "</div>"
      ],
      "text/plain": [
       "              PTS  SALARY_MILLIONS\n",
       "count  100.000000       100.000000\n",
       "mean    15.174200        11.290120\n",
       "std      7.319374         8.789342\n",
       "min      1.500000         0.310000\n",
       "25%      9.225000         2.842500\n",
       "50%     14.550000        10.820000\n",
       "75%     20.650000        18.400000\n",
       "max     31.600000        30.960000"
      ]
     },
     "execution_count": 18,
     "metadata": {},
     "output_type": "execute_result"
    }
   ],
   "source": [
    "df[['PLAYER_NAME','PTS','SALARY_MILLIONS']].describe()"
   ]
  },
  {
   "cell_type": "code",
   "execution_count": 20,
   "id": "53887466",
   "metadata": {},
   "outputs": [
    {
     "data": {
      "text/plain": [
       "Text(0, 0.5, 'Salary (in Millions)')"
      ]
     },
     "execution_count": 20,
     "metadata": {},
     "output_type": "execute_result"
    },
    {
     "data": {
      "image/png": "[encoded data removed]",
      "text/plain": [
       "<Figure size 432x288 with 1 Axes>"
      ]
     },
     "metadata": {
      "needs_background": "light"
     },
     "output_type": "display_data"
    }
   ],
   "source": [
    "#Scatterplot Points vs Salary\n",
    "Points=df.iloc[:, [60,59]]['PTS']\n",
    "Salary=df.iloc[:, [60,59]]['SALARY_MILLIONS']\n",
    "plt.scatter(Points, Salary, color = 'blue')\n",
    "plt.xlabel('Points')\n",
    "plt.ylabel('Salary (in Millions)')"
   ]
  },
  {
   "cell_type": "code",
   "execution_count": 21,
   "id": "99a91fb6",
   "metadata": {},
   "outputs": [
    {
     "data": {
      "text/plain": [
       "[12951.75037856,\n",
       " 4845.283643489188,\n",
       " 3301.8660454203455,\n",
       " 2490.9539689220774,\n",
       " 1895.31785934127,\n",
       " 1356.040507525988,\n",
       " 1075.9820204151404,\n",
       " 983.6770673595848,\n",
       " 857.0440713049124,\n",
       " 792.3583459285716]"
      ]
     },
     "execution_count": 21,
     "metadata": {},
     "output_type": "execute_result"
    }
   ],
   "source": [
    "#Decaimento da Soma de Quadrados dos Erros\n",
    "sse=[] #Sum of Squared Errors\n",
    "for i in range(1,11):\n",
    "    kmeans = KMeans(i, init='k-means++', random_state=0)\n",
    "    kmeans.fit(pd.concat([Points, Salary],axis=1))\n",
    "    sse.append(kmeans.inertia_)\n",
    "sse"
   ]
  },
  {
   "cell_type": "code",
   "execution_count": 22,
   "id": "5897ba86",
   "metadata": {},
   "outputs": [
    {
     "data": {
      "text/plain": [
       "Text(0, 0.5, 'Error Sum of Squares')"
      ]
     },
     "execution_count": 22,
     "metadata": {},
     "output_type": "execute_result"
    },
    {
     "data": {
      "image/png": "[encoded data removed]",
      "text/plain": [
       "<Figure size 432x288 with 1 Axes>"
      ]
     },
     "metadata": {
      "needs_background": "light"
     },
     "output_type": "display_data"
    }
   ],
   "source": [
    "#Gráfico do cotovelo\n",
    "plt.plot(range(1,11), sse, )\n",
    "plt.title('Elbow Method for K-Means', color = 'blue')\n",
    "plt.xlabel('K: Number of Clusters')\n",
    "plt.ylabel('Error Sum of Squares')"
   ]
  },
  {
   "cell_type": "code",
   "execution_count": 23,
   "id": "0bfe72db",
   "metadata": {},
   "outputs": [
    {
     "data": {
      "text/plain": [
       "<matplotlib.legend.Legend at 0x23396de3f70>"
      ]
     },
     "execution_count": 23,
     "metadata": {},
     "output_type": "execute_result"
    },
    {
     "data": {
      "image/png": "[encoded data removed]",
      "text/plain": [
       "<Figure size 432x288 with 1 Axes>"
      ]
     },
     "metadata": {
      "needs_background": "light"
     },
     "output_type": "display_data"
    }
   ],
   "source": [
    "#Avaliação do cenário com 2 clusters\n",
    "Model = KMeans(2, init='k-means++')\n",
    "k_means= Model.fit_predict(pd.concat([Points, Salary],axis=1))\n",
    "X=pd.concat([Points, Salary],axis=1)\n",
    "plt.scatter(X[k_means == 0]['PTS'], X[k_means == 0]['SALARY_MILLIONS'], c = 'orange', label = 'Cluster 1')\n",
    "plt.scatter(X[k_means == 1]['PTS'], X[k_means == 1]['SALARY_MILLIONS'], c = 'red', label = 'Cluster 2')\n",
    "plt.xlabel('Points')\n",
    "plt.ylabel('Salary')\n",
    "plt.legend()"
   ]
  },
  {
   "cell_type": "code",
   "execution_count": 24,
   "id": "03110d0e",
   "metadata": {},
   "outputs": [
    {
     "data": {
      "text/plain": [
       "<matplotlib.legend.Legend at 0x233974576a0>"
      ]
     },
     "execution_count": 24,
     "metadata": {},
     "output_type": "execute_result"
    },
    {
     "data": {
      "image/png": "[encoded data removed]",
      "text/plain": [
       "<Figure size 432x288 with 1 Axes>"
      ]
     },
     "metadata": {
      "needs_background": "light"
     },
     "output_type": "display_data"
    }
   ],
   "source": [
    "#Avaliação do cenário com 3 clusters\n",
    "Model = KMeans(3, init='k-means++')\n",
    "k_means= Model.fit_predict(pd.concat([Points, Salary],axis=1))\n",
    "X=pd.concat([Points, Salary],axis=1)\n",
    "plt.scatter(X[k_means == 0]['PTS'], X[k_means == 0]['SALARY_MILLIONS'], c = 'blue', label = 'Cluster 1')\n",
    "plt.scatter(X[k_means == 1]['PTS'], X[k_means == 1]['SALARY_MILLIONS'], c = 'black', label = 'Cluster 2')\n",
    "plt.scatter(X[k_means == 2]['PTS'], X[k_means == 2]['SALARY_MILLIONS'], c = 'yellow', label = 'Cluster 3')\n",
    "plt.xlabel('Points')\n",
    "plt.ylabel('Salary')\n",
    "plt.legend()"
   ]
  },
  {
   "cell_type": "code",
   "execution_count": 25,
   "id": "6969b664",
   "metadata": {},
   "outputs": [
    {
     "name": "stdout",
     "output_type": "stream",
     "text": [
      "Para 2 clusters, o score médiuo da silhueta é igual a  0.52\n",
      "Para 3 clusters, o score médiuo da silhueta é igual a  0.42\n",
      "Para 4 clusters, o score médiuo da silhueta é igual a  0.45\n",
      "Para 5 clusters, o score médiuo da silhueta é igual a  0.43\n"
     ]
    }
   ],
   "source": [
    "#Score da silhueta\n",
    "for num in range(2,6):\n",
    "    Model = KMeans(num, init='k-means++')\n",
    "    kmeans = Model.fit_predict(X)\n",
    "    print(\"Para \"+str(num)+\" clusters, o score médiuo da silhueta é igual a \", round(silhouette_score(X, kmeans),2))"
   ]
  },
  {
   "cell_type": "code",
   "execution_count": 26,
   "id": "a454b87b",
   "metadata": {
    "scrolled": false
   },
   "outputs": [
    {
     "data": {
      "image/png": "[encoded data removed]",
      "text/plain": [
       "<Figure size 432x288 with 1 Axes>"
      ]
     },
     "metadata": {
      "needs_background": "light"
     },
     "output_type": "display_data"
    },
    {
     "data": {
      "image/png": "[encoded data removed]",
      "text/plain": [
       "<Figure size 432x288 with 1 Axes>"
      ]
     },
     "metadata": {
      "needs_background": "light"
     },
     "output_type": "display_data"
    },
    {
     "data": {
      "image/png": "[encoded data removed]",
      "text/plain": [
       "<Figure size 432x288 with 1 Axes>"
      ]
     },
     "metadata": {
      "needs_background": "light"
     },
     "output_type": "display_data"
    },
    {
     "data": {
      "image/png": "[encoded data removed]",
      "text/plain": [
       "<Figure size 432x288 with 1 Axes>"
      ]
     },
     "metadata": {
      "needs_background": "light"
     },
     "output_type": "display_data"
    }
   ],
   "source": [
    "#Gráfico da silhueta\n",
    "X=pd.concat([Points, Salary],axis=1)\n",
    "for num in range(2,6):\n",
    "    Model = KMeans(num, init='k-means++')\n",
    "    kmeans = Model.fit_predict(X)\n",
    "    score = silhouette_score(X, kmeans)\n",
    "    values = silhouette_samples(X, kmeans)\n",
    "    fig = plt.subplots()\n",
    "    minimum = 0\n",
    "    for i in range(num):\n",
    "        SVI = \\\n",
    "            values[kmeans == i] #Silhouette Value of the current number of clusters\n",
    "        SVI.sort()\n",
    "        length = SVI.shape[0]\n",
    "        maximum = minimum + length\n",
    "        plt.fill_betweenx(np.arange(minimum, maximum), SVI)\n",
    "        minimum = maximum\n",
    "    plt.title(\"Gráfico da Silhueta com \"+str(num)+\" clusters\")\n",
    "    plt.xlabel(\"Score da silhueta\")\n",
    "    plt.axvline(x=score,color=\"black\")\n",
    "plt.show()\n"
   ]
  },
  {
   "cell_type": "code",
   "execution_count": null,
   "id": "10e2c722",
   "metadata": {},
   "outputs": [],
   "source": []
  }
 ],
 "metadata": {
  "kernelspec": {
   "display_name": "Python 3",
   "language": "python",
   "name": "python3"
  },
  "language_info": {
   "codemirror_mode": {
    "name": "ipython",
    "version": 3
   },
   "file_extension": ".py",
   "mimetype": "text/x-python",
   "name": "python",
   "nbconvert_exporter": "python",
   "pygments_lexer": "ipython3",
   "version": "3.8.8"
  }
 },
 "nbformat": 4,
 "nbformat_minor": 5
}
